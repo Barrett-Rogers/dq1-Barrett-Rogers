{
 "cells": [
  {
   "cell_type": "markdown",
   "metadata": {},
   "source": [
    "## Steps 1 - 5"
   ]
  },
  {
   "cell_type": "code",
   "execution_count": 1,
   "metadata": {},
   "outputs": [],
   "source": [
    "import pandas as pd\n",
    "import numpy as np\n",
    "import matplotlib.pyplot as plt \n",
    "import seaborn as sns\n",
    "import scipy.stats as stats\n",
    "from scipy.stats import skew\n",
    "import statsmodels.api as sm\n",
    "\n",
    "%matplotlib inline"
   ]
  },
  {
   "cell_type": "markdown",
   "metadata": {},
   "source": [
    "## Step 6"
   ]
  },
  {
   "cell_type": "code",
   "execution_count": 2,
   "metadata": {},
   "outputs": [],
   "source": [
    "gdp_df=pd.read_csv('data/gdp_per_capita.csv')"
   ]
  },
  {
   "cell_type": "code",
   "execution_count": 3,
   "metadata": {},
   "outputs": [
    {
     "data": {
      "text/html": [
       "<div>\n",
       "<style scoped>\n",
       "    .dataframe tbody tr th:only-of-type {\n",
       "        vertical-align: middle;\n",
       "    }\n",
       "\n",
       "    .dataframe tbody tr th {\n",
       "        vertical-align: top;\n",
       "    }\n",
       "\n",
       "    .dataframe thead th {\n",
       "        text-align: right;\n",
       "    }\n",
       "</style>\n",
       "<table border=\"1\" class=\"dataframe\">\n",
       "  <thead>\n",
       "    <tr style=\"text-align: right;\">\n",
       "      <th></th>\n",
       "      <th>Country or Area</th>\n",
       "      <th>Year</th>\n",
       "      <th>Value</th>\n",
       "      <th>Value Footnotes</th>\n",
       "    </tr>\n",
       "  </thead>\n",
       "  <tbody>\n",
       "    <tr>\n",
       "      <td>0</td>\n",
       "      <td>Afghanistan</td>\n",
       "      <td>2017</td>\n",
       "      <td>1758.465636</td>\n",
       "      <td>NaN</td>\n",
       "    </tr>\n",
       "    <tr>\n",
       "      <td>1</td>\n",
       "      <td>Afghanistan</td>\n",
       "      <td>2016</td>\n",
       "      <td>1757.023490</td>\n",
       "      <td>NaN</td>\n",
       "    </tr>\n",
       "    <tr>\n",
       "      <td>2</td>\n",
       "      <td>Afghanistan</td>\n",
       "      <td>2015</td>\n",
       "      <td>1766.593077</td>\n",
       "      <td>NaN</td>\n",
       "    </tr>\n",
       "    <tr>\n",
       "      <td>3</td>\n",
       "      <td>Afghanistan</td>\n",
       "      <td>2014</td>\n",
       "      <td>1795.735834</td>\n",
       "      <td>NaN</td>\n",
       "    </tr>\n",
       "    <tr>\n",
       "      <td>4</td>\n",
       "      <td>Afghanistan</td>\n",
       "      <td>2013</td>\n",
       "      <td>1807.762344</td>\n",
       "      <td>NaN</td>\n",
       "    </tr>\n",
       "    <tr>\n",
       "      <td>5</td>\n",
       "      <td>Afghanistan</td>\n",
       "      <td>2012</td>\n",
       "      <td>1772.764974</td>\n",
       "      <td>NaN</td>\n",
       "    </tr>\n",
       "    <tr>\n",
       "      <td>6</td>\n",
       "      <td>Afghanistan</td>\n",
       "      <td>2011</td>\n",
       "      <td>1626.764793</td>\n",
       "      <td>NaN</td>\n",
       "    </tr>\n",
       "    <tr>\n",
       "      <td>7</td>\n",
       "      <td>Afghanistan</td>\n",
       "      <td>2010</td>\n",
       "      <td>1671.581238</td>\n",
       "      <td>NaN</td>\n",
       "    </tr>\n",
       "    <tr>\n",
       "      <td>8</td>\n",
       "      <td>Afghanistan</td>\n",
       "      <td>2009</td>\n",
       "      <td>1502.354073</td>\n",
       "      <td>NaN</td>\n",
       "    </tr>\n",
       "    <tr>\n",
       "      <td>9</td>\n",
       "      <td>Afghanistan</td>\n",
       "      <td>2008</td>\n",
       "      <td>1267.644939</td>\n",
       "      <td>NaN</td>\n",
       "    </tr>\n",
       "  </tbody>\n",
       "</table>\n",
       "</div>"
      ],
      "text/plain": [
       "  Country or Area  Year        Value  Value Footnotes\n",
       "0     Afghanistan  2017  1758.465636              NaN\n",
       "1     Afghanistan  2016  1757.023490              NaN\n",
       "2     Afghanistan  2015  1766.593077              NaN\n",
       "3     Afghanistan  2014  1795.735834              NaN\n",
       "4     Afghanistan  2013  1807.762344              NaN\n",
       "5     Afghanistan  2012  1772.764974              NaN\n",
       "6     Afghanistan  2011  1626.764793              NaN\n",
       "7     Afghanistan  2010  1671.581238              NaN\n",
       "8     Afghanistan  2009  1502.354073              NaN\n",
       "9     Afghanistan  2008  1267.644939              NaN"
      ]
     },
     "execution_count": 3,
     "metadata": {},
     "output_type": "execute_result"
    }
   ],
   "source": [
    "gdp_df.head(10)"
   ]
  },
  {
   "cell_type": "code",
   "execution_count": 4,
   "metadata": {},
   "outputs": [
    {
     "data": {
      "text/html": [
       "<div>\n",
       "<style scoped>\n",
       "    .dataframe tbody tr th:only-of-type {\n",
       "        vertical-align: middle;\n",
       "    }\n",
       "\n",
       "    .dataframe tbody tr th {\n",
       "        vertical-align: top;\n",
       "    }\n",
       "\n",
       "    .dataframe thead th {\n",
       "        text-align: right;\n",
       "    }\n",
       "</style>\n",
       "<table border=\"1\" class=\"dataframe\">\n",
       "  <thead>\n",
       "    <tr style=\"text-align: right;\">\n",
       "      <th></th>\n",
       "      <th>Country or Area</th>\n",
       "      <th>Year</th>\n",
       "      <th>Value</th>\n",
       "      <th>Value Footnotes</th>\n",
       "    </tr>\n",
       "  </thead>\n",
       "  <tbody>\n",
       "    <tr>\n",
       "      <td>6497</td>\n",
       "      <td>Zimbabwe</td>\n",
       "      <td>1992</td>\n",
       "      <td>2591.007534</td>\n",
       "      <td>NaN</td>\n",
       "    </tr>\n",
       "    <tr>\n",
       "      <td>6498</td>\n",
       "      <td>Zimbabwe</td>\n",
       "      <td>1991</td>\n",
       "      <td>2906.272849</td>\n",
       "      <td>NaN</td>\n",
       "    </tr>\n",
       "    <tr>\n",
       "      <td>6499</td>\n",
       "      <td>Zimbabwe</td>\n",
       "      <td>1990</td>\n",
       "      <td>2819.549467</td>\n",
       "      <td>NaN</td>\n",
       "    </tr>\n",
       "    <tr>\n",
       "      <td>6500</td>\n",
       "      <td>footnoteSeqID</td>\n",
       "      <td>Footnote</td>\n",
       "      <td>NaN</td>\n",
       "      <td>NaN</td>\n",
       "    </tr>\n",
       "    <tr>\n",
       "      <td>6501</td>\n",
       "      <td>2</td>\n",
       "      <td>Excludes South Sudan after July 9, 2011.</td>\n",
       "      <td>NaN</td>\n",
       "      <td>NaN</td>\n",
       "    </tr>\n",
       "  </tbody>\n",
       "</table>\n",
       "</div>"
      ],
      "text/plain": [
       "     Country or Area                                      Year        Value  \\\n",
       "6497        Zimbabwe                                      1992  2591.007534   \n",
       "6498        Zimbabwe                                      1991  2906.272849   \n",
       "6499        Zimbabwe                                      1990  2819.549467   \n",
       "6500   footnoteSeqID                                  Footnote          NaN   \n",
       "6501               2  Excludes South Sudan after July 9, 2011.          NaN   \n",
       "\n",
       "      Value Footnotes  \n",
       "6497              NaN  \n",
       "6498              NaN  \n",
       "6499              NaN  \n",
       "6500              NaN  \n",
       "6501              NaN  "
      ]
     },
     "execution_count": 4,
     "metadata": {},
     "output_type": "execute_result"
    }
   ],
   "source": [
    "gdp_df.tail()"
   ]
  },
  {
   "cell_type": "code",
   "execution_count": 5,
   "metadata": {},
   "outputs": [],
   "source": [
    "gdp_df=gdp_df[0:6500]\n",
    "#could've used skipfooter or pd.csv('', nrows=) \n",
    "# downside of [] is that the data types at the bottom could mess up the slice"
   ]
  },
  {
   "cell_type": "code",
   "execution_count": 6,
   "metadata": {},
   "outputs": [
    {
     "data": {
      "text/html": [
       "<div>\n",
       "<style scoped>\n",
       "    .dataframe tbody tr th:only-of-type {\n",
       "        vertical-align: middle;\n",
       "    }\n",
       "\n",
       "    .dataframe tbody tr th {\n",
       "        vertical-align: top;\n",
       "    }\n",
       "\n",
       "    .dataframe thead th {\n",
       "        text-align: right;\n",
       "    }\n",
       "</style>\n",
       "<table border=\"1\" class=\"dataframe\">\n",
       "  <thead>\n",
       "    <tr style=\"text-align: right;\">\n",
       "      <th></th>\n",
       "      <th>Country or Area</th>\n",
       "      <th>Year</th>\n",
       "      <th>Value</th>\n",
       "      <th>Value Footnotes</th>\n",
       "    </tr>\n",
       "  </thead>\n",
       "  <tbody>\n",
       "    <tr>\n",
       "      <td>6495</td>\n",
       "      <td>Zimbabwe</td>\n",
       "      <td>1994</td>\n",
       "      <td>2768.309953</td>\n",
       "      <td>NaN</td>\n",
       "    </tr>\n",
       "    <tr>\n",
       "      <td>6496</td>\n",
       "      <td>Zimbabwe</td>\n",
       "      <td>1993</td>\n",
       "      <td>2572.870395</td>\n",
       "      <td>NaN</td>\n",
       "    </tr>\n",
       "    <tr>\n",
       "      <td>6497</td>\n",
       "      <td>Zimbabwe</td>\n",
       "      <td>1992</td>\n",
       "      <td>2591.007534</td>\n",
       "      <td>NaN</td>\n",
       "    </tr>\n",
       "    <tr>\n",
       "      <td>6498</td>\n",
       "      <td>Zimbabwe</td>\n",
       "      <td>1991</td>\n",
       "      <td>2906.272849</td>\n",
       "      <td>NaN</td>\n",
       "    </tr>\n",
       "    <tr>\n",
       "      <td>6499</td>\n",
       "      <td>Zimbabwe</td>\n",
       "      <td>1990</td>\n",
       "      <td>2819.549467</td>\n",
       "      <td>NaN</td>\n",
       "    </tr>\n",
       "  </tbody>\n",
       "</table>\n",
       "</div>"
      ],
      "text/plain": [
       "     Country or Area  Year        Value  Value Footnotes\n",
       "6495        Zimbabwe  1994  2768.309953              NaN\n",
       "6496        Zimbabwe  1993  2572.870395              NaN\n",
       "6497        Zimbabwe  1992  2591.007534              NaN\n",
       "6498        Zimbabwe  1991  2906.272849              NaN\n",
       "6499        Zimbabwe  1990  2819.549467              NaN"
      ]
     },
     "execution_count": 6,
     "metadata": {},
     "output_type": "execute_result"
    }
   ],
   "source": [
    "gdp_df.tail()"
   ]
  },
  {
   "cell_type": "markdown",
   "metadata": {},
   "source": [
    "## Step 7"
   ]
  },
  {
   "cell_type": "code",
   "execution_count": 7,
   "metadata": {},
   "outputs": [
    {
     "data": {
      "text/plain": [
       "(6500, 4)"
      ]
     },
     "execution_count": 7,
     "metadata": {},
     "output_type": "execute_result"
    }
   ],
   "source": [
    "gdp_df.shape"
   ]
  },
  {
   "cell_type": "code",
   "execution_count": 8,
   "metadata": {},
   "outputs": [
    {
     "name": "stdout",
     "output_type": "stream",
     "text": [
      "<class 'pandas.core.frame.DataFrame'>\n",
      "RangeIndex: 6500 entries, 0 to 6499\n",
      "Data columns (total 4 columns):\n",
      "Country or Area    6500 non-null object\n",
      "Year               6500 non-null object\n",
      "Value              6500 non-null float64\n",
      "Value Footnotes    1 non-null float64\n",
      "dtypes: float64(2), object(2)\n",
      "memory usage: 203.2+ KB\n"
     ]
    }
   ],
   "source": [
    "gdp_df.info()"
   ]
  },
  {
   "cell_type": "markdown",
   "metadata": {},
   "source": [
    "## Step 8 "
   ]
  },
  {
   "cell_type": "code",
   "execution_count": 9,
   "metadata": {},
   "outputs": [],
   "source": [
    "gdp_df=gdp_df.drop(columns={'Value Footnotes'})\n",
    "gdp_df=gdp_df.rename(columns={'Country or Area':'Country','Value':'GDP_Per_Capita'})\n",
    "# can chain together like gdp = (gdp.drop().rename()...)"
   ]
  },
  {
   "cell_type": "code",
   "execution_count": 10,
   "metadata": {},
   "outputs": [
    {
     "data": {
      "text/html": [
       "<div>\n",
       "<style scoped>\n",
       "    .dataframe tbody tr th:only-of-type {\n",
       "        vertical-align: middle;\n",
       "    }\n",
       "\n",
       "    .dataframe tbody tr th {\n",
       "        vertical-align: top;\n",
       "    }\n",
       "\n",
       "    .dataframe thead th {\n",
       "        text-align: right;\n",
       "    }\n",
       "</style>\n",
       "<table border=\"1\" class=\"dataframe\">\n",
       "  <thead>\n",
       "    <tr style=\"text-align: right;\">\n",
       "      <th></th>\n",
       "      <th>Country</th>\n",
       "      <th>Year</th>\n",
       "      <th>GDP_Per_Capita</th>\n",
       "    </tr>\n",
       "  </thead>\n",
       "  <tbody>\n",
       "    <tr>\n",
       "      <td>0</td>\n",
       "      <td>Afghanistan</td>\n",
       "      <td>2017</td>\n",
       "      <td>1758.465636</td>\n",
       "    </tr>\n",
       "    <tr>\n",
       "      <td>1</td>\n",
       "      <td>Afghanistan</td>\n",
       "      <td>2016</td>\n",
       "      <td>1757.023490</td>\n",
       "    </tr>\n",
       "    <tr>\n",
       "      <td>2</td>\n",
       "      <td>Afghanistan</td>\n",
       "      <td>2015</td>\n",
       "      <td>1766.593077</td>\n",
       "    </tr>\n",
       "    <tr>\n",
       "      <td>3</td>\n",
       "      <td>Afghanistan</td>\n",
       "      <td>2014</td>\n",
       "      <td>1795.735834</td>\n",
       "    </tr>\n",
       "    <tr>\n",
       "      <td>4</td>\n",
       "      <td>Afghanistan</td>\n",
       "      <td>2013</td>\n",
       "      <td>1807.762344</td>\n",
       "    </tr>\n",
       "  </tbody>\n",
       "</table>\n",
       "</div>"
      ],
      "text/plain": [
       "       Country  Year  GDP_Per_Capita\n",
       "0  Afghanistan  2017     1758.465636\n",
       "1  Afghanistan  2016     1757.023490\n",
       "2  Afghanistan  2015     1766.593077\n",
       "3  Afghanistan  2014     1795.735834\n",
       "4  Afghanistan  2013     1807.762344"
      ]
     },
     "execution_count": 10,
     "metadata": {},
     "output_type": "execute_result"
    }
   ],
   "source": [
    "gdp_df.head()"
   ]
  },
  {
   "cell_type": "markdown",
   "metadata": {},
   "source": [
    "## Step 9(a)"
   ]
  },
  {
   "cell_type": "code",
   "execution_count": 11,
   "metadata": {},
   "outputs": [],
   "source": [
    "continents_df=pd.read_csv('data/continents.csv')"
   ]
  },
  {
   "cell_type": "code",
   "execution_count": 12,
   "metadata": {},
   "outputs": [],
   "source": [
    "#To be changed in gdp_df\n",
    "#* Change \"CÃ´te d'Ivoire\" to \"Ivory Coast\"\n",
    "#* Change \"CuraÃ§ao\" to \"Curaçao\"\n",
    "#* Change \"SÃ£o TomÃ© and Principe\" to \"Sao Tome and Principe\"\n",
    "#* Change \"Sint Maarten (Dutch part)\" to \"Sint Maarten\""
   ]
  },
  {
   "cell_type": "code",
   "execution_count": 13,
   "metadata": {},
   "outputs": [
    {
     "name": "stdout",
     "output_type": "stream",
     "text": [
      "<class 'pandas.core.frame.DataFrame'>\n",
      "RangeIndex: 6500 entries, 0 to 6499\n",
      "Data columns (total 3 columns):\n",
      "Country           6500 non-null object\n",
      "Year              6500 non-null object\n",
      "GDP_Per_Capita    6500 non-null float64\n",
      "dtypes: float64(1), object(2)\n",
      "memory usage: 152.5+ KB\n"
     ]
    }
   ],
   "source": [
    "gdp_df.info()"
   ]
  },
  {
   "cell_type": "code",
   "execution_count": 14,
   "metadata": {},
   "outputs": [],
   "source": [
    "gdp_df = gdp_df.replace({\n",
    "    \"CÃ´te d'Ivoire\": 'Ivory Coast', \n",
    "    'CuraÃ§ao': 'Curaçao', \n",
    "    'SÃ£o TomÃ© and Principe':'Sao Tome and Principe',\n",
    "    'Sint Maarten (Dutch part)':' \"Sint Maarten'\n",
    "})\n",
    "# can also use .loc[] and can also just use .replace on just the column but on entire dataframe may be better depending. "
   ]
  },
  {
   "cell_type": "code",
   "execution_count": 15,
   "metadata": {},
   "outputs": [
    {
     "data": {
      "text/html": [
       "<div>\n",
       "<style scoped>\n",
       "    .dataframe tbody tr th:only-of-type {\n",
       "        vertical-align: middle;\n",
       "    }\n",
       "\n",
       "    .dataframe tbody tr th {\n",
       "        vertical-align: top;\n",
       "    }\n",
       "\n",
       "    .dataframe thead th {\n",
       "        text-align: right;\n",
       "    }\n",
       "</style>\n",
       "<table border=\"1\" class=\"dataframe\">\n",
       "  <thead>\n",
       "    <tr style=\"text-align: right;\">\n",
       "      <th></th>\n",
       "      <th>Country</th>\n",
       "      <th>Year</th>\n",
       "      <th>GDP_Per_Capita</th>\n",
       "    </tr>\n",
       "  </thead>\n",
       "  <tbody>\n",
       "    <tr>\n",
       "      <td>792</td>\n",
       "      <td>Ivory Coast</td>\n",
       "      <td>2017</td>\n",
       "      <td>3564.595846</td>\n",
       "    </tr>\n",
       "    <tr>\n",
       "      <td>793</td>\n",
       "      <td>Ivory Coast</td>\n",
       "      <td>2016</td>\n",
       "      <td>3395.088932</td>\n",
       "    </tr>\n",
       "    <tr>\n",
       "      <td>794</td>\n",
       "      <td>Ivory Coast</td>\n",
       "      <td>2015</td>\n",
       "      <td>3225.188859</td>\n",
       "    </tr>\n",
       "    <tr>\n",
       "      <td>795</td>\n",
       "      <td>Ivory Coast</td>\n",
       "      <td>2014</td>\n",
       "      <td>3038.844827</td>\n",
       "    </tr>\n",
       "    <tr>\n",
       "      <td>796</td>\n",
       "      <td>Ivory Coast</td>\n",
       "      <td>2013</td>\n",
       "      <td>2864.048627</td>\n",
       "    </tr>\n",
       "    <tr>\n",
       "      <td>797</td>\n",
       "      <td>Ivory Coast</td>\n",
       "      <td>2012</td>\n",
       "      <td>2696.191639</td>\n",
       "    </tr>\n",
       "    <tr>\n",
       "      <td>798</td>\n",
       "      <td>Ivory Coast</td>\n",
       "      <td>2011</td>\n",
       "      <td>2495.495125</td>\n",
       "    </tr>\n",
       "    <tr>\n",
       "      <td>799</td>\n",
       "      <td>Ivory Coast</td>\n",
       "      <td>2010</td>\n",
       "      <td>2673.013083</td>\n",
       "    </tr>\n",
       "    <tr>\n",
       "      <td>800</td>\n",
       "      <td>Ivory Coast</td>\n",
       "      <td>2009</td>\n",
       "      <td>2682.036638</td>\n",
       "    </tr>\n",
       "    <tr>\n",
       "      <td>801</td>\n",
       "      <td>Ivory Coast</td>\n",
       "      <td>2008</td>\n",
       "      <td>2657.672981</td>\n",
       "    </tr>\n",
       "    <tr>\n",
       "      <td>802</td>\n",
       "      <td>Ivory Coast</td>\n",
       "      <td>2007</td>\n",
       "      <td>2650.485963</td>\n",
       "    </tr>\n",
       "    <tr>\n",
       "      <td>803</td>\n",
       "      <td>Ivory Coast</td>\n",
       "      <td>2006</td>\n",
       "      <td>2662.330254</td>\n",
       "    </tr>\n",
       "    <tr>\n",
       "      <td>804</td>\n",
       "      <td>Ivory Coast</td>\n",
       "      <td>2005</td>\n",
       "      <td>2679.787386</td>\n",
       "    </tr>\n",
       "    <tr>\n",
       "      <td>805</td>\n",
       "      <td>Ivory Coast</td>\n",
       "      <td>2004</td>\n",
       "      <td>2690.738762</td>\n",
       "    </tr>\n",
       "    <tr>\n",
       "      <td>806</td>\n",
       "      <td>Ivory Coast</td>\n",
       "      <td>2003</td>\n",
       "      <td>2714.011379</td>\n",
       "    </tr>\n",
       "    <tr>\n",
       "      <td>807</td>\n",
       "      <td>Ivory Coast</td>\n",
       "      <td>2002</td>\n",
       "      <td>2810.189031</td>\n",
       "    </tr>\n",
       "    <tr>\n",
       "      <td>808</td>\n",
       "      <td>Ivory Coast</td>\n",
       "      <td>2001</td>\n",
       "      <td>2922.033952</td>\n",
       "    </tr>\n",
       "    <tr>\n",
       "      <td>809</td>\n",
       "      <td>Ivory Coast</td>\n",
       "      <td>2000</td>\n",
       "      <td>2989.146720</td>\n",
       "    </tr>\n",
       "    <tr>\n",
       "      <td>810</td>\n",
       "      <td>Ivory Coast</td>\n",
       "      <td>1999</td>\n",
       "      <td>3132.638498</td>\n",
       "    </tr>\n",
       "    <tr>\n",
       "      <td>811</td>\n",
       "      <td>Ivory Coast</td>\n",
       "      <td>1998</td>\n",
       "      <td>3170.407545</td>\n",
       "    </tr>\n",
       "    <tr>\n",
       "      <td>812</td>\n",
       "      <td>Ivory Coast</td>\n",
       "      <td>1997</td>\n",
       "      <td>3113.038123</td>\n",
       "    </tr>\n",
       "    <tr>\n",
       "      <td>813</td>\n",
       "      <td>Ivory Coast</td>\n",
       "      <td>1996</td>\n",
       "      <td>3095.960786</td>\n",
       "    </tr>\n",
       "    <tr>\n",
       "      <td>814</td>\n",
       "      <td>Ivory Coast</td>\n",
       "      <td>1995</td>\n",
       "      <td>2968.016191</td>\n",
       "    </tr>\n",
       "    <tr>\n",
       "      <td>815</td>\n",
       "      <td>Ivory Coast</td>\n",
       "      <td>1994</td>\n",
       "      <td>2864.251321</td>\n",
       "    </tr>\n",
       "    <tr>\n",
       "      <td>816</td>\n",
       "      <td>Ivory Coast</td>\n",
       "      <td>1993</td>\n",
       "      <td>2940.491802</td>\n",
       "    </tr>\n",
       "    <tr>\n",
       "      <td>817</td>\n",
       "      <td>Ivory Coast</td>\n",
       "      <td>1992</td>\n",
       "      <td>3051.758908</td>\n",
       "    </tr>\n",
       "    <tr>\n",
       "      <td>818</td>\n",
       "      <td>Ivory Coast</td>\n",
       "      <td>1991</td>\n",
       "      <td>3170.602503</td>\n",
       "    </tr>\n",
       "    <tr>\n",
       "      <td>819</td>\n",
       "      <td>Ivory Coast</td>\n",
       "      <td>1990</td>\n",
       "      <td>3285.588941</td>\n",
       "    </tr>\n",
       "  </tbody>\n",
       "</table>\n",
       "</div>"
      ],
      "text/plain": [
       "         Country  Year  GDP_Per_Capita\n",
       "792  Ivory Coast  2017     3564.595846\n",
       "793  Ivory Coast  2016     3395.088932\n",
       "794  Ivory Coast  2015     3225.188859\n",
       "795  Ivory Coast  2014     3038.844827\n",
       "796  Ivory Coast  2013     2864.048627\n",
       "797  Ivory Coast  2012     2696.191639\n",
       "798  Ivory Coast  2011     2495.495125\n",
       "799  Ivory Coast  2010     2673.013083\n",
       "800  Ivory Coast  2009     2682.036638\n",
       "801  Ivory Coast  2008     2657.672981\n",
       "802  Ivory Coast  2007     2650.485963\n",
       "803  Ivory Coast  2006     2662.330254\n",
       "804  Ivory Coast  2005     2679.787386\n",
       "805  Ivory Coast  2004     2690.738762\n",
       "806  Ivory Coast  2003     2714.011379\n",
       "807  Ivory Coast  2002     2810.189031\n",
       "808  Ivory Coast  2001     2922.033952\n",
       "809  Ivory Coast  2000     2989.146720\n",
       "810  Ivory Coast  1999     3132.638498\n",
       "811  Ivory Coast  1998     3170.407545\n",
       "812  Ivory Coast  1997     3113.038123\n",
       "813  Ivory Coast  1996     3095.960786\n",
       "814  Ivory Coast  1995     2968.016191\n",
       "815  Ivory Coast  1994     2864.251321\n",
       "816  Ivory Coast  1993     2940.491802\n",
       "817  Ivory Coast  1992     3051.758908\n",
       "818  Ivory Coast  1991     3170.602503\n",
       "819  Ivory Coast  1990     3285.588941"
      ]
     },
     "execution_count": 15,
     "metadata": {},
     "output_type": "execute_result"
    }
   ],
   "source": [
    "gdp_df[gdp_df.Country=='Ivory Coast']"
   ]
  },
  {
   "cell_type": "markdown",
   "metadata": {},
   "source": [
    "## Step 9(b)"
   ]
  },
  {
   "cell_type": "code",
   "execution_count": 16,
   "metadata": {},
   "outputs": [],
   "source": [
    "gdp_df= pd.merge(continents_df, gdp_df, how='inner')"
   ]
  },
  {
   "cell_type": "code",
   "execution_count": 17,
   "metadata": {},
   "outputs": [
    {
     "data": {
      "text/html": [
       "<div>\n",
       "<style scoped>\n",
       "    .dataframe tbody tr th:only-of-type {\n",
       "        vertical-align: middle;\n",
       "    }\n",
       "\n",
       "    .dataframe tbody tr th {\n",
       "        vertical-align: top;\n",
       "    }\n",
       "\n",
       "    .dataframe thead th {\n",
       "        text-align: right;\n",
       "    }\n",
       "</style>\n",
       "<table border=\"1\" class=\"dataframe\">\n",
       "  <thead>\n",
       "    <tr style=\"text-align: right;\">\n",
       "      <th></th>\n",
       "      <th>Continent</th>\n",
       "      <th>Country</th>\n",
       "      <th>Year</th>\n",
       "      <th>GDP_Per_Capita</th>\n",
       "    </tr>\n",
       "  </thead>\n",
       "  <tbody>\n",
       "    <tr>\n",
       "      <td>0</td>\n",
       "      <td>Asia</td>\n",
       "      <td>Afghanistan</td>\n",
       "      <td>2017</td>\n",
       "      <td>1758.465636</td>\n",
       "    </tr>\n",
       "    <tr>\n",
       "      <td>1</td>\n",
       "      <td>Asia</td>\n",
       "      <td>Afghanistan</td>\n",
       "      <td>2016</td>\n",
       "      <td>1757.023490</td>\n",
       "    </tr>\n",
       "    <tr>\n",
       "      <td>2</td>\n",
       "      <td>Asia</td>\n",
       "      <td>Afghanistan</td>\n",
       "      <td>2015</td>\n",
       "      <td>1766.593077</td>\n",
       "    </tr>\n",
       "    <tr>\n",
       "      <td>3</td>\n",
       "      <td>Asia</td>\n",
       "      <td>Afghanistan</td>\n",
       "      <td>2014</td>\n",
       "      <td>1795.735834</td>\n",
       "    </tr>\n",
       "    <tr>\n",
       "      <td>4</td>\n",
       "      <td>Asia</td>\n",
       "      <td>Afghanistan</td>\n",
       "      <td>2013</td>\n",
       "      <td>1807.762344</td>\n",
       "    </tr>\n",
       "    <tr>\n",
       "      <td>...</td>\n",
       "      <td>...</td>\n",
       "      <td>...</td>\n",
       "      <td>...</td>\n",
       "      <td>...</td>\n",
       "    </tr>\n",
       "    <tr>\n",
       "      <td>5212</td>\n",
       "      <td>Africa</td>\n",
       "      <td>Zimbabwe</td>\n",
       "      <td>1994</td>\n",
       "      <td>2768.309953</td>\n",
       "    </tr>\n",
       "    <tr>\n",
       "      <td>5213</td>\n",
       "      <td>Africa</td>\n",
       "      <td>Zimbabwe</td>\n",
       "      <td>1993</td>\n",
       "      <td>2572.870395</td>\n",
       "    </tr>\n",
       "    <tr>\n",
       "      <td>5214</td>\n",
       "      <td>Africa</td>\n",
       "      <td>Zimbabwe</td>\n",
       "      <td>1992</td>\n",
       "      <td>2591.007534</td>\n",
       "    </tr>\n",
       "    <tr>\n",
       "      <td>5215</td>\n",
       "      <td>Africa</td>\n",
       "      <td>Zimbabwe</td>\n",
       "      <td>1991</td>\n",
       "      <td>2906.272849</td>\n",
       "    </tr>\n",
       "    <tr>\n",
       "      <td>5216</td>\n",
       "      <td>Africa</td>\n",
       "      <td>Zimbabwe</td>\n",
       "      <td>1990</td>\n",
       "      <td>2819.549467</td>\n",
       "    </tr>\n",
       "  </tbody>\n",
       "</table>\n",
       "<p>5217 rows × 4 columns</p>\n",
       "</div>"
      ],
      "text/plain": [
       "     Continent      Country  Year  GDP_Per_Capita\n",
       "0         Asia  Afghanistan  2017     1758.465636\n",
       "1         Asia  Afghanistan  2016     1757.023490\n",
       "2         Asia  Afghanistan  2015     1766.593077\n",
       "3         Asia  Afghanistan  2014     1795.735834\n",
       "4         Asia  Afghanistan  2013     1807.762344\n",
       "...        ...          ...   ...             ...\n",
       "5212    Africa     Zimbabwe  1994     2768.309953\n",
       "5213    Africa     Zimbabwe  1993     2572.870395\n",
       "5214    Africa     Zimbabwe  1992     2591.007534\n",
       "5215    Africa     Zimbabwe  1991     2906.272849\n",
       "5216    Africa     Zimbabwe  1990     2819.549467\n",
       "\n",
       "[5217 rows x 4 columns]"
      ]
     },
     "execution_count": 17,
     "metadata": {},
     "output_type": "execute_result"
    }
   ],
   "source": [
    "gdp_df"
   ]
  },
  {
   "cell_type": "markdown",
   "metadata": {},
   "source": [
    "## Step 10 "
   ]
  },
  {
   "cell_type": "code",
   "execution_count": 18,
   "metadata": {},
   "outputs": [
    {
     "name": "stdout",
     "output_type": "stream",
     "text": [
      "<class 'pandas.core.frame.DataFrame'>\n",
      "Int64Index: 5217 entries, 0 to 5216\n",
      "Data columns (total 4 columns):\n",
      "Continent         5217 non-null object\n",
      "Country           5217 non-null object\n",
      "Year              5217 non-null object\n",
      "GDP_Per_Capita    5217 non-null float64\n",
      "dtypes: float64(1), object(3)\n",
      "memory usage: 203.8+ KB\n"
     ]
    }
   ],
   "source": [
    "gdp_df.info()"
   ]
  },
  {
   "cell_type": "code",
   "execution_count": 19,
   "metadata": {},
   "outputs": [
    {
     "name": "stdout",
     "output_type": "stream",
     "text": [
      "CPU times: user 2.39 ms, sys: 525 µs, total: 2.91 ms\n",
      "Wall time: 2.41 ms\n"
     ]
    },
    {
     "data": {
      "text/plain": [
       "Continent\n",
       "Africa            4588.289835\n",
       "Asia             21174.893215\n",
       "Europe           26497.245133\n",
       "North America    19068.562312\n",
       "Oceania           8818.318792\n",
       "South America    10989.950644\n",
       "Name: GDP_Per_Capita, dtype: float64"
      ]
     },
     "execution_count": 19,
     "metadata": {},
     "output_type": "execute_result"
    }
   ],
   "source": [
    "%%time\n",
    "\n",
    "gdp_df.groupby('Continent').GDP_Per_Capita.mean()"
   ]
  },
  {
   "cell_type": "code",
   "execution_count": 20,
   "metadata": {},
   "outputs": [],
   "source": [
    "gdp_df['Continent'] = gdp_df['Continent'].astype('category')"
   ]
  },
  {
   "cell_type": "code",
   "execution_count": 21,
   "metadata": {},
   "outputs": [
    {
     "data": {
      "text/html": [
       "<div>\n",
       "<style scoped>\n",
       "    .dataframe tbody tr th:only-of-type {\n",
       "        vertical-align: middle;\n",
       "    }\n",
       "\n",
       "    .dataframe tbody tr th {\n",
       "        vertical-align: top;\n",
       "    }\n",
       "\n",
       "    .dataframe thead th {\n",
       "        text-align: right;\n",
       "    }\n",
       "</style>\n",
       "<table border=\"1\" class=\"dataframe\">\n",
       "  <thead>\n",
       "    <tr style=\"text-align: right;\">\n",
       "      <th></th>\n",
       "      <th>Continent</th>\n",
       "      <th>Country</th>\n",
       "      <th>Year</th>\n",
       "      <th>GDP_Per_Capita</th>\n",
       "    </tr>\n",
       "  </thead>\n",
       "  <tbody>\n",
       "    <tr>\n",
       "      <td>0</td>\n",
       "      <td>Asia</td>\n",
       "      <td>Afghanistan</td>\n",
       "      <td>2017</td>\n",
       "      <td>1758.465636</td>\n",
       "    </tr>\n",
       "    <tr>\n",
       "      <td>1</td>\n",
       "      <td>Asia</td>\n",
       "      <td>Afghanistan</td>\n",
       "      <td>2016</td>\n",
       "      <td>1757.023490</td>\n",
       "    </tr>\n",
       "    <tr>\n",
       "      <td>2</td>\n",
       "      <td>Asia</td>\n",
       "      <td>Afghanistan</td>\n",
       "      <td>2015</td>\n",
       "      <td>1766.593077</td>\n",
       "    </tr>\n",
       "    <tr>\n",
       "      <td>3</td>\n",
       "      <td>Asia</td>\n",
       "      <td>Afghanistan</td>\n",
       "      <td>2014</td>\n",
       "      <td>1795.735834</td>\n",
       "    </tr>\n",
       "    <tr>\n",
       "      <td>4</td>\n",
       "      <td>Asia</td>\n",
       "      <td>Afghanistan</td>\n",
       "      <td>2013</td>\n",
       "      <td>1807.762344</td>\n",
       "    </tr>\n",
       "    <tr>\n",
       "      <td>...</td>\n",
       "      <td>...</td>\n",
       "      <td>...</td>\n",
       "      <td>...</td>\n",
       "      <td>...</td>\n",
       "    </tr>\n",
       "    <tr>\n",
       "      <td>5212</td>\n",
       "      <td>Africa</td>\n",
       "      <td>Zimbabwe</td>\n",
       "      <td>1994</td>\n",
       "      <td>2768.309953</td>\n",
       "    </tr>\n",
       "    <tr>\n",
       "      <td>5213</td>\n",
       "      <td>Africa</td>\n",
       "      <td>Zimbabwe</td>\n",
       "      <td>1993</td>\n",
       "      <td>2572.870395</td>\n",
       "    </tr>\n",
       "    <tr>\n",
       "      <td>5214</td>\n",
       "      <td>Africa</td>\n",
       "      <td>Zimbabwe</td>\n",
       "      <td>1992</td>\n",
       "      <td>2591.007534</td>\n",
       "    </tr>\n",
       "    <tr>\n",
       "      <td>5215</td>\n",
       "      <td>Africa</td>\n",
       "      <td>Zimbabwe</td>\n",
       "      <td>1991</td>\n",
       "      <td>2906.272849</td>\n",
       "    </tr>\n",
       "    <tr>\n",
       "      <td>5216</td>\n",
       "      <td>Africa</td>\n",
       "      <td>Zimbabwe</td>\n",
       "      <td>1990</td>\n",
       "      <td>2819.549467</td>\n",
       "    </tr>\n",
       "  </tbody>\n",
       "</table>\n",
       "<p>5217 rows × 4 columns</p>\n",
       "</div>"
      ],
      "text/plain": [
       "     Continent      Country  Year  GDP_Per_Capita\n",
       "0         Asia  Afghanistan  2017     1758.465636\n",
       "1         Asia  Afghanistan  2016     1757.023490\n",
       "2         Asia  Afghanistan  2015     1766.593077\n",
       "3         Asia  Afghanistan  2014     1795.735834\n",
       "4         Asia  Afghanistan  2013     1807.762344\n",
       "...        ...          ...   ...             ...\n",
       "5212    Africa     Zimbabwe  1994     2768.309953\n",
       "5213    Africa     Zimbabwe  1993     2572.870395\n",
       "5214    Africa     Zimbabwe  1992     2591.007534\n",
       "5215    Africa     Zimbabwe  1991     2906.272849\n",
       "5216    Africa     Zimbabwe  1990     2819.549467\n",
       "\n",
       "[5217 rows x 4 columns]"
      ]
     },
     "execution_count": 21,
     "metadata": {},
     "output_type": "execute_result"
    }
   ],
   "source": [
    "gdp_df"
   ]
  },
  {
   "cell_type": "code",
   "execution_count": 22,
   "metadata": {},
   "outputs": [
    {
     "name": "stdout",
     "output_type": "stream",
     "text": [
      "CPU times: user 1.61 ms, sys: 169 µs, total: 1.77 ms\n",
      "Wall time: 1.78 ms\n"
     ]
    },
    {
     "data": {
      "text/plain": [
       "Continent\n",
       "Africa            4588.289835\n",
       "Asia             21174.893215\n",
       "Europe           26497.245133\n",
       "North America    19068.562312\n",
       "Oceania           8818.318792\n",
       "South America    10989.950644\n",
       "Name: GDP_Per_Capita, dtype: float64"
      ]
     },
     "execution_count": 22,
     "metadata": {},
     "output_type": "execute_result"
    }
   ],
   "source": [
    "%%time\n",
    "\n",
    "gdp_df.groupby('Continent').GDP_Per_Capita.mean()"
   ]
  },
  {
   "cell_type": "markdown",
   "metadata": {},
   "source": [
    "## Step 11"
   ]
  },
  {
   "cell_type": "code",
   "execution_count": 23,
   "metadata": {},
   "outputs": [
    {
     "name": "stdout",
     "output_type": "stream",
     "text": [
      "<class 'pandas.core.frame.DataFrame'>\n",
      "Int64Index: 5217 entries, 0 to 5216\n",
      "Data columns (total 4 columns):\n",
      "Continent         5217 non-null category\n",
      "Country           5217 non-null object\n",
      "Year              5217 non-null object\n",
      "GDP_Per_Capita    5217 non-null float64\n",
      "dtypes: category(1), float64(1), object(2)\n",
      "memory usage: 168.3+ KB\n"
     ]
    }
   ],
   "source": [
    "gdp_df.info()"
   ]
  },
  {
   "cell_type": "code",
   "execution_count": 24,
   "metadata": {},
   "outputs": [
    {
     "data": {
      "text/plain": [
       "Index(['Continent', 'Country', 'Year', 'GDP_Per_Capita'], dtype='object')"
      ]
     },
     "execution_count": 24,
     "metadata": {},
     "output_type": "execute_result"
    }
   ],
   "source": [
    "gdp_df.columns"
   ]
  },
  {
   "cell_type": "code",
   "execution_count": 25,
   "metadata": {},
   "outputs": [
    {
     "data": {
      "text/plain": [
       "Continent\n",
       "Africa           1400\n",
       "Asia             1183\n",
       "Europe           1202\n",
       "North America     734\n",
       "Oceania           365\n",
       "South America     333\n",
       "Name: Country, dtype: int64"
      ]
     },
     "execution_count": 25,
     "metadata": {},
     "output_type": "execute_result"
    }
   ],
   "source": [
    "gdp_df.groupby('Continent').Country.count()"
   ]
  },
  {
   "cell_type": "code",
   "execution_count": 26,
   "metadata": {},
   "outputs": [
    {
     "data": {
      "text/plain": [
       "Continent      Country     \n",
       "Africa         Algeria         28\n",
       "               Angola          28\n",
       "               Benin           28\n",
       "               Botswana        28\n",
       "               Burkina Faso    28\n",
       "                               ..\n",
       "South America  Paraguay        28\n",
       "               Peru            28\n",
       "               Suriname        28\n",
       "               Uruguay         28\n",
       "               Venezuela       25\n",
       "Name: Country, Length: 195, dtype: int64"
      ]
     },
     "execution_count": 26,
     "metadata": {},
     "output_type": "execute_result"
    }
   ],
   "source": [
    "gdp_df.groupby('Continent').Country.value_counts()"
   ]
  },
  {
   "cell_type": "code",
   "execution_count": 27,
   "metadata": {},
   "outputs": [
    {
     "data": {
      "text/plain": [
       "{'Africa': 53,\n",
       " 'Asia': 44,\n",
       " 'Europe': 45,\n",
       " 'North America': 27,\n",
       " 'Oceania': 14,\n",
       " 'South America': 12}"
      ]
     },
     "execution_count": 27,
     "metadata": {},
     "output_type": "execute_result"
    }
   ],
   "source": [
    "width=gdp_df.groupby('Continent').Country.nunique().to_dict()\n",
    "width"
   ]
  },
  {
   "cell_type": "code",
   "execution_count": 28,
   "metadata": {},
   "outputs": [
    {
     "data": {
      "text/plain": [
       "dict_keys(['Africa', 'Asia', 'Europe', 'North America', 'Oceania', 'South America'])"
      ]
     },
     "execution_count": 28,
     "metadata": {},
     "output_type": "execute_result"
    }
   ],
   "source": [
    "width.keys()"
   ]
  },
  {
   "cell_type": "code",
   "execution_count": 29,
   "metadata": {},
   "outputs": [
    {
     "data": {
      "text/plain": [
       "dict_values([53, 44, 45, 27, 14, 12])"
      ]
     },
     "execution_count": 29,
     "metadata": {},
     "output_type": "execute_result"
    }
   ],
   "source": [
    "width.values()"
   ]
  },
  {
   "cell_type": "code",
   "execution_count": 30,
   "metadata": {},
   "outputs": [
    {
     "data": {
      "text/plain": [
       "Continent\n",
       "Africa           [Algeria, Angola, Benin, Botswana, Burkina Fas...\n",
       "Asia             [Afghanistan, Bahrain, Bangladesh, Bhutan, Bru...\n",
       "Europe           [Albania, Armenia, Austria, Azerbaijan, Belaru...\n",
       "North America    [Antigua and Barbuda, Aruba, The Bahamas, Barb...\n",
       "Oceania          [Australia, Fiji, Kiribati, Marshall Islands, ...\n",
       "South America    [Argentina, Bolivia, Brazil, Chile, Colombia, ...\n",
       "Name: Country, dtype: object"
      ]
     },
     "execution_count": 30,
     "metadata": {},
     "output_type": "execute_result"
    }
   ],
   "source": [
    "gdp_df.groupby('Continent').Country.unique()"
   ]
  },
  {
   "cell_type": "code",
   "execution_count": 31,
   "metadata": {},
   "outputs": [
    {
     "data": {
      "text/plain": [
       "[Asia, Europe, Africa, North America, South America, Oceania]\n",
       "Categories (6, object): [Asia, Europe, Africa, North America, South America, Oceania]"
      ]
     },
     "execution_count": 31,
     "metadata": {},
     "output_type": "execute_result"
    }
   ],
   "source": [
    "gdp_df.Continent.unique()"
   ]
  },
  {
   "cell_type": "code",
   "execution_count": 32,
   "metadata": {},
   "outputs": [
    {
     "data": {
      "image/png": "[encoded data removed]",
      "text/plain": [
       "<Figure size 432x648 with 1 Axes>"
      ]
     },
     "metadata": {
      "needs_background": "light"
     },
     "output_type": "display_data"
    }
   ],
   "source": [
    "plt.figure(figsize = (6, 9))\n",
    "plt.barh(y=list(width.keys()), width=list(width.values()) , color = 'blue', edgecolor = 'black');\n",
    "plt.title(\"Countries per Continent\");"
   ]
  },
  {
   "cell_type": "markdown",
   "metadata": {},
   "source": [
    "## Step 12"
   ]
  },
  {
   "cell_type": "code",
   "execution_count": 33,
   "metadata": {},
   "outputs": [],
   "source": [
    "#How many countries are represented in this dataset? What range of years are represented?"
   ]
  },
  {
   "cell_type": "code",
   "execution_count": 34,
   "metadata": {},
   "outputs": [
    {
     "data": {
      "text/plain": [
       "195"
      ]
     },
     "execution_count": 34,
     "metadata": {},
     "output_type": "execute_result"
    }
   ],
   "source": [
    "gdp_df.Country.nunique()"
   ]
  },
  {
   "cell_type": "code",
   "execution_count": 35,
   "metadata": {},
   "outputs": [
    {
     "data": {
      "text/plain": [
       "Index(['Continent', 'Country', 'Year', 'GDP_Per_Capita'], dtype='object')"
      ]
     },
     "execution_count": 35,
     "metadata": {},
     "output_type": "execute_result"
    }
   ],
   "source": [
    "gdp_df.columns"
   ]
  },
  {
   "cell_type": "code",
   "execution_count": 36,
   "metadata": {},
   "outputs": [
    {
     "data": {
      "text/plain": [
       "28"
      ]
     },
     "execution_count": 36,
     "metadata": {},
     "output_type": "execute_result"
    }
   ],
   "source": [
    "gdp_df.Year.nunique()"
   ]
  },
  {
   "cell_type": "markdown",
   "metadata": {},
   "source": [
    "## Step 13"
   ]
  },
  {
   "cell_type": "code",
   "execution_count": 37,
   "metadata": {},
   "outputs": [],
   "source": [
    "#Create a new dataframe by subsetting `gdp_df` to just the year 2014. Call this new dataframe `gdp_2014`."
   ]
  },
  {
   "cell_type": "code",
   "execution_count": 38,
   "metadata": {},
   "outputs": [
    {
     "data": {
      "text/plain": [
       "'2014'"
      ]
     },
     "execution_count": 38,
     "metadata": {},
     "output_type": "execute_result"
    }
   ],
   "source": [
    "gdp_df.Year[19]"
   ]
  },
  {
   "cell_type": "code",
   "execution_count": 39,
   "metadata": {},
   "outputs": [
    {
     "data": {
      "text/html": [
       "<div>\n",
       "<style scoped>\n",
       "    .dataframe tbody tr th:only-of-type {\n",
       "        vertical-align: middle;\n",
       "    }\n",
       "\n",
       "    .dataframe tbody tr th {\n",
       "        vertical-align: top;\n",
       "    }\n",
       "\n",
       "    .dataframe thead th {\n",
       "        text-align: right;\n",
       "    }\n",
       "</style>\n",
       "<table border=\"1\" class=\"dataframe\">\n",
       "  <thead>\n",
       "    <tr style=\"text-align: right;\">\n",
       "      <th></th>\n",
       "      <th>Continent</th>\n",
       "      <th>Country</th>\n",
       "      <th>Year</th>\n",
       "      <th>GDP_Per_Capita</th>\n",
       "    </tr>\n",
       "    <tr>\n",
       "      <th>Year</th>\n",
       "      <th></th>\n",
       "      <th></th>\n",
       "      <th></th>\n",
       "      <th></th>\n",
       "    </tr>\n",
       "  </thead>\n",
       "  <tbody>\n",
       "    <tr>\n",
       "      <td>1990</td>\n",
       "      <td>6</td>\n",
       "      <td>166</td>\n",
       "      <td>1</td>\n",
       "      <td>166</td>\n",
       "    </tr>\n",
       "    <tr>\n",
       "      <td>1991</td>\n",
       "      <td>6</td>\n",
       "      <td>167</td>\n",
       "      <td>1</td>\n",
       "      <td>167</td>\n",
       "    </tr>\n",
       "    <tr>\n",
       "      <td>1992</td>\n",
       "      <td>6</td>\n",
       "      <td>169</td>\n",
       "      <td>1</td>\n",
       "      <td>169</td>\n",
       "    </tr>\n",
       "    <tr>\n",
       "      <td>1993</td>\n",
       "      <td>6</td>\n",
       "      <td>171</td>\n",
       "      <td>1</td>\n",
       "      <td>171</td>\n",
       "    </tr>\n",
       "    <tr>\n",
       "      <td>1994</td>\n",
       "      <td>6</td>\n",
       "      <td>174</td>\n",
       "      <td>1</td>\n",
       "      <td>174</td>\n",
       "    </tr>\n",
       "    <tr>\n",
       "      <td>1995</td>\n",
       "      <td>6</td>\n",
       "      <td>180</td>\n",
       "      <td>1</td>\n",
       "      <td>180</td>\n",
       "    </tr>\n",
       "    <tr>\n",
       "      <td>1996</td>\n",
       "      <td>6</td>\n",
       "      <td>180</td>\n",
       "      <td>1</td>\n",
       "      <td>180</td>\n",
       "    </tr>\n",
       "    <tr>\n",
       "      <td>1997</td>\n",
       "      <td>6</td>\n",
       "      <td>182</td>\n",
       "      <td>1</td>\n",
       "      <td>182</td>\n",
       "    </tr>\n",
       "    <tr>\n",
       "      <td>1998</td>\n",
       "      <td>6</td>\n",
       "      <td>183</td>\n",
       "      <td>1</td>\n",
       "      <td>183</td>\n",
       "    </tr>\n",
       "    <tr>\n",
       "      <td>1999</td>\n",
       "      <td>6</td>\n",
       "      <td>184</td>\n",
       "      <td>1</td>\n",
       "      <td>184</td>\n",
       "    </tr>\n",
       "    <tr>\n",
       "      <td>2000</td>\n",
       "      <td>6</td>\n",
       "      <td>190</td>\n",
       "      <td>1</td>\n",
       "      <td>190</td>\n",
       "    </tr>\n",
       "    <tr>\n",
       "      <td>2001</td>\n",
       "      <td>6</td>\n",
       "      <td>191</td>\n",
       "      <td>1</td>\n",
       "      <td>191</td>\n",
       "    </tr>\n",
       "    <tr>\n",
       "      <td>2002</td>\n",
       "      <td>6</td>\n",
       "      <td>192</td>\n",
       "      <td>1</td>\n",
       "      <td>192</td>\n",
       "    </tr>\n",
       "    <tr>\n",
       "      <td>2003</td>\n",
       "      <td>6</td>\n",
       "      <td>192</td>\n",
       "      <td>1</td>\n",
       "      <td>192</td>\n",
       "    </tr>\n",
       "    <tr>\n",
       "      <td>2004</td>\n",
       "      <td>6</td>\n",
       "      <td>192</td>\n",
       "      <td>1</td>\n",
       "      <td>192</td>\n",
       "    </tr>\n",
       "    <tr>\n",
       "      <td>2005</td>\n",
       "      <td>6</td>\n",
       "      <td>192</td>\n",
       "      <td>1</td>\n",
       "      <td>192</td>\n",
       "    </tr>\n",
       "    <tr>\n",
       "      <td>2006</td>\n",
       "      <td>6</td>\n",
       "      <td>192</td>\n",
       "      <td>1</td>\n",
       "      <td>192</td>\n",
       "    </tr>\n",
       "    <tr>\n",
       "      <td>2007</td>\n",
       "      <td>6</td>\n",
       "      <td>193</td>\n",
       "      <td>1</td>\n",
       "      <td>193</td>\n",
       "    </tr>\n",
       "    <tr>\n",
       "      <td>2008</td>\n",
       "      <td>6</td>\n",
       "      <td>194</td>\n",
       "      <td>1</td>\n",
       "      <td>194</td>\n",
       "    </tr>\n",
       "    <tr>\n",
       "      <td>2009</td>\n",
       "      <td>6</td>\n",
       "      <td>194</td>\n",
       "      <td>1</td>\n",
       "      <td>194</td>\n",
       "    </tr>\n",
       "    <tr>\n",
       "      <td>2010</td>\n",
       "      <td>6</td>\n",
       "      <td>194</td>\n",
       "      <td>1</td>\n",
       "      <td>194</td>\n",
       "    </tr>\n",
       "    <tr>\n",
       "      <td>2011</td>\n",
       "      <td>6</td>\n",
       "      <td>195</td>\n",
       "      <td>1</td>\n",
       "      <td>195</td>\n",
       "    </tr>\n",
       "    <tr>\n",
       "      <td>2012</td>\n",
       "      <td>6</td>\n",
       "      <td>193</td>\n",
       "      <td>1</td>\n",
       "      <td>193</td>\n",
       "    </tr>\n",
       "    <tr>\n",
       "      <td>2013</td>\n",
       "      <td>6</td>\n",
       "      <td>193</td>\n",
       "      <td>1</td>\n",
       "      <td>193</td>\n",
       "    </tr>\n",
       "    <tr>\n",
       "      <td>2014</td>\n",
       "      <td>6</td>\n",
       "      <td>192</td>\n",
       "      <td>1</td>\n",
       "      <td>192</td>\n",
       "    </tr>\n",
       "    <tr>\n",
       "      <td>2015</td>\n",
       "      <td>6</td>\n",
       "      <td>191</td>\n",
       "      <td>1</td>\n",
       "      <td>191</td>\n",
       "    </tr>\n",
       "    <tr>\n",
       "      <td>2016</td>\n",
       "      <td>6</td>\n",
       "      <td>191</td>\n",
       "      <td>1</td>\n",
       "      <td>191</td>\n",
       "    </tr>\n",
       "    <tr>\n",
       "      <td>2017</td>\n",
       "      <td>6</td>\n",
       "      <td>190</td>\n",
       "      <td>1</td>\n",
       "      <td>190</td>\n",
       "    </tr>\n",
       "  </tbody>\n",
       "</table>\n",
       "</div>"
      ],
      "text/plain": [
       "      Continent  Country  Year  GDP_Per_Capita\n",
       "Year                                          \n",
       "1990          6      166     1             166\n",
       "1991          6      167     1             167\n",
       "1992          6      169     1             169\n",
       "1993          6      171     1             171\n",
       "1994          6      174     1             174\n",
       "1995          6      180     1             180\n",
       "1996          6      180     1             180\n",
       "1997          6      182     1             182\n",
       "1998          6      183     1             183\n",
       "1999          6      184     1             184\n",
       "2000          6      190     1             190\n",
       "2001          6      191     1             191\n",
       "2002          6      192     1             192\n",
       "2003          6      192     1             192\n",
       "2004          6      192     1             192\n",
       "2005          6      192     1             192\n",
       "2006          6      192     1             192\n",
       "2007          6      193     1             193\n",
       "2008          6      194     1             194\n",
       "2009          6      194     1             194\n",
       "2010          6      194     1             194\n",
       "2011          6      195     1             195\n",
       "2012          6      193     1             193\n",
       "2013          6      193     1             193\n",
       "2014          6      192     1             192\n",
       "2015          6      191     1             191\n",
       "2016          6      191     1             191\n",
       "2017          6      190     1             190"
      ]
     },
     "execution_count": 39,
     "metadata": {},
     "output_type": "execute_result"
    }
   ],
   "source": [
    "gdp_df.groupby('Year').nunique()"
   ]
  },
  {
   "cell_type": "code",
   "execution_count": 40,
   "metadata": {},
   "outputs": [
    {
     "data": {
      "text/html": [
       "<div>\n",
       "<style scoped>\n",
       "    .dataframe tbody tr th:only-of-type {\n",
       "        vertical-align: middle;\n",
       "    }\n",
       "\n",
       "    .dataframe tbody tr th {\n",
       "        vertical-align: top;\n",
       "    }\n",
       "\n",
       "    .dataframe thead th {\n",
       "        text-align: right;\n",
       "    }\n",
       "</style>\n",
       "<table border=\"1\" class=\"dataframe\">\n",
       "  <thead>\n",
       "    <tr style=\"text-align: right;\">\n",
       "      <th></th>\n",
       "      <th>Continent</th>\n",
       "      <th>Country</th>\n",
       "      <th>Year</th>\n",
       "      <th>GDP_Per_Capita</th>\n",
       "    </tr>\n",
       "  </thead>\n",
       "  <tbody>\n",
       "    <tr>\n",
       "      <td>3</td>\n",
       "      <td>Asia</td>\n",
       "      <td>Afghanistan</td>\n",
       "      <td>2014</td>\n",
       "      <td>1795.735834</td>\n",
       "    </tr>\n",
       "    <tr>\n",
       "      <td>19</td>\n",
       "      <td>Europe</td>\n",
       "      <td>Albania</td>\n",
       "      <td>2014</td>\n",
       "      <td>10700.522802</td>\n",
       "    </tr>\n",
       "    <tr>\n",
       "      <td>47</td>\n",
       "      <td>Africa</td>\n",
       "      <td>Algeria</td>\n",
       "      <td>2014</td>\n",
       "      <td>13549.025150</td>\n",
       "    </tr>\n",
       "    <tr>\n",
       "      <td>75</td>\n",
       "      <td>Africa</td>\n",
       "      <td>Angola</td>\n",
       "      <td>2014</td>\n",
       "      <td>6813.052106</td>\n",
       "    </tr>\n",
       "    <tr>\n",
       "      <td>103</td>\n",
       "      <td>North America</td>\n",
       "      <td>Antigua and Barbuda</td>\n",
       "      <td>2014</td>\n",
       "      <td>20820.551057</td>\n",
       "    </tr>\n",
       "    <tr>\n",
       "      <td>...</td>\n",
       "      <td>...</td>\n",
       "      <td>...</td>\n",
       "      <td>...</td>\n",
       "      <td>...</td>\n",
       "    </tr>\n",
       "    <tr>\n",
       "      <td>5084</td>\n",
       "      <td>Asia</td>\n",
       "      <td>Vietnam</td>\n",
       "      <td>2014</td>\n",
       "      <td>5312.492183</td>\n",
       "    </tr>\n",
       "    <tr>\n",
       "      <td>5112</td>\n",
       "      <td>Asia</td>\n",
       "      <td>West Bank and Gaza</td>\n",
       "      <td>2014</td>\n",
       "      <td>4445.307470</td>\n",
       "    </tr>\n",
       "    <tr>\n",
       "      <td>5136</td>\n",
       "      <td>Asia</td>\n",
       "      <td>Yemen</td>\n",
       "      <td>2014</td>\n",
       "      <td>3828.484887</td>\n",
       "    </tr>\n",
       "    <tr>\n",
       "      <td>5164</td>\n",
       "      <td>Africa</td>\n",
       "      <td>Zambia</td>\n",
       "      <td>2014</td>\n",
       "      <td>3684.685507</td>\n",
       "    </tr>\n",
       "    <tr>\n",
       "      <td>5192</td>\n",
       "      <td>Africa</td>\n",
       "      <td>Zimbabwe</td>\n",
       "      <td>2014</td>\n",
       "      <td>2506.490220</td>\n",
       "    </tr>\n",
       "  </tbody>\n",
       "</table>\n",
       "<p>192 rows × 4 columns</p>\n",
       "</div>"
      ],
      "text/plain": [
       "          Continent              Country  Year  GDP_Per_Capita\n",
       "3              Asia          Afghanistan  2014     1795.735834\n",
       "19           Europe              Albania  2014    10700.522802\n",
       "47           Africa              Algeria  2014    13549.025150\n",
       "75           Africa               Angola  2014     6813.052106\n",
       "103   North America  Antigua and Barbuda  2014    20820.551057\n",
       "...             ...                  ...   ...             ...\n",
       "5084           Asia              Vietnam  2014     5312.492183\n",
       "5112           Asia   West Bank and Gaza  2014     4445.307470\n",
       "5136           Asia                Yemen  2014     3828.484887\n",
       "5164         Africa               Zambia  2014     3684.685507\n",
       "5192         Africa             Zimbabwe  2014     2506.490220\n",
       "\n",
       "[192 rows x 4 columns]"
      ]
     },
     "execution_count": 40,
     "metadata": {},
     "output_type": "execute_result"
    }
   ],
   "source": [
    "gdp_2014=gdp_df[gdp_df['Year'] == '2014']\n",
    "gdp_2014"
   ]
  },
  {
   "cell_type": "markdown",
   "metadata": {},
   "source": [
    "## Step 14"
   ]
  },
  {
   "cell_type": "code",
   "execution_count": 41,
   "metadata": {},
   "outputs": [
    {
     "data": {
      "text/html": [
       "<div>\n",
       "<style scoped>\n",
       "    .dataframe tbody tr th:only-of-type {\n",
       "        vertical-align: middle;\n",
       "    }\n",
       "\n",
       "    .dataframe tbody tr th {\n",
       "        vertical-align: top;\n",
       "    }\n",
       "\n",
       "    .dataframe thead th {\n",
       "        text-align: right;\n",
       "    }\n",
       "</style>\n",
       "<table border=\"1\" class=\"dataframe\">\n",
       "  <thead>\n",
       "    <tr style=\"text-align: right;\">\n",
       "      <th></th>\n",
       "      <th>GDP_Per_Capita</th>\n",
       "    </tr>\n",
       "  </thead>\n",
       "  <tbody>\n",
       "    <tr>\n",
       "      <td>count</td>\n",
       "      <td>192.000000</td>\n",
       "    </tr>\n",
       "    <tr>\n",
       "      <td>mean</td>\n",
       "      <td>18706.998123</td>\n",
       "    </tr>\n",
       "    <tr>\n",
       "      <td>std</td>\n",
       "      <td>20708.344052</td>\n",
       "    </tr>\n",
       "    <tr>\n",
       "      <td>min</td>\n",
       "      <td>377.908916</td>\n",
       "    </tr>\n",
       "    <tr>\n",
       "      <td>25%</td>\n",
       "      <td>4078.542518</td>\n",
       "    </tr>\n",
       "    <tr>\n",
       "      <td>50%</td>\n",
       "      <td>11822.492901</td>\n",
       "    </tr>\n",
       "    <tr>\n",
       "      <td>75%</td>\n",
       "      <td>26304.316361</td>\n",
       "    </tr>\n",
       "    <tr>\n",
       "      <td>max</td>\n",
       "      <td>130439.187070</td>\n",
       "    </tr>\n",
       "  </tbody>\n",
       "</table>\n",
       "</div>"
      ],
      "text/plain": [
       "       GDP_Per_Capita\n",
       "count      192.000000\n",
       "mean     18706.998123\n",
       "std      20708.344052\n",
       "min        377.908916\n",
       "25%       4078.542518\n",
       "50%      11822.492901\n",
       "75%      26304.316361\n",
       "max     130439.187070"
      ]
     },
     "execution_count": 41,
     "metadata": {},
     "output_type": "execute_result"
    }
   ],
   "source": [
    "gdp_2014.describe()"
   ]
  },
  {
   "cell_type": "markdown",
   "metadata": {},
   "source": [
    "## Step 15(a) "
   ]
  },
  {
   "cell_type": "code",
   "execution_count": 42,
   "metadata": {},
   "outputs": [
    {
     "data": {
      "text/plain": [
       "Continent         South America\n",
       "Country                Zimbabwe\n",
       "Year                       2014\n",
       "GDP_Per_Capita           130439\n",
       "dtype: object"
      ]
     },
     "execution_count": 42,
     "metadata": {},
     "output_type": "execute_result"
    }
   ],
   "source": [
    "gdp_2014.max(0)\n",
    "# could use nlargest()"
   ]
  },
  {
   "cell_type": "code",
   "execution_count": 43,
   "metadata": {},
   "outputs": [
    {
     "data": {
      "text/html": [
       "<div>\n",
       "<style scoped>\n",
       "    .dataframe tbody tr th:only-of-type {\n",
       "        vertical-align: middle;\n",
       "    }\n",
       "\n",
       "    .dataframe tbody tr th {\n",
       "        vertical-align: top;\n",
       "    }\n",
       "\n",
       "    .dataframe thead th {\n",
       "        text-align: right;\n",
       "    }\n",
       "</style>\n",
       "<table border=\"1\" class=\"dataframe\">\n",
       "  <thead>\n",
       "    <tr style=\"text-align: right;\">\n",
       "      <th></th>\n",
       "      <th>Continent</th>\n",
       "      <th>Country</th>\n",
       "      <th>Year</th>\n",
       "      <th>GDP_Per_Capita</th>\n",
       "    </tr>\n",
       "  </thead>\n",
       "  <tbody>\n",
       "    <tr>\n",
       "      <td>3006</td>\n",
       "      <td>Africa</td>\n",
       "      <td>Mauritania</td>\n",
       "      <td>2014</td>\n",
       "      <td>377.908916</td>\n",
       "    </tr>\n",
       "    <tr>\n",
       "      <td>924</td>\n",
       "      <td>Africa</td>\n",
       "      <td>Central African Republic</td>\n",
       "      <td>2014</td>\n",
       "      <td>676.675821</td>\n",
       "    </tr>\n",
       "    <tr>\n",
       "      <td>767</td>\n",
       "      <td>Africa</td>\n",
       "      <td>Burundi</td>\n",
       "      <td>2014</td>\n",
       "      <td>768.469837</td>\n",
       "    </tr>\n",
       "    <tr>\n",
       "      <td>1120</td>\n",
       "      <td>Africa</td>\n",
       "      <td>Dem. Rep. Congo</td>\n",
       "      <td>2014</td>\n",
       "      <td>784.872656</td>\n",
       "    </tr>\n",
       "    <tr>\n",
       "      <td>3425</td>\n",
       "      <td>Africa</td>\n",
       "      <td>Niger</td>\n",
       "      <td>2014</td>\n",
       "      <td>900.136918</td>\n",
       "    </tr>\n",
       "  </tbody>\n",
       "</table>\n",
       "</div>"
      ],
      "text/plain": [
       "     Continent                   Country  Year  GDP_Per_Capita\n",
       "3006    Africa                Mauritania  2014      377.908916\n",
       "924     Africa  Central African Republic  2014      676.675821\n",
       "767     Africa                   Burundi  2014      768.469837\n",
       "1120    Africa           Dem. Rep. Congo  2014      784.872656\n",
       "3425    Africa                     Niger  2014      900.136918"
      ]
     },
     "execution_count": 43,
     "metadata": {},
     "output_type": "execute_result"
    }
   ],
   "source": [
    "gdp_2014.sort_values(by='GDP_Per_Capita').head()\n",
    "# could use .min()"
   ]
  },
  {
   "cell_type": "code",
   "execution_count": 44,
   "metadata": {},
   "outputs": [
    {
     "data": {
      "text/html": [
       "<div>\n",
       "<style scoped>\n",
       "    .dataframe tbody tr th:only-of-type {\n",
       "        vertical-align: middle;\n",
       "    }\n",
       "\n",
       "    .dataframe tbody tr th {\n",
       "        vertical-align: top;\n",
       "    }\n",
       "\n",
       "    .dataframe thead th {\n",
       "        text-align: right;\n",
       "    }\n",
       "</style>\n",
       "<table border=\"1\" class=\"dataframe\">\n",
       "  <thead>\n",
       "    <tr style=\"text-align: right;\">\n",
       "      <th></th>\n",
       "      <th>Continent</th>\n",
       "      <th>Country</th>\n",
       "      <th>Year</th>\n",
       "      <th>GDP_Per_Capita</th>\n",
       "    </tr>\n",
       "  </thead>\n",
       "  <tbody>\n",
       "    <tr>\n",
       "      <td>683</td>\n",
       "      <td>Asia</td>\n",
       "      <td>Brunei</td>\n",
       "      <td>2014</td>\n",
       "      <td>76448.593329</td>\n",
       "    </tr>\n",
       "    <tr>\n",
       "      <td>4222</td>\n",
       "      <td>Asia</td>\n",
       "      <td>Singapore</td>\n",
       "      <td>2014</td>\n",
       "      <td>81965.361071</td>\n",
       "    </tr>\n",
       "    <tr>\n",
       "      <td>2759</td>\n",
       "      <td>Europe</td>\n",
       "      <td>Luxembourg</td>\n",
       "      <td>2014</td>\n",
       "      <td>92349.186486</td>\n",
       "    </tr>\n",
       "    <tr>\n",
       "      <td>3835</td>\n",
       "      <td>Asia</td>\n",
       "      <td>Qatar</td>\n",
       "      <td>2014</td>\n",
       "      <td>116693.507701</td>\n",
       "    </tr>\n",
       "    <tr>\n",
       "      <td>2787</td>\n",
       "      <td>Asia</td>\n",
       "      <td>Macao SAR, China</td>\n",
       "      <td>2014</td>\n",
       "      <td>130439.187070</td>\n",
       "    </tr>\n",
       "  </tbody>\n",
       "</table>\n",
       "</div>"
      ],
      "text/plain": [
       "     Continent           Country  Year  GDP_Per_Capita\n",
       "683       Asia            Brunei  2014    76448.593329\n",
       "4222      Asia         Singapore  2014    81965.361071\n",
       "2759    Europe        Luxembourg  2014    92349.186486\n",
       "3835      Asia             Qatar  2014   116693.507701\n",
       "2787      Asia  Macao SAR, China  2014   130439.187070"
      ]
     },
     "execution_count": 44,
     "metadata": {},
     "output_type": "execute_result"
    }
   ],
   "source": [
    "gdp_2014.sort_values(by='GDP_Per_Capita').tail()"
   ]
  },
  {
   "cell_type": "markdown",
   "metadata": {},
   "source": [
    "## Step 16"
   ]
  },
  {
   "cell_type": "code",
   "execution_count": 45,
   "metadata": {},
   "outputs": [],
   "source": [
    "#Add a column to your 2014 dataframe called 'GDP_Group'. \n",
    "#In this column, assign each country to one of three categories: \n",
    "#\"Low\" if the country's GDP Per Capita is below the 25th percentile \n",
    "    #of GDP Per Capita, \"Medium\" if it is between the 25th and 75th \n",
    "    #percentile, and \"High\" if it is above the 75th percentile. \n",
    "#How do the continents differ in terms of numbers of countries in \n",
    "#each group?"
   ]
  },
  {
   "cell_type": "code",
   "execution_count": 46,
   "metadata": {},
   "outputs": [
    {
     "name": "stderr",
     "output_type": "stream",
     "text": [
      "//anaconda3/lib/python3.7/site-packages/ipykernel_launcher.py:13: SettingWithCopyWarning: \n",
      "A value is trying to be set on a copy of a slice from a DataFrame.\n",
      "Try using .loc[row_indexer,col_indexer] = value instead\n",
      "\n",
      "See the caveats in the documentation: http://pandas.pydata.org/pandas-docs/stable/user_guide/indexing.html#returning-a-view-versus-a-copy\n",
      "  del sys.path[0]\n"
     ]
    },
    {
     "data": {
      "text/html": [
       "<div>\n",
       "<style scoped>\n",
       "    .dataframe tbody tr th:only-of-type {\n",
       "        vertical-align: middle;\n",
       "    }\n",
       "\n",
       "    .dataframe tbody tr th {\n",
       "        vertical-align: top;\n",
       "    }\n",
       "\n",
       "    .dataframe thead th {\n",
       "        text-align: right;\n",
       "    }\n",
       "</style>\n",
       "<table border=\"1\" class=\"dataframe\">\n",
       "  <thead>\n",
       "    <tr style=\"text-align: right;\">\n",
       "      <th></th>\n",
       "      <th>Continent</th>\n",
       "      <th>Country</th>\n",
       "      <th>Year</th>\n",
       "      <th>GDP_Per_Capita</th>\n",
       "      <th>GDP_Group</th>\n",
       "    </tr>\n",
       "  </thead>\n",
       "  <tbody>\n",
       "    <tr>\n",
       "      <td>3</td>\n",
       "      <td>Asia</td>\n",
       "      <td>Afghanistan</td>\n",
       "      <td>2014</td>\n",
       "      <td>1795.735834</td>\n",
       "      <td>Low</td>\n",
       "    </tr>\n",
       "    <tr>\n",
       "      <td>19</td>\n",
       "      <td>Europe</td>\n",
       "      <td>Albania</td>\n",
       "      <td>2014</td>\n",
       "      <td>10700.522802</td>\n",
       "      <td>Medium</td>\n",
       "    </tr>\n",
       "    <tr>\n",
       "      <td>47</td>\n",
       "      <td>Africa</td>\n",
       "      <td>Algeria</td>\n",
       "      <td>2014</td>\n",
       "      <td>13549.025150</td>\n",
       "      <td>Medium</td>\n",
       "    </tr>\n",
       "    <tr>\n",
       "      <td>75</td>\n",
       "      <td>Africa</td>\n",
       "      <td>Angola</td>\n",
       "      <td>2014</td>\n",
       "      <td>6813.052106</td>\n",
       "      <td>Medium</td>\n",
       "    </tr>\n",
       "    <tr>\n",
       "      <td>103</td>\n",
       "      <td>North America</td>\n",
       "      <td>Antigua and Barbuda</td>\n",
       "      <td>2014</td>\n",
       "      <td>20820.551057</td>\n",
       "      <td>Medium</td>\n",
       "    </tr>\n",
       "    <tr>\n",
       "      <td>...</td>\n",
       "      <td>...</td>\n",
       "      <td>...</td>\n",
       "      <td>...</td>\n",
       "      <td>...</td>\n",
       "      <td>...</td>\n",
       "    </tr>\n",
       "    <tr>\n",
       "      <td>5084</td>\n",
       "      <td>Asia</td>\n",
       "      <td>Vietnam</td>\n",
       "      <td>2014</td>\n",
       "      <td>5312.492183</td>\n",
       "      <td>Medium</td>\n",
       "    </tr>\n",
       "    <tr>\n",
       "      <td>5112</td>\n",
       "      <td>Asia</td>\n",
       "      <td>West Bank and Gaza</td>\n",
       "      <td>2014</td>\n",
       "      <td>4445.307470</td>\n",
       "      <td>Medium</td>\n",
       "    </tr>\n",
       "    <tr>\n",
       "      <td>5136</td>\n",
       "      <td>Asia</td>\n",
       "      <td>Yemen</td>\n",
       "      <td>2014</td>\n",
       "      <td>3828.484887</td>\n",
       "      <td>Low</td>\n",
       "    </tr>\n",
       "    <tr>\n",
       "      <td>5164</td>\n",
       "      <td>Africa</td>\n",
       "      <td>Zambia</td>\n",
       "      <td>2014</td>\n",
       "      <td>3684.685507</td>\n",
       "      <td>Low</td>\n",
       "    </tr>\n",
       "    <tr>\n",
       "      <td>5192</td>\n",
       "      <td>Africa</td>\n",
       "      <td>Zimbabwe</td>\n",
       "      <td>2014</td>\n",
       "      <td>2506.490220</td>\n",
       "      <td>Low</td>\n",
       "    </tr>\n",
       "  </tbody>\n",
       "</table>\n",
       "<p>192 rows × 5 columns</p>\n",
       "</div>"
      ],
      "text/plain": [
       "          Continent              Country  Year  GDP_Per_Capita GDP_Group\n",
       "3              Asia          Afghanistan  2014     1795.735834       Low\n",
       "19           Europe              Albania  2014    10700.522802    Medium\n",
       "47           Africa              Algeria  2014    13549.025150    Medium\n",
       "75           Africa               Angola  2014     6813.052106    Medium\n",
       "103   North America  Antigua and Barbuda  2014    20820.551057    Medium\n",
       "...             ...                  ...   ...             ...       ...\n",
       "5084           Asia              Vietnam  2014     5312.492183    Medium\n",
       "5112           Asia   West Bank and Gaza  2014     4445.307470    Medium\n",
       "5136           Asia                Yemen  2014     3828.484887       Low\n",
       "5164         Africa               Zambia  2014     3684.685507       Low\n",
       "5192         Africa             Zimbabwe  2014     2506.490220       Low\n",
       "\n",
       "[192 rows x 5 columns]"
      ]
     },
     "execution_count": 46,
     "metadata": {},
     "output_type": "execute_result"
    }
   ],
   "source": [
    "def categ(x): \n",
    "    per25=np.percentile(gdp_2014.loc[:,['GDP_Per_Capita']], 25)\n",
    "    per50=np.percentile(gdp_2014.loc[:,['GDP_Per_Capita']], 50)\n",
    "    per75=np.percentile(gdp_2014.loc[:,['GDP_Per_Capita']],75)\n",
    "    \n",
    "    if x < per25: \n",
    "        return 'Low'\n",
    "    if x > per75: \n",
    "        return 'High'\n",
    "        \n",
    "    return 'Medium'\n",
    "\n",
    "gdp_2014['GDP_Group']=gdp_2014['GDP_Per_Capita'].apply(categ)\n",
    "gdp_2014\n",
    "\n",
    "# Could be improved by putting per25 and per75 before the function (delete per50) That way it just compares the input against the function. Don't want things computed multiple times. "
   ]
  },
  {
   "cell_type": "markdown",
   "metadata": {},
   "source": [
    "## Step 15(b)/17(a)"
   ]
  },
  {
   "cell_type": "code",
   "execution_count": 47,
   "metadata": {},
   "outputs": [
    {
     "data": {
      "text/plain": [
       "''"
      ]
     },
     "execution_count": 47,
     "metadata": {},
     "output_type": "execute_result"
    },
    {
     "data": {
      "image/png": "[encoded data removed]",
      "text/plain": [
       "<Figure size 432x288 with 1 Axes>"
      ]
     },
     "metadata": {
      "needs_background": "light"
     },
     "output_type": "display_data"
    }
   ],
   "source": [
    "gdp_2014.hist(bins=20)\n",
    ";"
   ]
  },
  {
   "cell_type": "code",
   "execution_count": 48,
   "metadata": {},
   "outputs": [
    {
     "data": {
      "image/png": "[encoded data removed]",
      "text/plain": [
       "<Figure size 432x288 with 1 Axes>"
      ]
     },
     "metadata": {
      "needs_background": "light"
     },
     "output_type": "display_data"
    }
   ],
   "source": [
    "sns.distplot(gdp_2014['GDP_Per_Capita'], kde=False);\n",
    "#kde=kernal density estimate and adds a line"
   ]
  },
  {
   "cell_type": "markdown",
   "metadata": {},
   "source": [
    "## Step 17(b)"
   ]
  },
  {
   "cell_type": "code",
   "execution_count": 49,
   "metadata": {},
   "outputs": [
    {
     "data": {
      "text/plain": [
       "2.238776247132382"
      ]
     },
     "execution_count": 49,
     "metadata": {},
     "output_type": "execute_result"
    }
   ],
   "source": [
    "#Using Scipy, find the skewness of GDP_Per_Capita values \n",
    "skew(gdp_2014['GDP_Per_Capita'])"
   ]
  },
  {
   "cell_type": "markdown",
   "metadata": {},
   "source": [
    "## Step 18"
   ]
  },
  {
   "cell_type": "code",
   "execution_count": 50,
   "metadata": {},
   "outputs": [],
   "source": [
    "#Create a seaborn boxplot showing GDP per capita in 2014 split\n",
    "#out by continent. What do you notice?"
   ]
  },
  {
   "cell_type": "code",
   "execution_count": 51,
   "metadata": {},
   "outputs": [
    {
     "data": {
      "image/png": "[encoded data removed]",
      "text/plain": [
       "<Figure size 432x288 with 1 Axes>"
      ]
     },
     "metadata": {
      "needs_background": "light"
     },
     "output_type": "display_data"
    }
   ],
   "source": [
    "sns.boxplot(data=gdp_2014, x='GDP_Per_Capita',y='Continent');"
   ]
  },
  {
   "cell_type": "markdown",
   "metadata": {},
   "source": [
    "## Step 19"
   ]
  },
  {
   "cell_type": "code",
   "execution_count": 52,
   "metadata": {},
   "outputs": [],
   "source": [
    "#Pivot the data (using the pandas `.pivot()` method) so that we \n",
    "#can calculate % change in GDP Per Capita from 1990 to 2017 - drop \n",
    "#any countries that are missing GDP numbers for at least one of these \n",
    "#two years."
   ]
  },
  {
   "cell_type": "code",
   "execution_count": 53,
   "metadata": {},
   "outputs": [],
   "source": [
    "gdp_df_pivot=gdp_df.pivot('Country', 'Year', 'GDP_Per_Capita')\n",
    "# Michael just chained this cell and the next one together. "
   ]
  },
  {
   "cell_type": "code",
   "execution_count": 54,
   "metadata": {},
   "outputs": [],
   "source": [
    "gdp_df_pivot=gdp_df_pivot[['1990','2017']]"
   ]
  },
  {
   "cell_type": "code",
   "execution_count": 55,
   "metadata": {},
   "outputs": [
    {
     "data": {
      "text/html": [
       "<div>\n",
       "<style scoped>\n",
       "    .dataframe tbody tr th:only-of-type {\n",
       "        vertical-align: middle;\n",
       "    }\n",
       "\n",
       "    .dataframe tbody tr th {\n",
       "        vertical-align: top;\n",
       "    }\n",
       "\n",
       "    .dataframe thead th {\n",
       "        text-align: right;\n",
       "    }\n",
       "</style>\n",
       "<table border=\"1\" class=\"dataframe\">\n",
       "  <thead>\n",
       "    <tr style=\"text-align: right;\">\n",
       "      <th>Year</th>\n",
       "      <th>1990</th>\n",
       "      <th>2017</th>\n",
       "    </tr>\n",
       "    <tr>\n",
       "      <th>Country</th>\n",
       "      <th></th>\n",
       "      <th></th>\n",
       "    </tr>\n",
       "  </thead>\n",
       "  <tbody>\n",
       "    <tr>\n",
       "      <td>Afghanistan</td>\n",
       "      <td>NaN</td>\n",
       "      <td>1758.465636</td>\n",
       "    </tr>\n",
       "    <tr>\n",
       "      <td>Albania</td>\n",
       "      <td>4458.247662</td>\n",
       "      <td>11803.283883</td>\n",
       "    </tr>\n",
       "    <tr>\n",
       "      <td>Algeria</td>\n",
       "      <td>10297.842349</td>\n",
       "      <td>13876.294642</td>\n",
       "    </tr>\n",
       "    <tr>\n",
       "      <td>Angola</td>\n",
       "      <td>4761.229638</td>\n",
       "      <td>6044.972035</td>\n",
       "    </tr>\n",
       "    <tr>\n",
       "      <td>Antigua and Barbuda</td>\n",
       "      <td>17472.946483</td>\n",
       "      <td>22855.748017</td>\n",
       "    </tr>\n",
       "  </tbody>\n",
       "</table>\n",
       "</div>"
      ],
      "text/plain": [
       "Year                         1990          2017\n",
       "Country                                        \n",
       "Afghanistan                   NaN   1758.465636\n",
       "Albania               4458.247662  11803.283883\n",
       "Algeria              10297.842349  13876.294642\n",
       "Angola                4761.229638   6044.972035\n",
       "Antigua and Barbuda  17472.946483  22855.748017"
      ]
     },
     "execution_count": 55,
     "metadata": {},
     "output_type": "execute_result"
    }
   ],
   "source": [
    "gdp_df_pivot.head()"
   ]
  },
  {
   "cell_type": "code",
   "execution_count": 56,
   "metadata": {},
   "outputs": [
    {
     "data": {
      "text/html": [
       "<div>\n",
       "<style scoped>\n",
       "    .dataframe tbody tr th:only-of-type {\n",
       "        vertical-align: middle;\n",
       "    }\n",
       "\n",
       "    .dataframe tbody tr th {\n",
       "        vertical-align: top;\n",
       "    }\n",
       "\n",
       "    .dataframe thead th {\n",
       "        text-align: right;\n",
       "    }\n",
       "</style>\n",
       "<table border=\"1\" class=\"dataframe\">\n",
       "  <thead>\n",
       "    <tr style=\"text-align: right;\">\n",
       "      <th>Year</th>\n",
       "      <th>1990</th>\n",
       "      <th>2017</th>\n",
       "    </tr>\n",
       "    <tr>\n",
       "      <th>Country</th>\n",
       "      <th></th>\n",
       "      <th></th>\n",
       "    </tr>\n",
       "  </thead>\n",
       "  <tbody>\n",
       "    <tr>\n",
       "      <td>Albania</td>\n",
       "      <td>4458.247662</td>\n",
       "      <td>11803.283883</td>\n",
       "    </tr>\n",
       "    <tr>\n",
       "      <td>Algeria</td>\n",
       "      <td>10297.842349</td>\n",
       "      <td>13876.294642</td>\n",
       "    </tr>\n",
       "    <tr>\n",
       "      <td>Angola</td>\n",
       "      <td>4761.229638</td>\n",
       "      <td>6044.972035</td>\n",
       "    </tr>\n",
       "    <tr>\n",
       "      <td>Antigua and Barbuda</td>\n",
       "      <td>17472.946483</td>\n",
       "      <td>22855.748017</td>\n",
       "    </tr>\n",
       "    <tr>\n",
       "      <td>Argentina</td>\n",
       "      <td>11372.823108</td>\n",
       "      <td>18945.144022</td>\n",
       "    </tr>\n",
       "  </tbody>\n",
       "</table>\n",
       "</div>"
      ],
      "text/plain": [
       "Year                         1990          2017\n",
       "Country                                        \n",
       "Albania               4458.247662  11803.283883\n",
       "Algeria              10297.842349  13876.294642\n",
       "Angola                4761.229638   6044.972035\n",
       "Antigua and Barbuda  17472.946483  22855.748017\n",
       "Argentina            11372.823108  18945.144022"
      ]
     },
     "execution_count": 56,
     "metadata": {},
     "output_type": "execute_result"
    }
   ],
   "source": [
    "gdp_df_pivot=gdp_df_pivot.dropna()\n",
    "gdp_df_pivot.head()"
   ]
  },
  {
   "cell_type": "markdown",
   "metadata": {},
   "source": [
    "## Step 20"
   ]
  },
  {
   "cell_type": "code",
   "execution_count": 57,
   "metadata": {},
   "outputs": [],
   "source": [
    "#20. What percentage of countries or areas experienced a positive % change \n",
    "#in GDP per capita? What percentage experienced a negative % change?"
   ]
  },
  {
   "cell_type": "code",
   "execution_count": 58,
   "metadata": {},
   "outputs": [
    {
     "data": {
      "text/html": [
       "<div>\n",
       "<style scoped>\n",
       "    .dataframe tbody tr th:only-of-type {\n",
       "        vertical-align: middle;\n",
       "    }\n",
       "\n",
       "    .dataframe tbody tr th {\n",
       "        vertical-align: top;\n",
       "    }\n",
       "\n",
       "    .dataframe thead th {\n",
       "        text-align: right;\n",
       "    }\n",
       "</style>\n",
       "<table border=\"1\" class=\"dataframe\">\n",
       "  <thead>\n",
       "    <tr style=\"text-align: right;\">\n",
       "      <th>Year</th>\n",
       "      <th>1990</th>\n",
       "      <th>2017</th>\n",
       "    </tr>\n",
       "    <tr>\n",
       "      <th>Country</th>\n",
       "      <th></th>\n",
       "      <th></th>\n",
       "    </tr>\n",
       "  </thead>\n",
       "  <tbody>\n",
       "    <tr>\n",
       "      <td>Albania</td>\n",
       "      <td>NaN</td>\n",
       "      <td>1.647516</td>\n",
       "    </tr>\n",
       "    <tr>\n",
       "      <td>Algeria</td>\n",
       "      <td>NaN</td>\n",
       "      <td>0.347495</td>\n",
       "    </tr>\n",
       "    <tr>\n",
       "      <td>Angola</td>\n",
       "      <td>NaN</td>\n",
       "      <td>0.269624</td>\n",
       "    </tr>\n",
       "    <tr>\n",
       "      <td>Antigua and Barbuda</td>\n",
       "      <td>NaN</td>\n",
       "      <td>0.308065</td>\n",
       "    </tr>\n",
       "    <tr>\n",
       "      <td>Argentina</td>\n",
       "      <td>NaN</td>\n",
       "      <td>0.665826</td>\n",
       "    </tr>\n",
       "  </tbody>\n",
       "</table>\n",
       "</div>"
      ],
      "text/plain": [
       "Year                 1990      2017\n",
       "Country                            \n",
       "Albania               NaN  1.647516\n",
       "Algeria               NaN  0.347495\n",
       "Angola                NaN  0.269624\n",
       "Antigua and Barbuda   NaN  0.308065\n",
       "Argentina             NaN  0.665826"
      ]
     },
     "execution_count": 58,
     "metadata": {},
     "output_type": "execute_result"
    }
   ],
   "source": [
    "pctchange=gdp_df_pivot.pct_change(axis='columns')\n",
    "pctchange.head()"
   ]
  },
  {
   "cell_type": "code",
   "execution_count": 59,
   "metadata": {},
   "outputs": [
    {
     "data": {
      "text/plain": [
       "0.725609756097561"
      ]
     },
     "execution_count": 59,
     "metadata": {},
     "output_type": "execute_result"
    }
   ],
   "source": [
    "negatives=pctchange[(pctchange['2017'] < 1)==True]\n",
    "count=negatives['2017'].count()\n",
    "count\n",
    "count/pctchange['2017'].count()"
   ]
  },
  {
   "cell_type": "markdown",
   "metadata": {},
   "source": [
    "72.6% of countries had a negative change in GDP per capita"
   ]
  },
  {
   "cell_type": "code",
   "execution_count": 60,
   "metadata": {},
   "outputs": [
    {
     "data": {
      "text/plain": [
       "0.27439024390243905"
      ]
     },
     "execution_count": 60,
     "metadata": {},
     "output_type": "execute_result"
    }
   ],
   "source": [
    "positives=1-0.725609756097561\n",
    "positives"
   ]
  },
  {
   "cell_type": "markdown",
   "metadata": {},
   "source": [
    "27.4% of countries saw a positive change in GDP per capita"
   ]
  },
  {
   "cell_type": "markdown",
   "metadata": {},
   "source": [
    "## Step 21"
   ]
  },
  {
   "cell_type": "code",
   "execution_count": 61,
   "metadata": {},
   "outputs": [],
   "source": [
    "# 21. Which country had the highest % change in GDP per capita? Create a line plot \n",
    "# showing this country's GDP per capita from 1990 to 2017."
   ]
  },
  {
   "cell_type": "code",
   "execution_count": 62,
   "metadata": {},
   "outputs": [
    {
     "data": {
      "text/plain": [
       "Year\n",
       "1990                  NaN\n",
       "2017    Equatorial Guinea\n",
       "dtype: object"
      ]
     },
     "execution_count": 62,
     "metadata": {},
     "output_type": "execute_result"
    }
   ],
   "source": [
    "pctchange.idxmax()"
   ]
  },
  {
   "cell_type": "code",
   "execution_count": 63,
   "metadata": {},
   "outputs": [
    {
     "data": {
      "text/plain": [
       "Country\n",
       "Equatorial Guinea    20.909735\n",
       "China                 9.022572\n",
       "Name: 2017, dtype: float64"
      ]
     },
     "execution_count": 63,
     "metadata": {},
     "output_type": "execute_result"
    }
   ],
   "source": [
    "pctchange['2017'].nlargest(2)"
   ]
  },
  {
   "cell_type": "code",
   "execution_count": 64,
   "metadata": {},
   "outputs": [
    {
     "data": {
      "image/png": "[encoded data removed]",
      "text/plain": [
       "<Figure size 432x288 with 1 Axes>"
      ]
     },
     "metadata": {
      "needs_background": "light"
     },
     "output_type": "display_data"
    }
   ],
   "source": [
    "gdp_df[gdp_df['Country']=='Equatorial Guinea'].plot();\n",
    "# This trend looks backward compared to Michael's"
   ]
  },
  {
   "cell_type": "markdown",
   "metadata": {},
   "source": [
    "## Step 22 "
   ]
  },
  {
   "cell_type": "code",
   "execution_count": 65,
   "metadata": {},
   "outputs": [],
   "source": [
    "# 22. Create another showing the country with the second highest\n",
    "# % change in GDP. How do the trends in these countries compare?"
   ]
  },
  {
   "cell_type": "code",
   "execution_count": 66,
   "metadata": {},
   "outputs": [
    {
     "data": {
      "image/png": "[encoded data removed]",
      "text/plain": [
       "<Figure size 432x288 with 1 Axes>"
      ]
     },
     "metadata": {
      "needs_background": "light"
     },
     "output_type": "display_data"
    }
   ],
   "source": [
    "gdp_df[gdp_df['Country']=='China'].plot();\n",
    "# This one also looks backward"
   ]
  },
  {
   "cell_type": "code",
   "execution_count": 67,
   "metadata": {},
   "outputs": [],
   "source": [
    "# These two trends differ in that China's GDP steadily grew to \n",
    "# match the increase in population whereas in Equatorial New Guinea, \n",
    "# there was a brief period when the population grew faster than the GDP. "
   ]
  },
  {
   "cell_type": "markdown",
   "metadata": {},
   "source": [
    "## Step 23/24"
   ]
  },
  {
   "cell_type": "code",
   "execution_count": 68,
   "metadata": {},
   "outputs": [],
   "source": [
    "# 24. Read in internet_use.csv into a DataFrame called `internet_df`. \n",
    "# You will most likely get an error message when doing this - figure out\n",
    "# what is going wrong and fix it. Take a look at the first and last five \n",
    "# rows and make any corrections to your `read_csv()` call to fix this. \n",
    "# Again, **do not** modify the original datasets. "
   ]
  },
  {
   "cell_type": "code",
   "execution_count": 69,
   "metadata": {},
   "outputs": [],
   "source": [
    "internet_df=pd.read_csv('data/internet_use.csv', nrows=4495)"
   ]
  },
  {
   "cell_type": "code",
   "execution_count": 70,
   "metadata": {},
   "outputs": [
    {
     "data": {
      "text/html": [
       "<div>\n",
       "<style scoped>\n",
       "    .dataframe tbody tr th:only-of-type {\n",
       "        vertical-align: middle;\n",
       "    }\n",
       "\n",
       "    .dataframe tbody tr th {\n",
       "        vertical-align: top;\n",
       "    }\n",
       "\n",
       "    .dataframe thead th {\n",
       "        text-align: right;\n",
       "    }\n",
       "</style>\n",
       "<table border=\"1\" class=\"dataframe\">\n",
       "  <thead>\n",
       "    <tr style=\"text-align: right;\">\n",
       "      <th></th>\n",
       "      <th>Country or Area</th>\n",
       "      <th>Year</th>\n",
       "      <th>Value</th>\n",
       "      <th>Value Footnotes</th>\n",
       "    </tr>\n",
       "  </thead>\n",
       "  <tbody>\n",
       "    <tr>\n",
       "      <td>0</td>\n",
       "      <td>Afghanistan</td>\n",
       "      <td>2014</td>\n",
       "      <td>6.390000</td>\n",
       "      <td>NaN</td>\n",
       "    </tr>\n",
       "    <tr>\n",
       "      <td>1</td>\n",
       "      <td>Afghanistan</td>\n",
       "      <td>2013</td>\n",
       "      <td>5.900000</td>\n",
       "      <td>NaN</td>\n",
       "    </tr>\n",
       "    <tr>\n",
       "      <td>2</td>\n",
       "      <td>Afghanistan</td>\n",
       "      <td>2012</td>\n",
       "      <td>5.454545</td>\n",
       "      <td>NaN</td>\n",
       "    </tr>\n",
       "    <tr>\n",
       "      <td>3</td>\n",
       "      <td>Afghanistan</td>\n",
       "      <td>2011</td>\n",
       "      <td>5.000000</td>\n",
       "      <td>NaN</td>\n",
       "    </tr>\n",
       "    <tr>\n",
       "      <td>4</td>\n",
       "      <td>Afghanistan</td>\n",
       "      <td>2010</td>\n",
       "      <td>4.000000</td>\n",
       "      <td>NaN</td>\n",
       "    </tr>\n",
       "  </tbody>\n",
       "</table>\n",
       "</div>"
      ],
      "text/plain": [
       "  Country or Area  Year     Value  Value Footnotes\n",
       "0     Afghanistan  2014  6.390000              NaN\n",
       "1     Afghanistan  2013  5.900000              NaN\n",
       "2     Afghanistan  2012  5.454545              NaN\n",
       "3     Afghanistan  2011  5.000000              NaN\n",
       "4     Afghanistan  2010  4.000000              NaN"
      ]
     },
     "execution_count": 70,
     "metadata": {},
     "output_type": "execute_result"
    }
   ],
   "source": [
    "internet_df.head()"
   ]
  },
  {
   "cell_type": "code",
   "execution_count": 71,
   "metadata": {},
   "outputs": [
    {
     "data": {
      "text/html": [
       "<div>\n",
       "<style scoped>\n",
       "    .dataframe tbody tr th:only-of-type {\n",
       "        vertical-align: middle;\n",
       "    }\n",
       "\n",
       "    .dataframe tbody tr th {\n",
       "        vertical-align: top;\n",
       "    }\n",
       "\n",
       "    .dataframe thead th {\n",
       "        text-align: right;\n",
       "    }\n",
       "</style>\n",
       "<table border=\"1\" class=\"dataframe\">\n",
       "  <thead>\n",
       "    <tr style=\"text-align: right;\">\n",
       "      <th></th>\n",
       "      <th>Country or Area</th>\n",
       "      <th>Year</th>\n",
       "      <th>Value</th>\n",
       "      <th>Value Footnotes</th>\n",
       "    </tr>\n",
       "  </thead>\n",
       "  <tbody>\n",
       "    <tr>\n",
       "      <td>4490</td>\n",
       "      <td>Zimbabwe</td>\n",
       "      <td>1997</td>\n",
       "      <td>0.033080</td>\n",
       "      <td>NaN</td>\n",
       "    </tr>\n",
       "    <tr>\n",
       "      <td>4491</td>\n",
       "      <td>Zimbabwe</td>\n",
       "      <td>1996</td>\n",
       "      <td>0.016790</td>\n",
       "      <td>NaN</td>\n",
       "    </tr>\n",
       "    <tr>\n",
       "      <td>4492</td>\n",
       "      <td>Zimbabwe</td>\n",
       "      <td>1995</td>\n",
       "      <td>0.007684</td>\n",
       "      <td>NaN</td>\n",
       "    </tr>\n",
       "    <tr>\n",
       "      <td>4493</td>\n",
       "      <td>Zimbabwe</td>\n",
       "      <td>1994</td>\n",
       "      <td>0.001739</td>\n",
       "      <td>NaN</td>\n",
       "    </tr>\n",
       "    <tr>\n",
       "      <td>4494</td>\n",
       "      <td>Zimbabwe</td>\n",
       "      <td>1990</td>\n",
       "      <td>0.000000</td>\n",
       "      <td>NaN</td>\n",
       "    </tr>\n",
       "  </tbody>\n",
       "</table>\n",
       "</div>"
      ],
      "text/plain": [
       "     Country or Area  Year     Value  Value Footnotes\n",
       "4490        Zimbabwe  1997  0.033080              NaN\n",
       "4491        Zimbabwe  1996  0.016790              NaN\n",
       "4492        Zimbabwe  1995  0.007684              NaN\n",
       "4493        Zimbabwe  1994  0.001739              NaN\n",
       "4494        Zimbabwe  1990  0.000000              NaN"
      ]
     },
     "execution_count": 71,
     "metadata": {},
     "output_type": "execute_result"
    }
   ],
   "source": [
    "internet_df.tail()"
   ]
  },
  {
   "cell_type": "markdown",
   "metadata": {},
   "source": [
    "## Step 25"
   ]
  },
  {
   "cell_type": "code",
   "execution_count": 72,
   "metadata": {},
   "outputs": [],
   "source": [
    "# 25. How many rows and columns does this new dataset have? What are\n",
    "# the types of its columns?"
   ]
  },
  {
   "cell_type": "code",
   "execution_count": 73,
   "metadata": {},
   "outputs": [
    {
     "name": "stdout",
     "output_type": "stream",
     "text": [
      "<class 'pandas.core.frame.DataFrame'>\n",
      "RangeIndex: 4495 entries, 0 to 4494\n",
      "Data columns (total 4 columns):\n",
      "Country or Area    4495 non-null object\n",
      "Year               4495 non-null int64\n",
      "Value              4495 non-null float64\n",
      "Value Footnotes    948 non-null float64\n",
      "dtypes: float64(2), int64(1), object(1)\n",
      "memory usage: 140.6+ KB\n"
     ]
    }
   ],
   "source": [
    "internet_df.info()"
   ]
  },
  {
   "cell_type": "code",
   "execution_count": 74,
   "metadata": {},
   "outputs": [],
   "source": [
    "# I could've used .shape here but .info() has all the info you need \n",
    "# (pun intended)."
   ]
  },
  {
   "cell_type": "markdown",
   "metadata": {},
   "source": [
    "## Step 26 "
   ]
  },
  {
   "cell_type": "code",
   "execution_count": 75,
   "metadata": {},
   "outputs": [],
   "source": [
    "# 26.\tChange the columns for the Internet Users data frame to \n",
    "# ‘Country’, ‘Year’, and ‘Internet_Users_Pct’."
   ]
  },
  {
   "cell_type": "code",
   "execution_count": 76,
   "metadata": {},
   "outputs": [
    {
     "data": {
      "text/plain": [
       "Index(['Country or Area', 'Year', 'Value', 'Value Footnotes'], dtype='object')"
      ]
     },
     "execution_count": 76,
     "metadata": {},
     "output_type": "execute_result"
    }
   ],
   "source": [
    "internet_df.columns"
   ]
  },
  {
   "cell_type": "code",
   "execution_count": 77,
   "metadata": {},
   "outputs": [],
   "source": [
    "internet_df=internet_df.drop(columns={'Value Footnotes'})\n",
    "internet_df=internet_df.rename(columns={'Country or Area':'Country', 'Year':'Year', 'Value':'Internet_Users_Pct'})\n"
   ]
  },
  {
   "cell_type": "markdown",
   "metadata": {},
   "source": [
    "## Step 27"
   ]
  },
  {
   "cell_type": "code",
   "execution_count": 78,
   "metadata": {},
   "outputs": [],
   "source": [
    "# 27.\tMerge `gdf_df` and `internet_df` (on Country and Year) into \n",
    "# a single DataFrame named `gdp_and_internet_use`. Keep only countries\n",
    "# and years that appear in both tables."
   ]
  },
  {
   "cell_type": "code",
   "execution_count": 79,
   "metadata": {},
   "outputs": [
    {
     "name": "stderr",
     "output_type": "stream",
     "text": [
      "//anaconda3/lib/python3.7/site-packages/ipykernel_launcher.py:1: FutureWarning: Sorting because non-concatenation axis is not aligned. A future version\n",
      "of pandas will change to not sort by default.\n",
      "\n",
      "To accept the future behavior, pass 'sort=False'.\n",
      "\n",
      "To retain the current behavior and silence the warning, pass 'sort=True'.\n",
      "\n",
      "  \"\"\"Entry point for launching an IPython kernel.\n"
     ]
    },
    {
     "data": {
      "text/html": [
       "<div>\n",
       "<style scoped>\n",
       "    .dataframe tbody tr th:only-of-type {\n",
       "        vertical-align: middle;\n",
       "    }\n",
       "\n",
       "    .dataframe tbody tr th {\n",
       "        vertical-align: top;\n",
       "    }\n",
       "\n",
       "    .dataframe thead th {\n",
       "        text-align: right;\n",
       "    }\n",
       "</style>\n",
       "<table border=\"1\" class=\"dataframe\">\n",
       "  <thead>\n",
       "    <tr style=\"text-align: right;\">\n",
       "      <th></th>\n",
       "      <th>Continent</th>\n",
       "      <th>Country</th>\n",
       "      <th>GDP_Per_Capita</th>\n",
       "      <th>Internet_Users_Pct</th>\n",
       "      <th>Year</th>\n",
       "    </tr>\n",
       "  </thead>\n",
       "  <tbody>\n",
       "    <tr>\n",
       "      <td>0</td>\n",
       "      <td>Asia</td>\n",
       "      <td>Afghanistan</td>\n",
       "      <td>1758.465636</td>\n",
       "      <td>NaN</td>\n",
       "      <td>2017</td>\n",
       "    </tr>\n",
       "    <tr>\n",
       "      <td>1</td>\n",
       "      <td>Asia</td>\n",
       "      <td>Afghanistan</td>\n",
       "      <td>1757.023490</td>\n",
       "      <td>NaN</td>\n",
       "      <td>2016</td>\n",
       "    </tr>\n",
       "    <tr>\n",
       "      <td>2</td>\n",
       "      <td>Asia</td>\n",
       "      <td>Afghanistan</td>\n",
       "      <td>1766.593077</td>\n",
       "      <td>NaN</td>\n",
       "      <td>2015</td>\n",
       "    </tr>\n",
       "    <tr>\n",
       "      <td>3</td>\n",
       "      <td>Asia</td>\n",
       "      <td>Afghanistan</td>\n",
       "      <td>1795.735834</td>\n",
       "      <td>NaN</td>\n",
       "      <td>2014</td>\n",
       "    </tr>\n",
       "    <tr>\n",
       "      <td>4</td>\n",
       "      <td>Asia</td>\n",
       "      <td>Afghanistan</td>\n",
       "      <td>1807.762344</td>\n",
       "      <td>NaN</td>\n",
       "      <td>2013</td>\n",
       "    </tr>\n",
       "  </tbody>\n",
       "</table>\n",
       "</div>"
      ],
      "text/plain": [
       "  Continent      Country  GDP_Per_Capita  Internet_Users_Pct  Year\n",
       "0      Asia  Afghanistan     1758.465636                 NaN  2017\n",
       "1      Asia  Afghanistan     1757.023490                 NaN  2016\n",
       "2      Asia  Afghanistan     1766.593077                 NaN  2015\n",
       "3      Asia  Afghanistan     1795.735834                 NaN  2014\n",
       "4      Asia  Afghanistan     1807.762344                 NaN  2013"
      ]
     },
     "execution_count": 79,
     "metadata": {},
     "output_type": "execute_result"
    }
   ],
   "source": [
    "gdp_and_internet_use=pd.concat([gdp_df, internet_df])\n",
    "gdp_and_internet_use.head()"
   ]
  },
  {
   "cell_type": "code",
   "execution_count": 80,
   "metadata": {},
   "outputs": [
    {
     "data": {
      "text/html": [
       "<div>\n",
       "<style scoped>\n",
       "    .dataframe tbody tr th:only-of-type {\n",
       "        vertical-align: middle;\n",
       "    }\n",
       "\n",
       "    .dataframe tbody tr th {\n",
       "        vertical-align: top;\n",
       "    }\n",
       "\n",
       "    .dataframe thead th {\n",
       "        text-align: right;\n",
       "    }\n",
       "</style>\n",
       "<table border=\"1\" class=\"dataframe\">\n",
       "  <thead>\n",
       "    <tr style=\"text-align: right;\">\n",
       "      <th></th>\n",
       "      <th>Continent</th>\n",
       "      <th>Country</th>\n",
       "      <th>Year</th>\n",
       "      <th>GDP_Per_Capita</th>\n",
       "    </tr>\n",
       "  </thead>\n",
       "  <tbody>\n",
       "    <tr>\n",
       "      <td>0</td>\n",
       "      <td>Asia</td>\n",
       "      <td>Afghanistan</td>\n",
       "      <td>2017</td>\n",
       "      <td>1758.465636</td>\n",
       "    </tr>\n",
       "    <tr>\n",
       "      <td>1</td>\n",
       "      <td>Asia</td>\n",
       "      <td>Afghanistan</td>\n",
       "      <td>2016</td>\n",
       "      <td>1757.023490</td>\n",
       "    </tr>\n",
       "    <tr>\n",
       "      <td>2</td>\n",
       "      <td>Asia</td>\n",
       "      <td>Afghanistan</td>\n",
       "      <td>2015</td>\n",
       "      <td>1766.593077</td>\n",
       "    </tr>\n",
       "    <tr>\n",
       "      <td>3</td>\n",
       "      <td>Asia</td>\n",
       "      <td>Afghanistan</td>\n",
       "      <td>2014</td>\n",
       "      <td>1795.735834</td>\n",
       "    </tr>\n",
       "    <tr>\n",
       "      <td>4</td>\n",
       "      <td>Asia</td>\n",
       "      <td>Afghanistan</td>\n",
       "      <td>2013</td>\n",
       "      <td>1807.762344</td>\n",
       "    </tr>\n",
       "  </tbody>\n",
       "</table>\n",
       "</div>"
      ],
      "text/plain": [
       "  Continent      Country  Year  GDP_Per_Capita\n",
       "0      Asia  Afghanistan  2017     1758.465636\n",
       "1      Asia  Afghanistan  2016     1757.023490\n",
       "2      Asia  Afghanistan  2015     1766.593077\n",
       "3      Asia  Afghanistan  2014     1795.735834\n",
       "4      Asia  Afghanistan  2013     1807.762344"
      ]
     },
     "execution_count": 80,
     "metadata": {},
     "output_type": "execute_result"
    }
   ],
   "source": [
    "gdp_df.head()"
   ]
  },
  {
   "cell_type": "code",
   "execution_count": 81,
   "metadata": {},
   "outputs": [
    {
     "data": {
      "text/html": [
       "<div>\n",
       "<style scoped>\n",
       "    .dataframe tbody tr th:only-of-type {\n",
       "        vertical-align: middle;\n",
       "    }\n",
       "\n",
       "    .dataframe tbody tr th {\n",
       "        vertical-align: top;\n",
       "    }\n",
       "\n",
       "    .dataframe thead th {\n",
       "        text-align: right;\n",
       "    }\n",
       "</style>\n",
       "<table border=\"1\" class=\"dataframe\">\n",
       "  <thead>\n",
       "    <tr style=\"text-align: right;\">\n",
       "      <th></th>\n",
       "      <th>Country</th>\n",
       "      <th>Year</th>\n",
       "      <th>Internet_Users_Pct</th>\n",
       "    </tr>\n",
       "  </thead>\n",
       "  <tbody>\n",
       "    <tr>\n",
       "      <td>0</td>\n",
       "      <td>Afghanistan</td>\n",
       "      <td>2014</td>\n",
       "      <td>6.390000</td>\n",
       "    </tr>\n",
       "    <tr>\n",
       "      <td>1</td>\n",
       "      <td>Afghanistan</td>\n",
       "      <td>2013</td>\n",
       "      <td>5.900000</td>\n",
       "    </tr>\n",
       "    <tr>\n",
       "      <td>2</td>\n",
       "      <td>Afghanistan</td>\n",
       "      <td>2012</td>\n",
       "      <td>5.454545</td>\n",
       "    </tr>\n",
       "    <tr>\n",
       "      <td>3</td>\n",
       "      <td>Afghanistan</td>\n",
       "      <td>2011</td>\n",
       "      <td>5.000000</td>\n",
       "    </tr>\n",
       "    <tr>\n",
       "      <td>4</td>\n",
       "      <td>Afghanistan</td>\n",
       "      <td>2010</td>\n",
       "      <td>4.000000</td>\n",
       "    </tr>\n",
       "  </tbody>\n",
       "</table>\n",
       "</div>"
      ],
      "text/plain": [
       "       Country  Year  Internet_Users_Pct\n",
       "0  Afghanistan  2014            6.390000\n",
       "1  Afghanistan  2013            5.900000\n",
       "2  Afghanistan  2012            5.454545\n",
       "3  Afghanistan  2011            5.000000\n",
       "4  Afghanistan  2010            4.000000"
      ]
     },
     "execution_count": 81,
     "metadata": {},
     "output_type": "execute_result"
    }
   ],
   "source": [
    "internet_df.head()"
   ]
  },
  {
   "cell_type": "code",
   "execution_count": 82,
   "metadata": {},
   "outputs": [
    {
     "name": "stdout",
     "output_type": "stream",
     "text": [
      "<class 'pandas.core.frame.DataFrame'>\n",
      "RangeIndex: 4495 entries, 0 to 4494\n",
      "Data columns (total 3 columns):\n",
      "Country               4495 non-null object\n",
      "Year                  4495 non-null int64\n",
      "Internet_Users_Pct    4495 non-null float64\n",
      "dtypes: float64(1), int64(1), object(1)\n",
      "memory usage: 105.5+ KB\n"
     ]
    }
   ],
   "source": [
    "internet_df.info()"
   ]
  },
  {
   "cell_type": "code",
   "execution_count": 83,
   "metadata": {},
   "outputs": [
    {
     "name": "stdout",
     "output_type": "stream",
     "text": [
      "<class 'pandas.core.frame.DataFrame'>\n",
      "Int64Index: 5217 entries, 0 to 5216\n",
      "Data columns (total 4 columns):\n",
      "Continent         5217 non-null category\n",
      "Country           5217 non-null object\n",
      "Year              5217 non-null object\n",
      "GDP_Per_Capita    5217 non-null float64\n",
      "dtypes: category(1), float64(1), object(2)\n",
      "memory usage: 328.3+ KB\n"
     ]
    }
   ],
   "source": [
    "gdp_df.info()"
   ]
  },
  {
   "cell_type": "code",
   "execution_count": 84,
   "metadata": {},
   "outputs": [],
   "source": [
    "internet_df.Year=internet_df.Year.astype('object')"
   ]
  },
  {
   "cell_type": "code",
   "execution_count": 85,
   "metadata": {},
   "outputs": [
    {
     "name": "stdout",
     "output_type": "stream",
     "text": [
      "<class 'pandas.core.frame.DataFrame'>\n",
      "RangeIndex: 4495 entries, 0 to 4494\n",
      "Data columns (total 3 columns):\n",
      "Country               4495 non-null object\n",
      "Year                  4495 non-null object\n",
      "Internet_Users_Pct    4495 non-null float64\n",
      "dtypes: float64(1), object(2)\n",
      "memory usage: 105.5+ KB\n"
     ]
    }
   ],
   "source": [
    "internet_df.info()"
   ]
  },
  {
   "cell_type": "code",
   "execution_count": 86,
   "metadata": {},
   "outputs": [],
   "source": [
    "internet_df.Year=internet_df.Year.astype('int64')\n",
    "gdp_df.Year=gdp_df.Year.astype('int64')"
   ]
  },
  {
   "cell_type": "code",
   "execution_count": 87,
   "metadata": {},
   "outputs": [
    {
     "data": {
      "text/html": [
       "<div>\n",
       "<style scoped>\n",
       "    .dataframe tbody tr th:only-of-type {\n",
       "        vertical-align: middle;\n",
       "    }\n",
       "\n",
       "    .dataframe tbody tr th {\n",
       "        vertical-align: top;\n",
       "    }\n",
       "\n",
       "    .dataframe thead th {\n",
       "        text-align: right;\n",
       "    }\n",
       "</style>\n",
       "<table border=\"1\" class=\"dataframe\">\n",
       "  <thead>\n",
       "    <tr style=\"text-align: right;\">\n",
       "      <th></th>\n",
       "      <th>Continent</th>\n",
       "      <th>Country</th>\n",
       "      <th>Year</th>\n",
       "      <th>GDP_Per_Capita</th>\n",
       "      <th>Internet_Users_Pct</th>\n",
       "    </tr>\n",
       "  </thead>\n",
       "  <tbody>\n",
       "    <tr>\n",
       "      <td>0</td>\n",
       "      <td>Asia</td>\n",
       "      <td>Afghanistan</td>\n",
       "      <td>2014</td>\n",
       "      <td>1795.735834</td>\n",
       "      <td>6.390000</td>\n",
       "    </tr>\n",
       "    <tr>\n",
       "      <td>1</td>\n",
       "      <td>Asia</td>\n",
       "      <td>Afghanistan</td>\n",
       "      <td>2013</td>\n",
       "      <td>1807.762344</td>\n",
       "      <td>5.900000</td>\n",
       "    </tr>\n",
       "    <tr>\n",
       "      <td>2</td>\n",
       "      <td>Asia</td>\n",
       "      <td>Afghanistan</td>\n",
       "      <td>2012</td>\n",
       "      <td>1772.764974</td>\n",
       "      <td>5.454545</td>\n",
       "    </tr>\n",
       "    <tr>\n",
       "      <td>3</td>\n",
       "      <td>Asia</td>\n",
       "      <td>Afghanistan</td>\n",
       "      <td>2011</td>\n",
       "      <td>1626.764793</td>\n",
       "      <td>5.000000</td>\n",
       "    </tr>\n",
       "    <tr>\n",
       "      <td>4</td>\n",
       "      <td>Asia</td>\n",
       "      <td>Afghanistan</td>\n",
       "      <td>2010</td>\n",
       "      <td>1671.581238</td>\n",
       "      <td>4.000000</td>\n",
       "    </tr>\n",
       "  </tbody>\n",
       "</table>\n",
       "</div>"
      ],
      "text/plain": [
       "  Continent      Country  Year  GDP_Per_Capita  Internet_Users_Pct\n",
       "0      Asia  Afghanistan  2014     1795.735834            6.390000\n",
       "1      Asia  Afghanistan  2013     1807.762344            5.900000\n",
       "2      Asia  Afghanistan  2012     1772.764974            5.454545\n",
       "3      Asia  Afghanistan  2011     1626.764793            5.000000\n",
       "4      Asia  Afghanistan  2010     1671.581238            4.000000"
      ]
     },
     "execution_count": 87,
     "metadata": {},
     "output_type": "execute_result"
    }
   ],
   "source": [
    "gdp_and_internet_use=pd.merge(gdp_df, internet_df, on=['Country', 'Year'], how='inner')\n",
    "gdp_and_internet_use.head()"
   ]
  },
  {
   "cell_type": "markdown",
   "metadata": {},
   "source": [
    "## Step 28"
   ]
  },
  {
   "cell_type": "code",
   "execution_count": 88,
   "metadata": {},
   "outputs": [],
   "source": [
    "# 28.\tLook at the first five rows of your new data frame to confirm \n",
    "# it merged correctly. Also, check the last five rows to make sure the\n",
    "# data is clean and as expected."
   ]
  },
  {
   "cell_type": "code",
   "execution_count": 89,
   "metadata": {},
   "outputs": [
    {
     "data": {
      "text/html": [
       "<div>\n",
       "<style scoped>\n",
       "    .dataframe tbody tr th:only-of-type {\n",
       "        vertical-align: middle;\n",
       "    }\n",
       "\n",
       "    .dataframe tbody tr th {\n",
       "        vertical-align: top;\n",
       "    }\n",
       "\n",
       "    .dataframe thead th {\n",
       "        text-align: right;\n",
       "    }\n",
       "</style>\n",
       "<table border=\"1\" class=\"dataframe\">\n",
       "  <thead>\n",
       "    <tr style=\"text-align: right;\">\n",
       "      <th></th>\n",
       "      <th>Continent</th>\n",
       "      <th>Country</th>\n",
       "      <th>Year</th>\n",
       "      <th>GDP_Per_Capita</th>\n",
       "      <th>Internet_Users_Pct</th>\n",
       "    </tr>\n",
       "  </thead>\n",
       "  <tbody>\n",
       "    <tr>\n",
       "      <td>3528</td>\n",
       "      <td>Africa</td>\n",
       "      <td>Zimbabwe</td>\n",
       "      <td>1997</td>\n",
       "      <td>3036.422224</td>\n",
       "      <td>0.033080</td>\n",
       "    </tr>\n",
       "    <tr>\n",
       "      <td>3529</td>\n",
       "      <td>Africa</td>\n",
       "      <td>Zimbabwe</td>\n",
       "      <td>1996</td>\n",
       "      <td>2985.856605</td>\n",
       "      <td>0.016790</td>\n",
       "    </tr>\n",
       "    <tr>\n",
       "      <td>3530</td>\n",
       "      <td>Africa</td>\n",
       "      <td>Zimbabwe</td>\n",
       "      <td>1995</td>\n",
       "      <td>2736.486436</td>\n",
       "      <td>0.007684</td>\n",
       "    </tr>\n",
       "    <tr>\n",
       "      <td>3531</td>\n",
       "      <td>Africa</td>\n",
       "      <td>Zimbabwe</td>\n",
       "      <td>1994</td>\n",
       "      <td>2768.309953</td>\n",
       "      <td>0.001739</td>\n",
       "    </tr>\n",
       "    <tr>\n",
       "      <td>3532</td>\n",
       "      <td>Africa</td>\n",
       "      <td>Zimbabwe</td>\n",
       "      <td>1990</td>\n",
       "      <td>2819.549467</td>\n",
       "      <td>0.000000</td>\n",
       "    </tr>\n",
       "  </tbody>\n",
       "</table>\n",
       "</div>"
      ],
      "text/plain": [
       "     Continent   Country  Year  GDP_Per_Capita  Internet_Users_Pct\n",
       "3528    Africa  Zimbabwe  1997     3036.422224            0.033080\n",
       "3529    Africa  Zimbabwe  1996     2985.856605            0.016790\n",
       "3530    Africa  Zimbabwe  1995     2736.486436            0.007684\n",
       "3531    Africa  Zimbabwe  1994     2768.309953            0.001739\n",
       "3532    Africa  Zimbabwe  1990     2819.549467            0.000000"
      ]
     },
     "execution_count": 89,
     "metadata": {},
     "output_type": "execute_result"
    }
   ],
   "source": [
    "gdp_and_internet_use.tail()"
   ]
  },
  {
   "cell_type": "markdown",
   "metadata": {},
   "source": [
    "## Step 29"
   ]
  },
  {
   "cell_type": "code",
   "execution_count": 90,
   "metadata": {},
   "outputs": [],
   "source": [
    "# 29. Create a new DataFrame, named 'gdp_and_internet_use_2014`\n",
    "# extracting data for the year 2014 from `gdp_and_internet_use`. What \n",
    "# is the mean internet users percentage in 2014? How many countries \n",
    "# have at least 90% internet users in 2014?"
   ]
  },
  {
   "cell_type": "code",
   "execution_count": 91,
   "metadata": {},
   "outputs": [],
   "source": [
    "gdp_and_internet_use_2014=gdp_and_internet_use[gdp_and_internet_use['Year'] == 2014]"
   ]
  },
  {
   "cell_type": "code",
   "execution_count": 92,
   "metadata": {},
   "outputs": [
    {
     "data": {
      "text/html": [
       "<div>\n",
       "<style scoped>\n",
       "    .dataframe tbody tr th:only-of-type {\n",
       "        vertical-align: middle;\n",
       "    }\n",
       "\n",
       "    .dataframe tbody tr th {\n",
       "        vertical-align: top;\n",
       "    }\n",
       "\n",
       "    .dataframe thead th {\n",
       "        text-align: right;\n",
       "    }\n",
       "</style>\n",
       "<table border=\"1\" class=\"dataframe\">\n",
       "  <thead>\n",
       "    <tr style=\"text-align: right;\">\n",
       "      <th></th>\n",
       "      <th>Continent</th>\n",
       "      <th>Country</th>\n",
       "      <th>Year</th>\n",
       "      <th>GDP_Per_Capita</th>\n",
       "      <th>Internet_Users_Pct</th>\n",
       "    </tr>\n",
       "  </thead>\n",
       "  <tbody>\n",
       "    <tr>\n",
       "      <td>0</td>\n",
       "      <td>Asia</td>\n",
       "      <td>Afghanistan</td>\n",
       "      <td>2014</td>\n",
       "      <td>1795.735834</td>\n",
       "      <td>6.39</td>\n",
       "    </tr>\n",
       "    <tr>\n",
       "      <td>13</td>\n",
       "      <td>Europe</td>\n",
       "      <td>Albania</td>\n",
       "      <td>2014</td>\n",
       "      <td>10700.522802</td>\n",
       "      <td>60.10</td>\n",
       "    </tr>\n",
       "    <tr>\n",
       "      <td>34</td>\n",
       "      <td>Africa</td>\n",
       "      <td>Algeria</td>\n",
       "      <td>2014</td>\n",
       "      <td>13549.025150</td>\n",
       "      <td>18.09</td>\n",
       "    </tr>\n",
       "    <tr>\n",
       "      <td>56</td>\n",
       "      <td>Africa</td>\n",
       "      <td>Angola</td>\n",
       "      <td>2014</td>\n",
       "      <td>6813.052106</td>\n",
       "      <td>21.26</td>\n",
       "    </tr>\n",
       "    <tr>\n",
       "      <td>76</td>\n",
       "      <td>North America</td>\n",
       "      <td>Antigua and Barbuda</td>\n",
       "      <td>2014</td>\n",
       "      <td>20820.551057</td>\n",
       "      <td>64.00</td>\n",
       "    </tr>\n",
       "    <tr>\n",
       "      <td>...</td>\n",
       "      <td>...</td>\n",
       "      <td>...</td>\n",
       "      <td>...</td>\n",
       "      <td>...</td>\n",
       "      <td>...</td>\n",
       "    </tr>\n",
       "    <tr>\n",
       "      <td>3425</td>\n",
       "      <td>Oceania</td>\n",
       "      <td>Vanuatu</td>\n",
       "      <td>2014</td>\n",
       "      <td>2837.122659</td>\n",
       "      <td>18.80</td>\n",
       "    </tr>\n",
       "    <tr>\n",
       "      <td>3445</td>\n",
       "      <td>South America</td>\n",
       "      <td>Venezuela</td>\n",
       "      <td>2014</td>\n",
       "      <td>17131.386907</td>\n",
       "      <td>57.00</td>\n",
       "    </tr>\n",
       "    <tr>\n",
       "      <td>3469</td>\n",
       "      <td>Asia</td>\n",
       "      <td>Yemen</td>\n",
       "      <td>2014</td>\n",
       "      <td>3828.484887</td>\n",
       "      <td>22.55</td>\n",
       "    </tr>\n",
       "    <tr>\n",
       "      <td>3489</td>\n",
       "      <td>Africa</td>\n",
       "      <td>Zambia</td>\n",
       "      <td>2014</td>\n",
       "      <td>3684.685507</td>\n",
       "      <td>17.34</td>\n",
       "    </tr>\n",
       "    <tr>\n",
       "      <td>3511</td>\n",
       "      <td>Africa</td>\n",
       "      <td>Zimbabwe</td>\n",
       "      <td>2014</td>\n",
       "      <td>2506.490220</td>\n",
       "      <td>19.89</td>\n",
       "    </tr>\n",
       "  </tbody>\n",
       "</table>\n",
       "<p>165 rows × 5 columns</p>\n",
       "</div>"
      ],
      "text/plain": [
       "          Continent              Country  Year  GDP_Per_Capita  \\\n",
       "0              Asia          Afghanistan  2014     1795.735834   \n",
       "13           Europe              Albania  2014    10700.522802   \n",
       "34           Africa              Algeria  2014    13549.025150   \n",
       "56           Africa               Angola  2014     6813.052106   \n",
       "76    North America  Antigua and Barbuda  2014    20820.551057   \n",
       "...             ...                  ...   ...             ...   \n",
       "3425        Oceania              Vanuatu  2014     2837.122659   \n",
       "3445  South America            Venezuela  2014    17131.386907   \n",
       "3469           Asia                Yemen  2014     3828.484887   \n",
       "3489         Africa               Zambia  2014     3684.685507   \n",
       "3511         Africa             Zimbabwe  2014     2506.490220   \n",
       "\n",
       "      Internet_Users_Pct  \n",
       "0                   6.39  \n",
       "13                 60.10  \n",
       "34                 18.09  \n",
       "56                 21.26  \n",
       "76                 64.00  \n",
       "...                  ...  \n",
       "3425               18.80  \n",
       "3445               57.00  \n",
       "3469               22.55  \n",
       "3489               17.34  \n",
       "3511               19.89  \n",
       "\n",
       "[165 rows x 5 columns]"
      ]
     },
     "execution_count": 92,
     "metadata": {},
     "output_type": "execute_result"
    }
   ],
   "source": [
    "gdp_and_internet_use_2014"
   ]
  },
  {
   "cell_type": "code",
   "execution_count": 93,
   "metadata": {},
   "outputs": [
    {
     "data": {
      "text/plain": [
       "44.550727151515154"
      ]
     },
     "execution_count": 93,
     "metadata": {},
     "output_type": "execute_result"
    }
   ],
   "source": [
    "gdp_and_internet_use_2014.Internet_Users_Pct.mean()"
   ]
  },
  {
   "cell_type": "code",
   "execution_count": 94,
   "metadata": {},
   "outputs": [
    {
     "name": "stdout",
     "output_type": "stream",
     "text": [
      "<class 'pandas.core.frame.DataFrame'>\n",
      "Int64Index: 165 entries, 0 to 3511\n",
      "Data columns (total 5 columns):\n",
      "Continent             165 non-null category\n",
      "Country               165 non-null object\n",
      "Year                  165 non-null int64\n",
      "GDP_Per_Capita        165 non-null float64\n",
      "Internet_Users_Pct    165 non-null float64\n",
      "dtypes: category(1), float64(2), int64(1), object(1)\n",
      "memory usage: 6.8+ KB\n"
     ]
    }
   ],
   "source": [
    "gdp_and_internet_use_2014.info()"
   ]
  },
  {
   "cell_type": "code",
   "execution_count": 95,
   "metadata": {},
   "outputs": [
    {
     "data": {
      "text/plain": [
       "Continent             165\n",
       "Country               165\n",
       "Year                  165\n",
       "GDP_Per_Capita        165\n",
       "Internet_Users_Pct    165\n",
       "dtype: int64"
      ]
     },
     "execution_count": 95,
     "metadata": {},
     "output_type": "execute_result"
    }
   ],
   "source": [
    "gdp_and_internet_use_2014[(gdp_and_internet_use_2014.Internet_Users_Pct) >= .9].count()\n"
   ]
  },
  {
   "cell_type": "code",
   "execution_count": 96,
   "metadata": {},
   "outputs": [],
   "source": [
    "# 165 countries have an internet users percentage of at least 90%. \n",
    "# I'm not sure I did this correctly. Pretty sure its wrong "
   ]
  },
  {
   "cell_type": "markdown",
   "metadata": {},
   "source": [
    "## Step 30"
   ]
  },
  {
   "cell_type": "code",
   "execution_count": 97,
   "metadata": {},
   "outputs": [],
   "source": [
    "# 30. Find the countries that had the top 5 largest GDP per capita \n",
    "# figures for 2014. Create a seaborn FacetGrid showing the change in \n",
    "# internet user percentage over time for these five countries. What \n",
    "# trends do you notice?"
   ]
  },
  {
   "cell_type": "code",
   "execution_count": 98,
   "metadata": {},
   "outputs": [
    {
     "data": {
      "text/plain": [
       "2556    116693.507701\n",
       "1812     92349.186486\n",
       "2800     81965.361071\n",
       "1685     72588.486007\n",
       "2310     63419.314779\n",
       "Name: GDP_Per_Capita, dtype: float64"
      ]
     },
     "execution_count": 98,
     "metadata": {},
     "output_type": "execute_result"
    }
   ],
   "source": [
    "gdp_and_internet_use_2014.GDP_Per_Capita.nlargest(5)"
   ]
  },
  {
   "cell_type": "code",
   "execution_count": 99,
   "metadata": {},
   "outputs": [
    {
     "data": {
      "text/html": [
       "<div>\n",
       "<style scoped>\n",
       "    .dataframe tbody tr th:only-of-type {\n",
       "        vertical-align: middle;\n",
       "    }\n",
       "\n",
       "    .dataframe tbody tr th {\n",
       "        vertical-align: top;\n",
       "    }\n",
       "\n",
       "    .dataframe thead th {\n",
       "        text-align: right;\n",
       "    }\n",
       "</style>\n",
       "<table border=\"1\" class=\"dataframe\">\n",
       "  <thead>\n",
       "    <tr style=\"text-align: right;\">\n",
       "      <th></th>\n",
       "      <th>Continent</th>\n",
       "      <th>Country</th>\n",
       "      <th>Year</th>\n",
       "      <th>GDP_Per_Capita</th>\n",
       "      <th>Internet_Users_Pct</th>\n",
       "    </tr>\n",
       "  </thead>\n",
       "  <tbody>\n",
       "    <tr>\n",
       "      <td>2556</td>\n",
       "      <td>Asia</td>\n",
       "      <td>Qatar</td>\n",
       "      <td>2014</td>\n",
       "      <td>116693.507701</td>\n",
       "      <td>91.49</td>\n",
       "    </tr>\n",
       "    <tr>\n",
       "      <td>1812</td>\n",
       "      <td>Europe</td>\n",
       "      <td>Luxembourg</td>\n",
       "      <td>2014</td>\n",
       "      <td>92349.186486</td>\n",
       "      <td>94.67</td>\n",
       "    </tr>\n",
       "    <tr>\n",
       "      <td>2800</td>\n",
       "      <td>Asia</td>\n",
       "      <td>Singapore</td>\n",
       "      <td>2014</td>\n",
       "      <td>81965.361071</td>\n",
       "      <td>82.00</td>\n",
       "    </tr>\n",
       "    <tr>\n",
       "      <td>1685</td>\n",
       "      <td>Asia</td>\n",
       "      <td>Kuwait</td>\n",
       "      <td>2014</td>\n",
       "      <td>72588.486007</td>\n",
       "      <td>78.70</td>\n",
       "    </tr>\n",
       "    <tr>\n",
       "      <td>2310</td>\n",
       "      <td>Europe</td>\n",
       "      <td>Norway</td>\n",
       "      <td>2014</td>\n",
       "      <td>63419.314779</td>\n",
       "      <td>96.30</td>\n",
       "    </tr>\n",
       "  </tbody>\n",
       "</table>\n",
       "</div>"
      ],
      "text/plain": [
       "     Continent     Country  Year  GDP_Per_Capita  Internet_Users_Pct\n",
       "2556      Asia       Qatar  2014   116693.507701               91.49\n",
       "1812    Europe  Luxembourg  2014    92349.186486               94.67\n",
       "2800      Asia   Singapore  2014    81965.361071               82.00\n",
       "1685      Asia      Kuwait  2014    72588.486007               78.70\n",
       "2310    Europe      Norway  2014    63419.314779               96.30"
      ]
     },
     "execution_count": 99,
     "metadata": {},
     "output_type": "execute_result"
    }
   ],
   "source": [
    "gdp_and_internet_use_2014.nlargest(5, 'GDP_Per_Capita')"
   ]
  },
  {
   "cell_type": "code",
   "execution_count": 100,
   "metadata": {},
   "outputs": [],
   "source": [
    "### This is where it gets fishy. I'm trying to make a Facet grid..."
   ]
  },
  {
   "cell_type": "code",
   "execution_count": 101,
   "metadata": {},
   "outputs": [],
   "source": [
    "top_5_df=gdp_and_internet_use_2014.nlargest(5, 'GDP_Per_Capita')"
   ]
  },
  {
   "cell_type": "code",
   "execution_count": 102,
   "metadata": {},
   "outputs": [],
   "source": [
    "top_5_df=pd.DataFrame({'Country':['Qatar','Luxembourg','Singapore','Kuwait','Norway'], 'Year':['2014','2014','2014','2014','2014'], 'Internet_Users_Pct':['91.49','94.67','82.00','78.70','96.30']})"
   ]
  },
  {
   "cell_type": "code",
   "execution_count": 103,
   "metadata": {},
   "outputs": [
    {
     "data": {
      "text/html": [
       "<div>\n",
       "<style scoped>\n",
       "    .dataframe tbody tr th:only-of-type {\n",
       "        vertical-align: middle;\n",
       "    }\n",
       "\n",
       "    .dataframe tbody tr th {\n",
       "        vertical-align: top;\n",
       "    }\n",
       "\n",
       "    .dataframe thead th {\n",
       "        text-align: right;\n",
       "    }\n",
       "</style>\n",
       "<table border=\"1\" class=\"dataframe\">\n",
       "  <thead>\n",
       "    <tr style=\"text-align: right;\">\n",
       "      <th></th>\n",
       "      <th>Country</th>\n",
       "      <th>Year</th>\n",
       "      <th>Internet_Users_Pct</th>\n",
       "    </tr>\n",
       "  </thead>\n",
       "  <tbody>\n",
       "    <tr>\n",
       "      <td>0</td>\n",
       "      <td>Qatar</td>\n",
       "      <td>2014</td>\n",
       "      <td>91.49</td>\n",
       "    </tr>\n",
       "    <tr>\n",
       "      <td>1</td>\n",
       "      <td>Luxembourg</td>\n",
       "      <td>2014</td>\n",
       "      <td>94.67</td>\n",
       "    </tr>\n",
       "    <tr>\n",
       "      <td>2</td>\n",
       "      <td>Singapore</td>\n",
       "      <td>2014</td>\n",
       "      <td>82.00</td>\n",
       "    </tr>\n",
       "    <tr>\n",
       "      <td>3</td>\n",
       "      <td>Kuwait</td>\n",
       "      <td>2014</td>\n",
       "      <td>78.70</td>\n",
       "    </tr>\n",
       "    <tr>\n",
       "      <td>4</td>\n",
       "      <td>Norway</td>\n",
       "      <td>2014</td>\n",
       "      <td>96.30</td>\n",
       "    </tr>\n",
       "  </tbody>\n",
       "</table>\n",
       "</div>"
      ],
      "text/plain": [
       "      Country  Year Internet_Users_Pct\n",
       "0       Qatar  2014              91.49\n",
       "1  Luxembourg  2014              94.67\n",
       "2   Singapore  2014              82.00\n",
       "3      Kuwait  2014              78.70\n",
       "4      Norway  2014              96.30"
      ]
     },
     "execution_count": 103,
     "metadata": {},
     "output_type": "execute_result"
    }
   ],
   "source": [
    "top_5_df"
   ]
  },
  {
   "cell_type": "code",
   "execution_count": 104,
   "metadata": {},
   "outputs": [],
   "source": [
    "top_5_df_list = top_5_df.Country.tolist()"
   ]
  },
  {
   "cell_type": "code",
   "execution_count": 105,
   "metadata": {},
   "outputs": [
    {
     "data": {
      "text/plain": [
       "['Qatar', 'Luxembourg', 'Singapore', 'Kuwait', 'Norway']"
      ]
     },
     "execution_count": 105,
     "metadata": {},
     "output_type": "execute_result"
    }
   ],
   "source": [
    "top_5_df_list"
   ]
  },
  {
   "cell_type": "code",
   "execution_count": 106,
   "metadata": {},
   "outputs": [],
   "source": [
    "top_5_main_df= gdp_and_internet_use.loc[gdp_and_internet_use.Country.isin(top_5_df_list)]"
   ]
  },
  {
   "cell_type": "code",
   "execution_count": 107,
   "metadata": {},
   "outputs": [
    {
     "data": {
      "text/html": [
       "<div>\n",
       "<style scoped>\n",
       "    .dataframe tbody tr th:only-of-type {\n",
       "        vertical-align: middle;\n",
       "    }\n",
       "\n",
       "    .dataframe tbody tr th {\n",
       "        vertical-align: top;\n",
       "    }\n",
       "\n",
       "    .dataframe thead th {\n",
       "        text-align: right;\n",
       "    }\n",
       "</style>\n",
       "<table border=\"1\" class=\"dataframe\">\n",
       "  <thead>\n",
       "    <tr style=\"text-align: right;\">\n",
       "      <th></th>\n",
       "      <th>Continent</th>\n",
       "      <th>Country</th>\n",
       "      <th>Year</th>\n",
       "      <th>GDP_Per_Capita</th>\n",
       "      <th>Internet_Users_Pct</th>\n",
       "    </tr>\n",
       "  </thead>\n",
       "  <tbody>\n",
       "    <tr>\n",
       "      <td>1685</td>\n",
       "      <td>Asia</td>\n",
       "      <td>Kuwait</td>\n",
       "      <td>2014</td>\n",
       "      <td>72588.486007</td>\n",
       "      <td>78.700000</td>\n",
       "    </tr>\n",
       "    <tr>\n",
       "      <td>1686</td>\n",
       "      <td>Asia</td>\n",
       "      <td>Kuwait</td>\n",
       "      <td>2013</td>\n",
       "      <td>75597.292936</td>\n",
       "      <td>75.460000</td>\n",
       "    </tr>\n",
       "    <tr>\n",
       "      <td>1687</td>\n",
       "      <td>Asia</td>\n",
       "      <td>Kuwait</td>\n",
       "      <td>2012</td>\n",
       "      <td>78700.458568</td>\n",
       "      <td>70.450000</td>\n",
       "    </tr>\n",
       "    <tr>\n",
       "      <td>1688</td>\n",
       "      <td>Asia</td>\n",
       "      <td>Kuwait</td>\n",
       "      <td>2011</td>\n",
       "      <td>78021.671676</td>\n",
       "      <td>65.769071</td>\n",
       "    </tr>\n",
       "    <tr>\n",
       "      <td>1689</td>\n",
       "      <td>Asia</td>\n",
       "      <td>Kuwait</td>\n",
       "      <td>2010</td>\n",
       "      <td>75359.963489</td>\n",
       "      <td>61.400000</td>\n",
       "    </tr>\n",
       "  </tbody>\n",
       "</table>\n",
       "</div>"
      ],
      "text/plain": [
       "     Continent Country  Year  GDP_Per_Capita  Internet_Users_Pct\n",
       "1685      Asia  Kuwait  2014    72588.486007           78.700000\n",
       "1686      Asia  Kuwait  2013    75597.292936           75.460000\n",
       "1687      Asia  Kuwait  2012    78700.458568           70.450000\n",
       "1688      Asia  Kuwait  2011    78021.671676           65.769071\n",
       "1689      Asia  Kuwait  2010    75359.963489           61.400000"
      ]
     },
     "execution_count": 107,
     "metadata": {},
     "output_type": "execute_result"
    }
   ],
   "source": [
    "top_5_main_df.head()"
   ]
  },
  {
   "cell_type": "code",
   "execution_count": 108,
   "metadata": {},
   "outputs": [
    {
     "name": "stdout",
     "output_type": "stream",
     "text": [
      "[['Qatar', '2014', '91.49'], ['Luxembourg', '2014', '94.67'], ['Singapore', '2014', '82.00'], ['Kuwait', '2014', '78.70'], ['Norway', '2014', '96.30']]\n"
     ]
    }
   ],
   "source": [
    "# Create an empty list \n",
    "top_5_list =[] \n",
    "  \n",
    "# Iterate over each row \n",
    "for index, rows in top_5_df.iterrows(): \n",
    "    # Create list for the current row \n",
    "    my_list =[rows.Country, rows.Year, rows.Internet_Users_Pct] \n",
    "      \n",
    "    # append the list to the final list \n",
    "    top_5_list.append(my_list) \n",
    "  \n",
    "# Print the list \n",
    "print(top_5_list) "
   ]
  },
  {
   "cell_type": "code",
   "execution_count": 109,
   "metadata": {},
   "outputs": [
    {
     "data": {
      "image/png": "[encoded data removed]",
      "text/plain": [
       "<Figure size 1080x216 with 5 Axes>"
      ]
     },
     "metadata": {
      "needs_background": "light"
     },
     "output_type": "display_data"
    }
   ],
   "source": [
    "top_5_graph=sns.FacetGrid(top_5_main_df, col='Country', hue = 'Country')\n",
    "top_5_graph.map(plt.plot, \"Year\",\"Internet_Users_Pct\");\n"
   ]
  },
  {
   "cell_type": "markdown",
   "metadata": {},
   "source": [
    "## Step 31"
   ]
  },
  {
   "cell_type": "code",
   "execution_count": 110,
   "metadata": {},
   "outputs": [],
   "source": [
    "# 31. Create a scatter plot of Internet Use vs GDP per Capita for \n",
    "# the year 2014."
   ]
  },
  {
   "cell_type": "code",
   "execution_count": 111,
   "metadata": {},
   "outputs": [
    {
     "data": {
      "image/png": "[encoded data removed]",
      "text/plain": [
       "<Figure size 432x288 with 1 Axes>"
      ]
     },
     "metadata": {
      "needs_background": "light"
     },
     "output_type": "display_data"
    }
   ],
   "source": [
    "gdp_and_internet_use_2014.plot(kind='scatter', x = 'Internet_Users_Pct', y = 'GDP_Per_Capita');\n",
    "# My axes are flipped compared to Michael's "
   ]
  },
  {
   "cell_type": "markdown",
   "metadata": {},
   "source": [
    "## Step 32"
   ]
  },
  {
   "cell_type": "code",
   "execution_count": 112,
   "metadata": {},
   "outputs": [],
   "source": [
    "# 32. Find the correlation between GDP per Capita and Internet Use for \n",
    "# the year 2014. What is the meaning of this number?"
   ]
  },
  {
   "cell_type": "code",
   "execution_count": 113,
   "metadata": {},
   "outputs": [
    {
     "data": {
      "text/html": [
       "<div>\n",
       "<style scoped>\n",
       "    .dataframe tbody tr th:only-of-type {\n",
       "        vertical-align: middle;\n",
       "    }\n",
       "\n",
       "    .dataframe tbody tr th {\n",
       "        vertical-align: top;\n",
       "    }\n",
       "\n",
       "    .dataframe thead th {\n",
       "        text-align: right;\n",
       "    }\n",
       "</style>\n",
       "<table border=\"1\" class=\"dataframe\">\n",
       "  <thead>\n",
       "    <tr style=\"text-align: right;\">\n",
       "      <th></th>\n",
       "      <th>Year</th>\n",
       "      <th>GDP_Per_Capita</th>\n",
       "      <th>Internet_Users_Pct</th>\n",
       "    </tr>\n",
       "  </thead>\n",
       "  <tbody>\n",
       "    <tr>\n",
       "      <td>Year</td>\n",
       "      <td>NaN</td>\n",
       "      <td>NaN</td>\n",
       "      <td>NaN</td>\n",
       "    </tr>\n",
       "    <tr>\n",
       "      <td>GDP_Per_Capita</td>\n",
       "      <td>NaN</td>\n",
       "      <td>1.000000</td>\n",
       "      <td>0.788933</td>\n",
       "    </tr>\n",
       "    <tr>\n",
       "      <td>Internet_Users_Pct</td>\n",
       "      <td>NaN</td>\n",
       "      <td>0.788933</td>\n",
       "      <td>1.000000</td>\n",
       "    </tr>\n",
       "  </tbody>\n",
       "</table>\n",
       "</div>"
      ],
      "text/plain": [
       "                    Year  GDP_Per_Capita  Internet_Users_Pct\n",
       "Year                 NaN             NaN                 NaN\n",
       "GDP_Per_Capita       NaN        1.000000            0.788933\n",
       "Internet_Users_Pct   NaN        0.788933            1.000000"
      ]
     },
     "execution_count": 113,
     "metadata": {},
     "output_type": "execute_result"
    }
   ],
   "source": [
    "gdp_and_internet_use_2014.corr()"
   ]
  },
  {
   "cell_type": "code",
   "execution_count": 114,
   "metadata": {},
   "outputs": [],
   "source": [
    "# The correlation between GDP Per Capita and Internet Use is 0.788933. "
   ]
  },
  {
   "cell_type": "markdown",
   "metadata": {},
   "source": [
    "## Step 33"
   ]
  },
  {
   "cell_type": "code",
   "execution_count": 115,
   "metadata": {},
   "outputs": [],
   "source": [
    "# 33. Using the statsmodels library, create an ordinary linear \n",
    "# regression model with independent variable GDP per capita and \n",
    "# dependent variable internet users percentage for the year 2014. \n",
    "# Be sure to include an intercept term. Print the model summary. \n",
    "# What R^2 value do you get for this model? What is the meaning of \n",
    "# this number?"
   ]
  },
  {
   "cell_type": "code",
   "execution_count": 116,
   "metadata": {},
   "outputs": [
    {
     "data": {
      "text/html": [
       "<table class=\"simpletable\">\n",
       "<caption>OLS Regression Results</caption>\n",
       "<tr>\n",
       "  <th>Dep. Variable:</th>    <td>Internet_Users_Pct</td> <th>  R-squared (uncentered):</th>      <td>   0.794</td>\n",
       "</tr>\n",
       "<tr>\n",
       "  <th>Model:</th>                    <td>OLS</td>        <th>  Adj. R-squared (uncentered):</th> <td>   0.793</td>\n",
       "</tr>\n",
       "<tr>\n",
       "  <th>Method:</th>              <td>Least Squares</td>   <th>  F-statistic:       </th>          <td>   633.9</td>\n",
       "</tr>\n",
       "<tr>\n",
       "  <th>Date:</th>              <td>Thu, 03 Oct 2019</td>  <th>  Prob (F-statistic):</th>          <td>3.17e-58</td>\n",
       "</tr>\n",
       "<tr>\n",
       "  <th>Time:</th>                  <td>17:45:25</td>      <th>  Log-Likelihood:    </th>          <td> -759.59</td>\n",
       "</tr>\n",
       "<tr>\n",
       "  <th>No. Observations:</th>       <td>   165</td>       <th>  AIC:               </th>          <td>   1521.</td>\n",
       "</tr>\n",
       "<tr>\n",
       "  <th>Df Residuals:</th>           <td>   164</td>       <th>  BIC:               </th>          <td>   1524.</td>\n",
       "</tr>\n",
       "<tr>\n",
       "  <th>Df Model:</th>               <td>     1</td>       <th>                     </th>              <td> </td>   \n",
       "</tr>\n",
       "<tr>\n",
       "  <th>Covariance Type:</th>       <td>nonrobust</td>     <th>                     </th>              <td> </td>   \n",
       "</tr>\n",
       "</table>\n",
       "<table class=\"simpletable\">\n",
       "<tr>\n",
       "         <td></td>           <th>coef</th>     <th>std err</th>      <th>t</th>      <th>P>|t|</th>  <th>[0.025</th>    <th>0.975]</th>  \n",
       "</tr>\n",
       "<tr>\n",
       "  <th>GDP_Per_Capita</th> <td>    0.0018</td> <td> 7.13e-05</td> <td>   25.177</td> <td> 0.000</td> <td>    0.002</td> <td>    0.002</td>\n",
       "</tr>\n",
       "</table>\n",
       "<table class=\"simpletable\">\n",
       "<tr>\n",
       "  <th>Omnibus:</th>       <td>103.254</td> <th>  Durbin-Watson:     </th> <td>   1.609</td> \n",
       "</tr>\n",
       "<tr>\n",
       "  <th>Prob(Omnibus):</th> <td> 0.000</td>  <th>  Jarque-Bera (JB):  </th> <td> 764.069</td> \n",
       "</tr>\n",
       "<tr>\n",
       "  <th>Skew:</th>          <td>-2.228</td>  <th>  Prob(JB):          </th> <td>1.21e-166</td>\n",
       "</tr>\n",
       "<tr>\n",
       "  <th>Kurtosis:</th>      <td>12.554</td>  <th>  Cond. No.          </th> <td>    1.00</td> \n",
       "</tr>\n",
       "</table><br/><br/>Warnings:<br/>[1] Standard Errors assume that the covariance matrix of the errors is correctly specified."
      ],
      "text/plain": [
       "<class 'statsmodels.iolib.summary.Summary'>\n",
       "\"\"\"\n",
       "                                 OLS Regression Results                                \n",
       "=======================================================================================\n",
       "Dep. Variable:     Internet_Users_Pct   R-squared (uncentered):                   0.794\n",
       "Model:                            OLS   Adj. R-squared (uncentered):              0.793\n",
       "Method:                 Least Squares   F-statistic:                              633.9\n",
       "Date:                Thu, 03 Oct 2019   Prob (F-statistic):                    3.17e-58\n",
       "Time:                        17:45:25   Log-Likelihood:                         -759.59\n",
       "No. Observations:                 165   AIC:                                      1521.\n",
       "Df Residuals:                     164   BIC:                                      1524.\n",
       "Df Model:                           1                                                  \n",
       "Covariance Type:            nonrobust                                                  \n",
       "==================================================================================\n",
       "                     coef    std err          t      P>|t|      [0.025      0.975]\n",
       "----------------------------------------------------------------------------------\n",
       "GDP_Per_Capita     0.0018   7.13e-05     25.177      0.000       0.002       0.002\n",
       "==============================================================================\n",
       "Omnibus:                      103.254   Durbin-Watson:                   1.609\n",
       "Prob(Omnibus):                  0.000   Jarque-Bera (JB):              764.069\n",
       "Skew:                          -2.228   Prob(JB):                    1.21e-166\n",
       "Kurtosis:                      12.554   Cond. No.                         1.00\n",
       "==============================================================================\n",
       "\n",
       "Warnings:\n",
       "[1] Standard Errors assume that the covariance matrix of the errors is correctly specified.\n",
       "\"\"\""
      ]
     },
     "execution_count": 116,
     "metadata": {},
     "output_type": "execute_result"
    }
   ],
   "source": [
    "import statsmodels.api as sm\n",
    "\n",
    "X = gdp_and_internet_use_2014[\"GDP_Per_Capita\"]\n",
    "y = gdp_and_internet_use_2014[\"Internet_Users_Pct\"]\n",
    "# need this! x=sm.add_constant(x)\n",
    "\n",
    "# Note the difference in argument order\n",
    "model = sm.OLS(y, X).fit()\n",
    "predictions = model.predict(X) # make the predictions by the model\n",
    "\n",
    "\n",
    "# Print out the statistics\n",
    "model.summary()"
   ]
  },
  {
   "cell_type": "markdown",
   "metadata": {},
   "source": [
    "## Step 34"
   ]
  },
  {
   "cell_type": "code",
   "execution_count": 117,
   "metadata": {},
   "outputs": [],
   "source": [
    "# 34. Add a column to `gdp_and_internet_use_2014` and calculate \n",
    "# the logarithm of GDP per capita. Find the correlation between the \n",
    "# log of GDP per capita and internet users percentage. Run an ordinary \n",
    "# linear regression with response variable internet users and \n",
    "# explanatory variable the log of the GDP per capita, and view the \n",
    "# model summary. What is the meaning of the coefficients you get? \n",
    "# Which of the two models that you created appears to do a better job?"
   ]
  },
  {
   "cell_type": "code",
   "execution_count": 118,
   "metadata": {},
   "outputs": [
    {
     "data": {
      "text/plain": [
       "Index(['Continent', 'Country', 'Year', 'GDP_Per_Capita', 'Internet_Users_Pct'], dtype='object')"
      ]
     },
     "execution_count": 118,
     "metadata": {},
     "output_type": "execute_result"
    }
   ],
   "source": [
    "gdp_and_internet_use_2014.columns"
   ]
  },
  {
   "cell_type": "code",
   "execution_count": 119,
   "metadata": {},
   "outputs": [
    {
     "data": {
      "text/plain": [
       "dtype('float64')"
      ]
     },
     "execution_count": 119,
     "metadata": {},
     "output_type": "execute_result"
    }
   ],
   "source": [
    "gdp_and_internet_use_2014.GDP_Per_Capita.dtype"
   ]
  },
  {
   "cell_type": "code",
   "execution_count": 120,
   "metadata": {},
   "outputs": [
    {
     "name": "stdout",
     "output_type": "stream",
     "text": [
      "<class 'pandas.core.frame.DataFrame'>\n",
      "Int64Index: 165 entries, 0 to 3511\n",
      "Data columns (total 5 columns):\n",
      "Continent             165 non-null category\n",
      "Country               165 non-null object\n",
      "Year                  165 non-null int64\n",
      "GDP_Per_Capita        165 non-null float64\n",
      "Internet_Users_Pct    165 non-null float64\n",
      "dtypes: category(1), float64(2), int64(1), object(1)\n",
      "memory usage: 6.8+ KB\n"
     ]
    }
   ],
   "source": [
    "gdp_and_internet_use_2014.info()"
   ]
  },
  {
   "cell_type": "code",
   "execution_count": 121,
   "metadata": {},
   "outputs": [
    {
     "name": "stderr",
     "output_type": "stream",
     "text": [
      "//anaconda3/lib/python3.7/site-packages/ipykernel_launcher.py:1: SettingWithCopyWarning: \n",
      "A value is trying to be set on a copy of a slice from a DataFrame.\n",
      "Try using .loc[row_indexer,col_indexer] = value instead\n",
      "\n",
      "See the caveats in the documentation: http://pandas.pydata.org/pandas-docs/stable/user_guide/indexing.html#returning-a-view-versus-a-copy\n",
      "  \"\"\"Entry point for launching an IPython kernel.\n"
     ]
    }
   ],
   "source": [
    "gdp_and_internet_use_2014['log_GDP_Per_Capita']=np.log(gdp_and_internet_use_2014['GDP_Per_Capita'])"
   ]
  },
  {
   "cell_type": "code",
   "execution_count": 122,
   "metadata": {},
   "outputs": [
    {
     "data": {
      "text/plain": [
       "0       7.493170\n",
       "13      9.278048\n",
       "34      9.514070\n",
       "56      8.826595\n",
       "76      9.943696\n",
       "          ...   \n",
       "3425    7.950546\n",
       "3445    9.748668\n",
       "3469    8.250224\n",
       "3489    8.211940\n",
       "3511    7.826639\n",
       "Name: log_GDP_Per_Capita, Length: 165, dtype: float64"
      ]
     },
     "execution_count": 122,
     "metadata": {},
     "output_type": "execute_result"
    }
   ],
   "source": [
    "gdp_and_internet_use_2014['log_GDP_Per_Capita']"
   ]
  },
  {
   "cell_type": "markdown",
   "metadata": {},
   "source": [
    "## Step 35"
   ]
  },
  {
   "cell_type": "code",
   "execution_count": 123,
   "metadata": {},
   "outputs": [],
   "source": [
    "# 35. Filter the original dataset down to just the United States for \n",
    "# all available years. Calculate correlation between internet use and \n",
    "# gdp per capita. Is this meaningful or useful?"
   ]
  },
  {
   "cell_type": "code",
   "execution_count": 124,
   "metadata": {},
   "outputs": [],
   "source": [
    "US_df = gdp_and_internet_use['Country'].str.contains('United States')"
   ]
  },
  {
   "cell_type": "code",
   "execution_count": 125,
   "metadata": {},
   "outputs": [
    {
     "data": {
      "text/plain": [
       "False    3508\n",
       "True       25\n",
       "Name: Country, dtype: int64"
      ]
     },
     "execution_count": 125,
     "metadata": {},
     "output_type": "execute_result"
    }
   ],
   "source": [
    "US_df.value_counts()"
   ]
  },
  {
   "cell_type": "code",
   "execution_count": 126,
   "metadata": {},
   "outputs": [
    {
     "data": {
      "text/html": [
       "<div>\n",
       "<style scoped>\n",
       "    .dataframe tbody tr th:only-of-type {\n",
       "        vertical-align: middle;\n",
       "    }\n",
       "\n",
       "    .dataframe tbody tr th {\n",
       "        vertical-align: top;\n",
       "    }\n",
       "\n",
       "    .dataframe thead th {\n",
       "        text-align: right;\n",
       "    }\n",
       "</style>\n",
       "<table border=\"1\" class=\"dataframe\">\n",
       "  <thead>\n",
       "    <tr style=\"text-align: right;\">\n",
       "      <th></th>\n",
       "      <th>Continent</th>\n",
       "      <th>Country</th>\n",
       "      <th>Year</th>\n",
       "      <th>GDP_Per_Capita</th>\n",
       "      <th>Internet_Users_Pct</th>\n",
       "    </tr>\n",
       "  </thead>\n",
       "  <tbody>\n",
       "    <tr>\n",
       "      <td>0</td>\n",
       "      <td>Asia</td>\n",
       "      <td>Afghanistan</td>\n",
       "      <td>2014</td>\n",
       "      <td>1795.735834</td>\n",
       "      <td>6.390000</td>\n",
       "    </tr>\n",
       "    <tr>\n",
       "      <td>1</td>\n",
       "      <td>Asia</td>\n",
       "      <td>Afghanistan</td>\n",
       "      <td>2013</td>\n",
       "      <td>1807.762344</td>\n",
       "      <td>5.900000</td>\n",
       "    </tr>\n",
       "    <tr>\n",
       "      <td>2</td>\n",
       "      <td>Asia</td>\n",
       "      <td>Afghanistan</td>\n",
       "      <td>2012</td>\n",
       "      <td>1772.764974</td>\n",
       "      <td>5.454545</td>\n",
       "    </tr>\n",
       "    <tr>\n",
       "      <td>3</td>\n",
       "      <td>Asia</td>\n",
       "      <td>Afghanistan</td>\n",
       "      <td>2011</td>\n",
       "      <td>1626.764793</td>\n",
       "      <td>5.000000</td>\n",
       "    </tr>\n",
       "    <tr>\n",
       "      <td>4</td>\n",
       "      <td>Asia</td>\n",
       "      <td>Afghanistan</td>\n",
       "      <td>2010</td>\n",
       "      <td>1671.581238</td>\n",
       "      <td>4.000000</td>\n",
       "    </tr>\n",
       "  </tbody>\n",
       "</table>\n",
       "</div>"
      ],
      "text/plain": [
       "  Continent      Country  Year  GDP_Per_Capita  Internet_Users_Pct\n",
       "0      Asia  Afghanistan  2014     1795.735834            6.390000\n",
       "1      Asia  Afghanistan  2013     1807.762344            5.900000\n",
       "2      Asia  Afghanistan  2012     1772.764974            5.454545\n",
       "3      Asia  Afghanistan  2011     1626.764793            5.000000\n",
       "4      Asia  Afghanistan  2010     1671.581238            4.000000"
      ]
     },
     "execution_count": 126,
     "metadata": {},
     "output_type": "execute_result"
    }
   ],
   "source": [
    "gdp_and_internet_use.head()"
   ]
  },
  {
   "cell_type": "code",
   "execution_count": 127,
   "metadata": {},
   "outputs": [
    {
     "data": {
      "text/html": [
       "<div>\n",
       "<style scoped>\n",
       "    .dataframe tbody tr th:only-of-type {\n",
       "        vertical-align: middle;\n",
       "    }\n",
       "\n",
       "    .dataframe tbody tr th {\n",
       "        vertical-align: top;\n",
       "    }\n",
       "\n",
       "    .dataframe thead th {\n",
       "        text-align: right;\n",
       "    }\n",
       "</style>\n",
       "<table border=\"1\" class=\"dataframe\">\n",
       "  <thead>\n",
       "    <tr style=\"text-align: right;\">\n",
       "      <th></th>\n",
       "      <th>Continent</th>\n",
       "      <th>Country</th>\n",
       "      <th>Year</th>\n",
       "      <th>GDP_Per_Capita</th>\n",
       "      <th>Internet_Users_Pct</th>\n",
       "    </tr>\n",
       "  </thead>\n",
       "  <tbody>\n",
       "    <tr>\n",
       "      <td>3379</td>\n",
       "      <td>North America</td>\n",
       "      <td>United States</td>\n",
       "      <td>2014</td>\n",
       "      <td>52080.792568</td>\n",
       "      <td>87.360000</td>\n",
       "    </tr>\n",
       "    <tr>\n",
       "      <td>3380</td>\n",
       "      <td>North America</td>\n",
       "      <td>United States</td>\n",
       "      <td>2013</td>\n",
       "      <td>51208.892428</td>\n",
       "      <td>84.200000</td>\n",
       "    </tr>\n",
       "    <tr>\n",
       "      <td>3381</td>\n",
       "      <td>North America</td>\n",
       "      <td>United States</td>\n",
       "      <td>2012</td>\n",
       "      <td>50632.443448</td>\n",
       "      <td>79.300000</td>\n",
       "    </tr>\n",
       "    <tr>\n",
       "      <td>3382</td>\n",
       "      <td>North America</td>\n",
       "      <td>United States</td>\n",
       "      <td>2011</td>\n",
       "      <td>49883.113984</td>\n",
       "      <td>69.729461</td>\n",
       "    </tr>\n",
       "    <tr>\n",
       "      <td>3383</td>\n",
       "      <td>North America</td>\n",
       "      <td>United States</td>\n",
       "      <td>2010</td>\n",
       "      <td>49479.248679</td>\n",
       "      <td>71.690000</td>\n",
       "    </tr>\n",
       "    <tr>\n",
       "      <td>3384</td>\n",
       "      <td>North America</td>\n",
       "      <td>United States</td>\n",
       "      <td>2009</td>\n",
       "      <td>48644.151110</td>\n",
       "      <td>71.000000</td>\n",
       "    </tr>\n",
       "    <tr>\n",
       "      <td>3385</td>\n",
       "      <td>North America</td>\n",
       "      <td>United States</td>\n",
       "      <td>2008</td>\n",
       "      <td>50349.715321</td>\n",
       "      <td>74.000000</td>\n",
       "    </tr>\n",
       "    <tr>\n",
       "      <td>3386</td>\n",
       "      <td>North America</td>\n",
       "      <td>United States</td>\n",
       "      <td>2007</td>\n",
       "      <td>50897.731238</td>\n",
       "      <td>75.000000</td>\n",
       "    </tr>\n",
       "    <tr>\n",
       "      <td>3387</td>\n",
       "      <td>North America</td>\n",
       "      <td>United States</td>\n",
       "      <td>2006</td>\n",
       "      <td>50437.806235</td>\n",
       "      <td>68.931193</td>\n",
       "    </tr>\n",
       "    <tr>\n",
       "      <td>3388</td>\n",
       "      <td>North America</td>\n",
       "      <td>United States</td>\n",
       "      <td>2005</td>\n",
       "      <td>49512.926789</td>\n",
       "      <td>67.968053</td>\n",
       "    </tr>\n",
       "    <tr>\n",
       "      <td>3389</td>\n",
       "      <td>North America</td>\n",
       "      <td>United States</td>\n",
       "      <td>2004</td>\n",
       "      <td>48275.386104</td>\n",
       "      <td>64.758256</td>\n",
       "    </tr>\n",
       "    <tr>\n",
       "      <td>3390</td>\n",
       "      <td>North America</td>\n",
       "      <td>United States</td>\n",
       "      <td>2003</td>\n",
       "      <td>46941.003290</td>\n",
       "      <td>61.697117</td>\n",
       "    </tr>\n",
       "    <tr>\n",
       "      <td>3391</td>\n",
       "      <td>North America</td>\n",
       "      <td>United States</td>\n",
       "      <td>2002</td>\n",
       "      <td>46029.198996</td>\n",
       "      <td>58.785404</td>\n",
       "    </tr>\n",
       "    <tr>\n",
       "      <td>3392</td>\n",
       "      <td>North America</td>\n",
       "      <td>United States</td>\n",
       "      <td>2001</td>\n",
       "      <td>45662.934837</td>\n",
       "      <td>49.080832</td>\n",
       "    </tr>\n",
       "    <tr>\n",
       "      <td>3393</td>\n",
       "      <td>North America</td>\n",
       "      <td>United States</td>\n",
       "      <td>2000</td>\n",
       "      <td>45661.268667</td>\n",
       "      <td>43.079163</td>\n",
       "    </tr>\n",
       "    <tr>\n",
       "      <td>3394</td>\n",
       "      <td>North America</td>\n",
       "      <td>United States</td>\n",
       "      <td>1999</td>\n",
       "      <td>44342.001610</td>\n",
       "      <td>35.848724</td>\n",
       "    </tr>\n",
       "    <tr>\n",
       "      <td>3395</td>\n",
       "      <td>North America</td>\n",
       "      <td>United States</td>\n",
       "      <td>1998</td>\n",
       "      <td>42818.852352</td>\n",
       "      <td>30.093197</td>\n",
       "    </tr>\n",
       "    <tr>\n",
       "      <td>3396</td>\n",
       "      <td>North America</td>\n",
       "      <td>United States</td>\n",
       "      <td>1997</td>\n",
       "      <td>41462.801461</td>\n",
       "      <td>21.616401</td>\n",
       "    </tr>\n",
       "    <tr>\n",
       "      <td>3397</td>\n",
       "      <td>North America</td>\n",
       "      <td>United States</td>\n",
       "      <td>1996</td>\n",
       "      <td>40178.202687</td>\n",
       "      <td>16.419353</td>\n",
       "    </tr>\n",
       "    <tr>\n",
       "      <td>3398</td>\n",
       "      <td>North America</td>\n",
       "      <td>United States</td>\n",
       "      <td>1995</td>\n",
       "      <td>39170.656714</td>\n",
       "      <td>9.237088</td>\n",
       "    </tr>\n",
       "    <tr>\n",
       "      <td>3399</td>\n",
       "      <td>North America</td>\n",
       "      <td>United States</td>\n",
       "      <td>1994</td>\n",
       "      <td>38603.651201</td>\n",
       "      <td>4.862781</td>\n",
       "    </tr>\n",
       "    <tr>\n",
       "      <td>3400</td>\n",
       "      <td>North America</td>\n",
       "      <td>United States</td>\n",
       "      <td>1993</td>\n",
       "      <td>37566.468232</td>\n",
       "      <td>2.271673</td>\n",
       "    </tr>\n",
       "    <tr>\n",
       "      <td>3401</td>\n",
       "      <td>North America</td>\n",
       "      <td>United States</td>\n",
       "      <td>1992</td>\n",
       "      <td>37045.330120</td>\n",
       "      <td>1.724203</td>\n",
       "    </tr>\n",
       "    <tr>\n",
       "      <td>3402</td>\n",
       "      <td>North America</td>\n",
       "      <td>United States</td>\n",
       "      <td>1991</td>\n",
       "      <td>36284.582233</td>\n",
       "      <td>1.163194</td>\n",
       "    </tr>\n",
       "    <tr>\n",
       "      <td>3403</td>\n",
       "      <td>North America</td>\n",
       "      <td>United States</td>\n",
       "      <td>1990</td>\n",
       "      <td>36812.545745</td>\n",
       "      <td>0.784729</td>\n",
       "    </tr>\n",
       "  </tbody>\n",
       "</table>\n",
       "</div>"
      ],
      "text/plain": [
       "          Continent        Country  Year  GDP_Per_Capita  Internet_Users_Pct\n",
       "3379  North America  United States  2014    52080.792568           87.360000\n",
       "3380  North America  United States  2013    51208.892428           84.200000\n",
       "3381  North America  United States  2012    50632.443448           79.300000\n",
       "3382  North America  United States  2011    49883.113984           69.729461\n",
       "3383  North America  United States  2010    49479.248679           71.690000\n",
       "3384  North America  United States  2009    48644.151110           71.000000\n",
       "3385  North America  United States  2008    50349.715321           74.000000\n",
       "3386  North America  United States  2007    50897.731238           75.000000\n",
       "3387  North America  United States  2006    50437.806235           68.931193\n",
       "3388  North America  United States  2005    49512.926789           67.968053\n",
       "3389  North America  United States  2004    48275.386104           64.758256\n",
       "3390  North America  United States  2003    46941.003290           61.697117\n",
       "3391  North America  United States  2002    46029.198996           58.785404\n",
       "3392  North America  United States  2001    45662.934837           49.080832\n",
       "3393  North America  United States  2000    45661.268667           43.079163\n",
       "3394  North America  United States  1999    44342.001610           35.848724\n",
       "3395  North America  United States  1998    42818.852352           30.093197\n",
       "3396  North America  United States  1997    41462.801461           21.616401\n",
       "3397  North America  United States  1996    40178.202687           16.419353\n",
       "3398  North America  United States  1995    39170.656714            9.237088\n",
       "3399  North America  United States  1994    38603.651201            4.862781\n",
       "3400  North America  United States  1993    37566.468232            2.271673\n",
       "3401  North America  United States  1992    37045.330120            1.724203\n",
       "3402  North America  United States  1991    36284.582233            1.163194\n",
       "3403  North America  United States  1990    36812.545745            0.784729"
      ]
     },
     "execution_count": 127,
     "metadata": {},
     "output_type": "execute_result"
    }
   ],
   "source": [
    "US_df_real=gdp_and_internet_use[gdp_and_internet_use['Country']=='United States']\n",
    "US_df_real"
   ]
  },
  {
   "cell_type": "code",
   "execution_count": 128,
   "metadata": {},
   "outputs": [
    {
     "data": {
      "text/plain": [
       "count                25\n",
       "unique                1\n",
       "top       United States\n",
       "freq                 25\n",
       "Name: Country, dtype: object"
      ]
     },
     "execution_count": 128,
     "metadata": {},
     "output_type": "execute_result"
    }
   ],
   "source": [
    "US_df_real['Country'].describe()"
   ]
  },
  {
   "cell_type": "code",
   "execution_count": 129,
   "metadata": {},
   "outputs": [
    {
     "data": {
      "text/html": [
       "<div>\n",
       "<style scoped>\n",
       "    .dataframe tbody tr th:only-of-type {\n",
       "        vertical-align: middle;\n",
       "    }\n",
       "\n",
       "    .dataframe tbody tr th {\n",
       "        vertical-align: top;\n",
       "    }\n",
       "\n",
       "    .dataframe thead th {\n",
       "        text-align: right;\n",
       "    }\n",
       "</style>\n",
       "<table border=\"1\" class=\"dataframe\">\n",
       "  <thead>\n",
       "    <tr style=\"text-align: right;\">\n",
       "      <th></th>\n",
       "      <th>Year</th>\n",
       "      <th>GDP_Per_Capita</th>\n",
       "      <th>Internet_Users_Pct</th>\n",
       "    </tr>\n",
       "  </thead>\n",
       "  <tbody>\n",
       "    <tr>\n",
       "      <td>Year</td>\n",
       "      <td>1.000000</td>\n",
       "      <td>0.963218</td>\n",
       "      <td>0.969113</td>\n",
       "    </tr>\n",
       "    <tr>\n",
       "      <td>GDP_Per_Capita</td>\n",
       "      <td>0.963218</td>\n",
       "      <td>1.000000</td>\n",
       "      <td>0.991618</td>\n",
       "    </tr>\n",
       "    <tr>\n",
       "      <td>Internet_Users_Pct</td>\n",
       "      <td>0.969113</td>\n",
       "      <td>0.991618</td>\n",
       "      <td>1.000000</td>\n",
       "    </tr>\n",
       "  </tbody>\n",
       "</table>\n",
       "</div>"
      ],
      "text/plain": [
       "                        Year  GDP_Per_Capita  Internet_Users_Pct\n",
       "Year                1.000000        0.963218            0.969113\n",
       "GDP_Per_Capita      0.963218        1.000000            0.991618\n",
       "Internet_Users_Pct  0.969113        0.991618            1.000000"
      ]
     },
     "execution_count": 129,
     "metadata": {},
     "output_type": "execute_result"
    }
   ],
   "source": [
    "US_df_real.corr()"
   ]
  },
  {
   "cell_type": "code",
   "execution_count": 130,
   "metadata": {},
   "outputs": [],
   "source": [
    "# This correlation seems pretty strong. I'm not sure if it necessarily \n",
    "# means what we think, however. "
   ]
  },
  {
   "cell_type": "markdown",
   "metadata": {},
   "source": [
    "## Solo Exploration "
   ]
  },
  {
   "cell_type": "code",
   "execution_count": 131,
   "metadata": {},
   "outputs": [],
   "source": [
    "### Solo Exploration and Presentation:\n",
    "# 1. Choose and download another data set from the UN data (http://data.un.org/Explorer.\n",
    "# aspx) to merge with your data and explore.\n",
    "# 1. Prepare a short (< 5 minute) presentation of your findings. Report any interesting \n",
    "# correlations you find. Include visualizations and consider adding interactivity with \n",
    "# `ipywidgets`. This presentation can be done either in a Jupyter Notebook or using another\n",
    "# presentation software, such as PowerPoint. (Check out Jupyter Slides if you have time. This\n",
    "# allows you to turn your jupyter notebook into a slideshow: https://medium.com/learning-mach\n",
    "# ine-learning/present-your-data-science-projects-with-jupyter-slides-75f20735eb0f)\n",
    "# 2.    If time allows, look through the bokeh gallery (https://bokeh.pydata.org/en/latest\n",
    "# /docs/gallery.html#gallery) and try building some visualizations of your findings.\n"
   ]
  },
  {
   "cell_type": "code",
   "execution_count": 132,
   "metadata": {},
   "outputs": [
    {
     "data": {
      "text/html": [
       "<div>\n",
       "<style scoped>\n",
       "    .dataframe tbody tr th:only-of-type {\n",
       "        vertical-align: middle;\n",
       "    }\n",
       "\n",
       "    .dataframe tbody tr th {\n",
       "        vertical-align: top;\n",
       "    }\n",
       "\n",
       "    .dataframe thead th {\n",
       "        text-align: right;\n",
       "    }\n",
       "</style>\n",
       "<table border=\"1\" class=\"dataframe\">\n",
       "  <thead>\n",
       "    <tr style=\"text-align: right;\">\n",
       "      <th></th>\n",
       "      <th>Continent</th>\n",
       "      <th>Country</th>\n",
       "      <th>Year</th>\n",
       "      <th>GDP_Per_Capita</th>\n",
       "    </tr>\n",
       "  </thead>\n",
       "  <tbody>\n",
       "    <tr>\n",
       "      <td>0</td>\n",
       "      <td>Asia</td>\n",
       "      <td>Afghanistan</td>\n",
       "      <td>2017</td>\n",
       "      <td>1758.465636</td>\n",
       "    </tr>\n",
       "    <tr>\n",
       "      <td>1</td>\n",
       "      <td>Asia</td>\n",
       "      <td>Afghanistan</td>\n",
       "      <td>2016</td>\n",
       "      <td>1757.023490</td>\n",
       "    </tr>\n",
       "    <tr>\n",
       "      <td>2</td>\n",
       "      <td>Asia</td>\n",
       "      <td>Afghanistan</td>\n",
       "      <td>2015</td>\n",
       "      <td>1766.593077</td>\n",
       "    </tr>\n",
       "    <tr>\n",
       "      <td>3</td>\n",
       "      <td>Asia</td>\n",
       "      <td>Afghanistan</td>\n",
       "      <td>2014</td>\n",
       "      <td>1795.735834</td>\n",
       "    </tr>\n",
       "    <tr>\n",
       "      <td>4</td>\n",
       "      <td>Asia</td>\n",
       "      <td>Afghanistan</td>\n",
       "      <td>2013</td>\n",
       "      <td>1807.762344</td>\n",
       "    </tr>\n",
       "  </tbody>\n",
       "</table>\n",
       "</div>"
      ],
      "text/plain": [
       "  Continent      Country  Year  GDP_Per_Capita\n",
       "0      Asia  Afghanistan  2017     1758.465636\n",
       "1      Asia  Afghanistan  2016     1757.023490\n",
       "2      Asia  Afghanistan  2015     1766.593077\n",
       "3      Asia  Afghanistan  2014     1795.735834\n",
       "4      Asia  Afghanistan  2013     1807.762344"
      ]
     },
     "execution_count": 132,
     "metadata": {},
     "output_type": "execute_result"
    }
   ],
   "source": [
    "gdp_df.head()"
   ]
  },
  {
   "cell_type": "code",
   "execution_count": 133,
   "metadata": {},
   "outputs": [
    {
     "data": {
      "text/html": [
       "<div>\n",
       "<style scoped>\n",
       "    .dataframe tbody tr th:only-of-type {\n",
       "        vertical-align: middle;\n",
       "    }\n",
       "\n",
       "    .dataframe tbody tr th {\n",
       "        vertical-align: top;\n",
       "    }\n",
       "\n",
       "    .dataframe thead th {\n",
       "        text-align: right;\n",
       "    }\n",
       "</style>\n",
       "<table border=\"1\" class=\"dataframe\">\n",
       "  <thead>\n",
       "    <tr style=\"text-align: right;\">\n",
       "      <th></th>\n",
       "      <th>Continent</th>\n",
       "      <th>Country</th>\n",
       "      <th>Year</th>\n",
       "      <th>GDP_Per_Capita</th>\n",
       "      <th>Internet_Users_Pct</th>\n",
       "    </tr>\n",
       "  </thead>\n",
       "  <tbody>\n",
       "    <tr>\n",
       "      <td>0</td>\n",
       "      <td>Asia</td>\n",
       "      <td>Afghanistan</td>\n",
       "      <td>2014</td>\n",
       "      <td>1795.735834</td>\n",
       "      <td>6.390000</td>\n",
       "    </tr>\n",
       "    <tr>\n",
       "      <td>1</td>\n",
       "      <td>Asia</td>\n",
       "      <td>Afghanistan</td>\n",
       "      <td>2013</td>\n",
       "      <td>1807.762344</td>\n",
       "      <td>5.900000</td>\n",
       "    </tr>\n",
       "    <tr>\n",
       "      <td>2</td>\n",
       "      <td>Asia</td>\n",
       "      <td>Afghanistan</td>\n",
       "      <td>2012</td>\n",
       "      <td>1772.764974</td>\n",
       "      <td>5.454545</td>\n",
       "    </tr>\n",
       "    <tr>\n",
       "      <td>3</td>\n",
       "      <td>Asia</td>\n",
       "      <td>Afghanistan</td>\n",
       "      <td>2011</td>\n",
       "      <td>1626.764793</td>\n",
       "      <td>5.000000</td>\n",
       "    </tr>\n",
       "    <tr>\n",
       "      <td>4</td>\n",
       "      <td>Asia</td>\n",
       "      <td>Afghanistan</td>\n",
       "      <td>2010</td>\n",
       "      <td>1671.581238</td>\n",
       "      <td>4.000000</td>\n",
       "    </tr>\n",
       "  </tbody>\n",
       "</table>\n",
       "</div>"
      ],
      "text/plain": [
       "  Continent      Country  Year  GDP_Per_Capita  Internet_Users_Pct\n",
       "0      Asia  Afghanistan  2014     1795.735834            6.390000\n",
       "1      Asia  Afghanistan  2013     1807.762344            5.900000\n",
       "2      Asia  Afghanistan  2012     1772.764974            5.454545\n",
       "3      Asia  Afghanistan  2011     1626.764793            5.000000\n",
       "4      Asia  Afghanistan  2010     1671.581238            4.000000"
      ]
     },
     "execution_count": 133,
     "metadata": {},
     "output_type": "execute_result"
    }
   ],
   "source": [
    "gdp_and_internet_use.head()"
   ]
  },
  {
   "cell_type": "code",
   "execution_count": 134,
   "metadata": {},
   "outputs": [],
   "source": [
    "Fam_planning_df= pd.read_csv('data/UNMET_NEED_FOR_FAMILY_PLANNING_Table_1.csv')"
   ]
  },
  {
   "cell_type": "code",
   "execution_count": 135,
   "metadata": {},
   "outputs": [
    {
     "data": {
      "text/html": [
       "<div>\n",
       "<style scoped>\n",
       "    .dataframe tbody tr th:only-of-type {\n",
       "        vertical-align: middle;\n",
       "    }\n",
       "\n",
       "    .dataframe tbody tr th {\n",
       "        vertical-align: top;\n",
       "    }\n",
       "\n",
       "    .dataframe thead th {\n",
       "        text-align: right;\n",
       "    }\n",
       "</style>\n",
       "<table border=\"1\" class=\"dataframe\">\n",
       "  <thead>\n",
       "    <tr style=\"text-align: right;\">\n",
       "      <th></th>\n",
       "      <th>United Nations, Department of Economic and Social Affairs</th>\n",
       "      <th>Unnamed: 1</th>\n",
       "      <th>Unnamed: 2</th>\n",
       "      <th>Unnamed: 3</th>\n",
       "      <th>Unnamed: 4</th>\n",
       "      <th>Unnamed: 5</th>\n",
       "      <th>Unnamed: 6</th>\n",
       "      <th>Unnamed: 7</th>\n",
       "      <th>Unnamed: 8</th>\n",
       "      <th>Unnamed: 9</th>\n",
       "      <th>Unnamed: 10</th>\n",
       "      <th>Unnamed: 11</th>\n",
       "      <th>Unnamed: 12</th>\n",
       "      <th>Unnamed: 13</th>\n",
       "    </tr>\n",
       "  </thead>\n",
       "  <tbody>\n",
       "    <tr>\n",
       "      <td>0</td>\n",
       "      <td>Population Division, Fertility and Family Plan...</td>\n",
       "      <td>NaN</td>\n",
       "      <td>NaN</td>\n",
       "      <td>NaN</td>\n",
       "      <td>NaN</td>\n",
       "      <td>NaN</td>\n",
       "      <td>NaN</td>\n",
       "      <td>NaN</td>\n",
       "      <td>NaN</td>\n",
       "      <td>NaN</td>\n",
       "      <td>NaN</td>\n",
       "      <td>NaN</td>\n",
       "      <td>NaN</td>\n",
       "      <td>NaN</td>\n",
       "    </tr>\n",
       "    <tr>\n",
       "      <td>1</td>\n",
       "      <td>World Contraceptive Use 2014\\nSURVEY-BASED OBS...</td>\n",
       "      <td>NaN</td>\n",
       "      <td>NaN</td>\n",
       "      <td>NaN</td>\n",
       "      <td>NaN</td>\n",
       "      <td>NaN</td>\n",
       "      <td>NaN</td>\n",
       "      <td>NaN</td>\n",
       "      <td>NaN</td>\n",
       "      <td>NaN</td>\n",
       "      <td>NaN</td>\n",
       "      <td>NaN</td>\n",
       "      <td>NaN</td>\n",
       "      <td>NaN</td>\n",
       "    </tr>\n",
       "    <tr>\n",
       "      <td>2</td>\n",
       "      <td>Country</td>\n",
       "      <td>ISO Code</td>\n",
       "      <td>Year(s)</td>\n",
       "      <td>Age</td>\n",
       "      <td>Unmet need</td>\n",
       "      <td>NaN</td>\n",
       "      <td>NaN</td>\n",
       "      <td>Source</td>\n",
       "      <td>Survey name</td>\n",
       "      <td>Note on population</td>\n",
       "      <td>NaN</td>\n",
       "      <td>Note on unmet need indicator</td>\n",
       "      <td>Note on country</td>\n",
       "      <td>NaN</td>\n",
       "    </tr>\n",
       "    <tr>\n",
       "      <td>3</td>\n",
       "      <td>NaN</td>\n",
       "      <td>NaN</td>\n",
       "      <td>NaN</td>\n",
       "      <td>NaN</td>\n",
       "      <td>Total</td>\n",
       "      <td>Spacing</td>\n",
       "      <td>Limiting</td>\n",
       "      <td>NaN</td>\n",
       "      <td>NaN</td>\n",
       "      <td>1</td>\n",
       "      <td>2</td>\n",
       "      <td>NaN</td>\n",
       "      <td>NaN</td>\n",
       "      <td>NaN</td>\n",
       "    </tr>\n",
       "    <tr>\n",
       "      <td>4</td>\n",
       "      <td>Albania</td>\n",
       "      <td>008</td>\n",
       "      <td>2002</td>\n",
       "      <td>15-44</td>\n",
       "      <td>1.3</td>\n",
       "      <td>1.0</td>\n",
       "      <td>0.3</td>\n",
       "      <td>RHS</td>\n",
       "      <td>NaN</td>\n",
       "      <td>Excluding women who are currently pregnant, cu...</td>\n",
       "      <td>Including fecund married women, currently sexu...</td>\n",
       "      <td>NaN</td>\n",
       "      <td>NaN</td>\n",
       "      <td>NaN</td>\n",
       "    </tr>\n",
       "  </tbody>\n",
       "</table>\n",
       "</div>"
      ],
      "text/plain": [
       "  United Nations, Department of Economic and Social Affairs Unnamed: 1  \\\n",
       "0  Population Division, Fertility and Family Plan...               NaN   \n",
       "1  World Contraceptive Use 2014\\nSURVEY-BASED OBS...               NaN   \n",
       "2                                            Country          ISO Code   \n",
       "3                                                NaN               NaN   \n",
       "4                                            Albania               008   \n",
       "\n",
       "  Unnamed: 2 Unnamed: 3  Unnamed: 4 Unnamed: 5 Unnamed: 6 Unnamed: 7  \\\n",
       "0        NaN        NaN         NaN        NaN        NaN        NaN   \n",
       "1        NaN        NaN         NaN        NaN        NaN        NaN   \n",
       "2    Year(s)        Age  Unmet need        NaN        NaN     Source   \n",
       "3        NaN        NaN       Total    Spacing   Limiting        NaN   \n",
       "4       2002      15-44         1.3        1.0        0.3        RHS   \n",
       "\n",
       "    Unnamed: 8                                         Unnamed: 9  \\\n",
       "0          NaN                                                NaN   \n",
       "1          NaN                                                NaN   \n",
       "2  Survey name                                 Note on population   \n",
       "3          NaN                                                  1   \n",
       "4          NaN  Excluding women who are currently pregnant, cu...   \n",
       "\n",
       "                                         Unnamed: 10  \\\n",
       "0                                                NaN   \n",
       "1                                                NaN   \n",
       "2                                                NaN   \n",
       "3                                                  2   \n",
       "4  Including fecund married women, currently sexu...   \n",
       "\n",
       "                    Unnamed: 11      Unnamed: 12  Unnamed: 13  \n",
       "0                           NaN              NaN          NaN  \n",
       "1                           NaN              NaN          NaN  \n",
       "2  Note on unmet need indicator  Note on country          NaN  \n",
       "3                           NaN              NaN          NaN  \n",
       "4                           NaN              NaN          NaN  "
      ]
     },
     "execution_count": 135,
     "metadata": {},
     "output_type": "execute_result"
    }
   ],
   "source": [
    "Fam_planning_df.head()"
   ]
  },
  {
   "cell_type": "code",
   "execution_count": 136,
   "metadata": {},
   "outputs": [
    {
     "data": {
      "text/html": [
       "<div>\n",
       "<style scoped>\n",
       "    .dataframe tbody tr th:only-of-type {\n",
       "        vertical-align: middle;\n",
       "    }\n",
       "\n",
       "    .dataframe tbody tr th {\n",
       "        vertical-align: top;\n",
       "    }\n",
       "\n",
       "    .dataframe thead th {\n",
       "        text-align: right;\n",
       "    }\n",
       "</style>\n",
       "<table border=\"1\" class=\"dataframe\">\n",
       "  <thead>\n",
       "    <tr style=\"text-align: right;\">\n",
       "      <th></th>\n",
       "      <th>United Nations, Department of Economic and Social Affairs</th>\n",
       "      <th>Unnamed: 1</th>\n",
       "      <th>Unnamed: 2</th>\n",
       "      <th>Unnamed: 3</th>\n",
       "      <th>Unnamed: 4</th>\n",
       "      <th>Unnamed: 5</th>\n",
       "      <th>Unnamed: 6</th>\n",
       "      <th>Unnamed: 7</th>\n",
       "      <th>Unnamed: 8</th>\n",
       "      <th>Unnamed: 9</th>\n",
       "      <th>Unnamed: 10</th>\n",
       "      <th>Unnamed: 11</th>\n",
       "      <th>Unnamed: 12</th>\n",
       "      <th>Unnamed: 13</th>\n",
       "    </tr>\n",
       "  </thead>\n",
       "  <tbody>\n",
       "    <tr>\n",
       "      <td>373</td>\n",
       "      <td>Zambia</td>\n",
       "      <td>894</td>\n",
       "      <td>2007</td>\n",
       "      <td>15-49</td>\n",
       "      <td>26.6</td>\n",
       "      <td>15.9</td>\n",
       "      <td>10.6</td>\n",
       "      <td>DHS</td>\n",
       "      <td>NaN</td>\n",
       "      <td>NaN</td>\n",
       "      <td>NaN</td>\n",
       "      <td>NaN</td>\n",
       "      <td>NaN</td>\n",
       "      <td>NaN</td>\n",
       "    </tr>\n",
       "    <tr>\n",
       "      <td>374</td>\n",
       "      <td>Zimbabwe</td>\n",
       "      <td>716</td>\n",
       "      <td>1994</td>\n",
       "      <td>15-49</td>\n",
       "      <td>19.1</td>\n",
       "      <td>10.6</td>\n",
       "      <td>8.5</td>\n",
       "      <td>DHS</td>\n",
       "      <td>NaN</td>\n",
       "      <td>NaN</td>\n",
       "      <td>NaN</td>\n",
       "      <td>NaN</td>\n",
       "      <td>NaN</td>\n",
       "      <td>NaN</td>\n",
       "    </tr>\n",
       "    <tr>\n",
       "      <td>375</td>\n",
       "      <td>Zimbabwe</td>\n",
       "      <td>716</td>\n",
       "      <td>1999</td>\n",
       "      <td>15-49</td>\n",
       "      <td>16.7</td>\n",
       "      <td>8.5</td>\n",
       "      <td>8.2</td>\n",
       "      <td>DHS</td>\n",
       "      <td>NaN</td>\n",
       "      <td>NaN</td>\n",
       "      <td>NaN</td>\n",
       "      <td>NaN</td>\n",
       "      <td>NaN</td>\n",
       "      <td>NaN</td>\n",
       "    </tr>\n",
       "    <tr>\n",
       "      <td>376</td>\n",
       "      <td>Zimbabwe</td>\n",
       "      <td>716</td>\n",
       "      <td>2005-2006</td>\n",
       "      <td>15-49</td>\n",
       "      <td>15.5</td>\n",
       "      <td>7.2</td>\n",
       "      <td>8.2</td>\n",
       "      <td>DHS</td>\n",
       "      <td>NaN</td>\n",
       "      <td>NaN</td>\n",
       "      <td>NaN</td>\n",
       "      <td>NaN</td>\n",
       "      <td>NaN</td>\n",
       "      <td>NaN</td>\n",
       "    </tr>\n",
       "    <tr>\n",
       "      <td>377</td>\n",
       "      <td>Zimbabwe</td>\n",
       "      <td>716</td>\n",
       "      <td>2010-2011</td>\n",
       "      <td>15-49</td>\n",
       "      <td>14.6</td>\n",
       "      <td>8.7</td>\n",
       "      <td>5.9</td>\n",
       "      <td>DHS</td>\n",
       "      <td>NaN</td>\n",
       "      <td>NaN</td>\n",
       "      <td>NaN</td>\n",
       "      <td>NaN</td>\n",
       "      <td>NaN</td>\n",
       "      <td>NaN</td>\n",
       "    </tr>\n",
       "  </tbody>\n",
       "</table>\n",
       "</div>"
      ],
      "text/plain": [
       "    United Nations, Department of Economic and Social Affairs Unnamed: 1  \\\n",
       "373                                             Zambia               894   \n",
       "374                                           Zimbabwe               716   \n",
       "375                                           Zimbabwe               716   \n",
       "376                                           Zimbabwe               716   \n",
       "377                                           Zimbabwe               716   \n",
       "\n",
       "    Unnamed: 2 Unnamed: 3 Unnamed: 4 Unnamed: 5 Unnamed: 6 Unnamed: 7  \\\n",
       "373       2007      15-49       26.6       15.9       10.6        DHS   \n",
       "374       1994      15-49       19.1       10.6        8.5        DHS   \n",
       "375       1999      15-49       16.7        8.5        8.2        DHS   \n",
       "376  2005-2006      15-49       15.5        7.2        8.2        DHS   \n",
       "377  2010-2011      15-49       14.6        8.7        5.9        DHS   \n",
       "\n",
       "    Unnamed: 8 Unnamed: 9 Unnamed: 10 Unnamed: 11 Unnamed: 12  Unnamed: 13  \n",
       "373        NaN        NaN         NaN         NaN         NaN          NaN  \n",
       "374        NaN        NaN         NaN         NaN         NaN          NaN  \n",
       "375        NaN        NaN         NaN         NaN         NaN          NaN  \n",
       "376        NaN        NaN         NaN         NaN         NaN          NaN  \n",
       "377        NaN        NaN         NaN         NaN         NaN          NaN  "
      ]
     },
     "execution_count": 136,
     "metadata": {},
     "output_type": "execute_result"
    }
   ],
   "source": [
    "Fam_planning_df.tail()"
   ]
  },
  {
   "cell_type": "code",
   "execution_count": 137,
   "metadata": {},
   "outputs": [],
   "source": [
    "Fam_planning_df = Fam_planning_df[4:]"
   ]
  },
  {
   "cell_type": "code",
   "execution_count": 138,
   "metadata": {},
   "outputs": [
    {
     "data": {
      "text/html": [
       "<div>\n",
       "<style scoped>\n",
       "    .dataframe tbody tr th:only-of-type {\n",
       "        vertical-align: middle;\n",
       "    }\n",
       "\n",
       "    .dataframe tbody tr th {\n",
       "        vertical-align: top;\n",
       "    }\n",
       "\n",
       "    .dataframe thead th {\n",
       "        text-align: right;\n",
       "    }\n",
       "</style>\n",
       "<table border=\"1\" class=\"dataframe\">\n",
       "  <thead>\n",
       "    <tr style=\"text-align: right;\">\n",
       "      <th></th>\n",
       "      <th>United Nations, Department of Economic and Social Affairs</th>\n",
       "      <th>Unnamed: 1</th>\n",
       "      <th>Unnamed: 2</th>\n",
       "      <th>Unnamed: 3</th>\n",
       "      <th>Unnamed: 4</th>\n",
       "      <th>Unnamed: 5</th>\n",
       "      <th>Unnamed: 6</th>\n",
       "      <th>Unnamed: 7</th>\n",
       "      <th>Unnamed: 8</th>\n",
       "      <th>Unnamed: 9</th>\n",
       "      <th>Unnamed: 10</th>\n",
       "      <th>Unnamed: 11</th>\n",
       "      <th>Unnamed: 12</th>\n",
       "      <th>Unnamed: 13</th>\n",
       "    </tr>\n",
       "  </thead>\n",
       "  <tbody>\n",
       "    <tr>\n",
       "      <td>4</td>\n",
       "      <td>Albania</td>\n",
       "      <td>008</td>\n",
       "      <td>2002</td>\n",
       "      <td>15-44</td>\n",
       "      <td>1.3</td>\n",
       "      <td>1.0</td>\n",
       "      <td>0.3</td>\n",
       "      <td>RHS</td>\n",
       "      <td>NaN</td>\n",
       "      <td>Excluding women who are currently pregnant, cu...</td>\n",
       "      <td>Including fecund married women, currently sexu...</td>\n",
       "      <td>NaN</td>\n",
       "      <td>NaN</td>\n",
       "      <td>NaN</td>\n",
       "    </tr>\n",
       "    <tr>\n",
       "      <td>5</td>\n",
       "      <td>Albania</td>\n",
       "      <td>008</td>\n",
       "      <td>2008-2009</td>\n",
       "      <td>15-49</td>\n",
       "      <td>12.9</td>\n",
       "      <td>3.5</td>\n",
       "      <td>9.4</td>\n",
       "      <td>DHS</td>\n",
       "      <td>NaN</td>\n",
       "      <td>NaN</td>\n",
       "      <td>NaN</td>\n",
       "      <td>NaN</td>\n",
       "      <td>NaN</td>\n",
       "      <td>NaN</td>\n",
       "    </tr>\n",
       "    <tr>\n",
       "      <td>6</td>\n",
       "      <td>Armenia</td>\n",
       "      <td>051</td>\n",
       "      <td>2000</td>\n",
       "      <td>15-49</td>\n",
       "      <td>18.1</td>\n",
       "      <td>3.5</td>\n",
       "      <td>14.6</td>\n",
       "      <td>DHS</td>\n",
       "      <td>NaN</td>\n",
       "      <td>NaN</td>\n",
       "      <td>NaN</td>\n",
       "      <td>NaN</td>\n",
       "      <td>NaN</td>\n",
       "      <td>NaN</td>\n",
       "    </tr>\n",
       "    <tr>\n",
       "      <td>7</td>\n",
       "      <td>Armenia</td>\n",
       "      <td>051</td>\n",
       "      <td>2005</td>\n",
       "      <td>15-49</td>\n",
       "      <td>19.3</td>\n",
       "      <td>3.9</td>\n",
       "      <td>15.5</td>\n",
       "      <td>DHS</td>\n",
       "      <td>NaN</td>\n",
       "      <td>NaN</td>\n",
       "      <td>NaN</td>\n",
       "      <td>NaN</td>\n",
       "      <td>NaN</td>\n",
       "      <td>NaN</td>\n",
       "    </tr>\n",
       "    <tr>\n",
       "      <td>8</td>\n",
       "      <td>Armenia</td>\n",
       "      <td>051</td>\n",
       "      <td>2010</td>\n",
       "      <td>15-49</td>\n",
       "      <td>13.5</td>\n",
       "      <td>5.3</td>\n",
       "      <td>8.2</td>\n",
       "      <td>DHS</td>\n",
       "      <td>NaN</td>\n",
       "      <td>NaN</td>\n",
       "      <td>NaN</td>\n",
       "      <td>NaN</td>\n",
       "      <td>NaN</td>\n",
       "      <td>NaN</td>\n",
       "    </tr>\n",
       "  </tbody>\n",
       "</table>\n",
       "</div>"
      ],
      "text/plain": [
       "  United Nations, Department of Economic and Social Affairs Unnamed: 1  \\\n",
       "4                                            Albania               008   \n",
       "5                                            Albania               008   \n",
       "6                                            Armenia               051   \n",
       "7                                            Armenia               051   \n",
       "8                                            Armenia               051   \n",
       "\n",
       "  Unnamed: 2 Unnamed: 3 Unnamed: 4 Unnamed: 5 Unnamed: 6 Unnamed: 7  \\\n",
       "4       2002      15-44        1.3        1.0        0.3        RHS   \n",
       "5  2008-2009      15-49       12.9        3.5        9.4        DHS   \n",
       "6       2000      15-49       18.1        3.5       14.6        DHS   \n",
       "7       2005      15-49       19.3        3.9       15.5        DHS   \n",
       "8       2010      15-49       13.5        5.3        8.2        DHS   \n",
       "\n",
       "  Unnamed: 8                                         Unnamed: 9  \\\n",
       "4        NaN  Excluding women who are currently pregnant, cu...   \n",
       "5        NaN                                                NaN   \n",
       "6        NaN                                                NaN   \n",
       "7        NaN                                                NaN   \n",
       "8        NaN                                                NaN   \n",
       "\n",
       "                                         Unnamed: 10 Unnamed: 11 Unnamed: 12  \\\n",
       "4  Including fecund married women, currently sexu...         NaN         NaN   \n",
       "5                                                NaN         NaN         NaN   \n",
       "6                                                NaN         NaN         NaN   \n",
       "7                                                NaN         NaN         NaN   \n",
       "8                                                NaN         NaN         NaN   \n",
       "\n",
       "   Unnamed: 13  \n",
       "4          NaN  \n",
       "5          NaN  \n",
       "6          NaN  \n",
       "7          NaN  \n",
       "8          NaN  "
      ]
     },
     "execution_count": 138,
     "metadata": {},
     "output_type": "execute_result"
    }
   ],
   "source": [
    "Fam_planning_df.head()"
   ]
  },
  {
   "cell_type": "code",
   "execution_count": 139,
   "metadata": {},
   "outputs": [
    {
     "data": {
      "text/plain": [
       "Index(['United Nations, Department of Economic and Social Affairs',\n",
       "       'Unnamed: 1', 'Unnamed: 2', 'Unnamed: 3', 'Unnamed: 4', 'Unnamed: 5',\n",
       "       'Unnamed: 6', 'Unnamed: 7', 'Unnamed: 8', 'Unnamed: 9', 'Unnamed: 10',\n",
       "       'Unnamed: 11', 'Unnamed: 12', 'Unnamed: 13'],\n",
       "      dtype='object')"
      ]
     },
     "execution_count": 139,
     "metadata": {},
     "output_type": "execute_result"
    }
   ],
   "source": [
    "Fam_planning_df.columns"
   ]
  },
  {
   "cell_type": "code",
   "execution_count": 140,
   "metadata": {},
   "outputs": [],
   "source": [
    "\n",
    "Fam_planning_df = Fam_planning_df.drop(columns={'Unnamed: 8', 'Unnamed: 9', 'Unnamed: 10', 'Unnamed: 11', 'Unnamed: 12', 'Unnamed: 13'})\n",
    "\n",
    "Fam_planning_df = Fam_planning_df.rename(columns={'United Nations, Department of Economic and Social Affairs':'Country','Unnamed: 1':'ISO Code','Unnamed: 2':'Year','Unnamed: 3':'Age','Unnamed: 4':'Unmet_Need_Total','Unnamed: 5':'Unmet Need: Spacing','Unnamed: 6':'Unmet Need: Limiting','Unnamed: 7':'Source'})\n",
    "\n"
   ]
  },
  {
   "cell_type": "code",
   "execution_count": 141,
   "metadata": {},
   "outputs": [
    {
     "name": "stdout",
     "output_type": "stream",
     "text": [
      "<class 'pandas.core.frame.DataFrame'>\n",
      "RangeIndex: 374 entries, 4 to 377\n",
      "Data columns (total 8 columns):\n",
      "Country                 374 non-null object\n",
      "ISO Code                374 non-null object\n",
      "Year                    374 non-null object\n",
      "Age                     374 non-null object\n",
      "Unmet_Need_Total        374 non-null object\n",
      "Unmet Need: Spacing     374 non-null object\n",
      "Unmet Need: Limiting    374 non-null object\n",
      "Source                  374 non-null object\n",
      "dtypes: object(8)\n",
      "memory usage: 23.5+ KB\n"
     ]
    }
   ],
   "source": [
    "Fam_planning_df.info()"
   ]
  },
  {
   "cell_type": "code",
   "execution_count": 142,
   "metadata": {},
   "outputs": [
    {
     "name": "stdout",
     "output_type": "stream",
     "text": [
      "<class 'pandas.core.frame.DataFrame'>\n",
      "Int64Index: 5217 entries, 0 to 5216\n",
      "Data columns (total 4 columns):\n",
      "Continent         5217 non-null category\n",
      "Country           5217 non-null object\n",
      "Year              5217 non-null int64\n",
      "GDP_Per_Capita    5217 non-null float64\n",
      "dtypes: category(1), float64(1), int64(1), object(1)\n",
      "memory usage: 328.3+ KB\n"
     ]
    }
   ],
   "source": [
    "gdp_df.info()\n"
   ]
  },
  {
   "cell_type": "code",
   "execution_count": 143,
   "metadata": {},
   "outputs": [],
   "source": [
    "Fam_planning_df = Fam_planning_df[~Fam_planning_df.Year.astype('str').str.contains('-')]"
   ]
  },
  {
   "cell_type": "code",
   "execution_count": 144,
   "metadata": {},
   "outputs": [],
   "source": [
    "Fam_planning_df.Year = Fam_planning_df.Year.astype('int64')"
   ]
  },
  {
   "cell_type": "code",
   "execution_count": 145,
   "metadata": {},
   "outputs": [],
   "source": [
    "gdp_contraceptives_df= pd.merge(gdp_df, Fam_planning_df, on=['Country','Year'])"
   ]
  },
  {
   "cell_type": "code",
   "execution_count": 146,
   "metadata": {},
   "outputs": [
    {
     "data": {
      "text/html": [
       "<div>\n",
       "<style scoped>\n",
       "    .dataframe tbody tr th:only-of-type {\n",
       "        vertical-align: middle;\n",
       "    }\n",
       "\n",
       "    .dataframe tbody tr th {\n",
       "        vertical-align: top;\n",
       "    }\n",
       "\n",
       "    .dataframe thead th {\n",
       "        text-align: right;\n",
       "    }\n",
       "</style>\n",
       "<table border=\"1\" class=\"dataframe\">\n",
       "  <thead>\n",
       "    <tr style=\"text-align: right;\">\n",
       "      <th></th>\n",
       "      <th>Continent</th>\n",
       "      <th>Country</th>\n",
       "      <th>Year</th>\n",
       "      <th>GDP_Per_Capita</th>\n",
       "      <th>ISO Code</th>\n",
       "      <th>Age</th>\n",
       "      <th>Unmet_Need_Total</th>\n",
       "      <th>Unmet Need: Spacing</th>\n",
       "      <th>Unmet Need: Limiting</th>\n",
       "      <th>Source</th>\n",
       "    </tr>\n",
       "  </thead>\n",
       "  <tbody>\n",
       "    <tr>\n",
       "      <td>0</td>\n",
       "      <td>Europe</td>\n",
       "      <td>Albania</td>\n",
       "      <td>2002</td>\n",
       "      <td>6238.120489</td>\n",
       "      <td>008</td>\n",
       "      <td>15-44</td>\n",
       "      <td>1.3</td>\n",
       "      <td>1.0</td>\n",
       "      <td>0.3</td>\n",
       "      <td>RHS</td>\n",
       "    </tr>\n",
       "    <tr>\n",
       "      <td>1</td>\n",
       "      <td>Europe</td>\n",
       "      <td>Armenia</td>\n",
       "      <td>2010</td>\n",
       "      <td>6702.829370</td>\n",
       "      <td>051</td>\n",
       "      <td>15-49</td>\n",
       "      <td>13.5</td>\n",
       "      <td>5.3</td>\n",
       "      <td>8.2</td>\n",
       "      <td>DHS</td>\n",
       "    </tr>\n",
       "    <tr>\n",
       "      <td>2</td>\n",
       "      <td>Europe</td>\n",
       "      <td>Armenia</td>\n",
       "      <td>2005</td>\n",
       "      <td>5356.596456</td>\n",
       "      <td>051</td>\n",
       "      <td>15-49</td>\n",
       "      <td>19.3</td>\n",
       "      <td>3.9</td>\n",
       "      <td>15.5</td>\n",
       "      <td>DHS</td>\n",
       "    </tr>\n",
       "    <tr>\n",
       "      <td>3</td>\n",
       "      <td>Europe</td>\n",
       "      <td>Armenia</td>\n",
       "      <td>2000</td>\n",
       "      <td>2924.744521</td>\n",
       "      <td>051</td>\n",
       "      <td>15-49</td>\n",
       "      <td>18.1</td>\n",
       "      <td>3.5</td>\n",
       "      <td>14.6</td>\n",
       "      <td>DHS</td>\n",
       "    </tr>\n",
       "    <tr>\n",
       "      <td>4</td>\n",
       "      <td>Europe</td>\n",
       "      <td>Azerbaijan</td>\n",
       "      <td>2006</td>\n",
       "      <td>10882.234670</td>\n",
       "      <td>031</td>\n",
       "      <td>15-49</td>\n",
       "      <td>15.4</td>\n",
       "      <td>3.0</td>\n",
       "      <td>12.5</td>\n",
       "      <td>DHS</td>\n",
       "    </tr>\n",
       "  </tbody>\n",
       "</table>\n",
       "</div>"
      ],
      "text/plain": [
       "  Continent     Country  Year  GDP_Per_Capita ISO Code    Age  \\\n",
       "0    Europe     Albania  2002     6238.120489      008  15-44   \n",
       "1    Europe     Armenia  2010     6702.829370      051  15-49   \n",
       "2    Europe     Armenia  2005     5356.596456      051  15-49   \n",
       "3    Europe     Armenia  2000     2924.744521      051  15-49   \n",
       "4    Europe  Azerbaijan  2006    10882.234670      031  15-49   \n",
       "\n",
       "  Unmet_Need_Total Unmet Need: Spacing Unmet Need: Limiting Source  \n",
       "0              1.3                 1.0                  0.3    RHS  \n",
       "1             13.5                 5.3                  8.2    DHS  \n",
       "2             19.3                 3.9                 15.5    DHS  \n",
       "3             18.1                 3.5                 14.6    DHS  \n",
       "4             15.4                 3.0                 12.5    DHS  "
      ]
     },
     "execution_count": 146,
     "metadata": {},
     "output_type": "execute_result"
    }
   ],
   "source": [
    "gdp_contraceptives_df.head()"
   ]
  },
  {
   "cell_type": "code",
   "execution_count": 147,
   "metadata": {},
   "outputs": [],
   "source": [
    "# Looked at just 2005"
   ]
  },
  {
   "cell_type": "code",
   "execution_count": 148,
   "metadata": {},
   "outputs": [
    {
     "data": {
      "text/html": [
       "<div>\n",
       "<style scoped>\n",
       "    .dataframe tbody tr th:only-of-type {\n",
       "        vertical-align: middle;\n",
       "    }\n",
       "\n",
       "    .dataframe tbody tr th {\n",
       "        vertical-align: top;\n",
       "    }\n",
       "\n",
       "    .dataframe thead th {\n",
       "        text-align: right;\n",
       "    }\n",
       "</style>\n",
       "<table border=\"1\" class=\"dataframe\">\n",
       "  <thead>\n",
       "    <tr style=\"text-align: right;\">\n",
       "      <th></th>\n",
       "      <th>Continent</th>\n",
       "      <th>Country</th>\n",
       "      <th>Year</th>\n",
       "      <th>GDP_Per_Capita</th>\n",
       "      <th>ISO Code</th>\n",
       "      <th>Age</th>\n",
       "      <th>Unmet_Need_Total</th>\n",
       "      <th>Unmet Need: Spacing</th>\n",
       "      <th>Unmet Need: Limiting</th>\n",
       "      <th>Source</th>\n",
       "    </tr>\n",
       "  </thead>\n",
       "  <tbody>\n",
       "    <tr>\n",
       "      <td>2</td>\n",
       "      <td>Europe</td>\n",
       "      <td>Armenia</td>\n",
       "      <td>2005</td>\n",
       "      <td>5356.596456</td>\n",
       "      <td>051</td>\n",
       "      <td>15-49</td>\n",
       "      <td>19.3</td>\n",
       "      <td>3.9</td>\n",
       "      <td>15.5</td>\n",
       "      <td>DHS</td>\n",
       "    </tr>\n",
       "    <tr>\n",
       "      <td>21</td>\n",
       "      <td>Asia</td>\n",
       "      <td>Cambodia</td>\n",
       "      <td>2005</td>\n",
       "      <td>1968.823385</td>\n",
       "      <td>116</td>\n",
       "      <td>15-49</td>\n",
       "      <td>25.3</td>\n",
       "      <td>8.5</td>\n",
       "      <td>16.8</td>\n",
       "      <td>DHS</td>\n",
       "    </tr>\n",
       "    <tr>\n",
       "      <td>27</td>\n",
       "      <td>Africa</td>\n",
       "      <td>Cabo Verde</td>\n",
       "      <td>2005</td>\n",
       "      <td>4759.132611</td>\n",
       "      <td>132</td>\n",
       "      <td>15-49</td>\n",
       "      <td>16.7</td>\n",
       "      <td>6.4</td>\n",
       "      <td>10.3</td>\n",
       "      <td>DHS</td>\n",
       "    </tr>\n",
       "    <tr>\n",
       "      <td>38</td>\n",
       "      <td>Africa</td>\n",
       "      <td>Congo</td>\n",
       "      <td>2005</td>\n",
       "      <td>4867.922658</td>\n",
       "      <td>178</td>\n",
       "      <td>15-49</td>\n",
       "      <td>19.5</td>\n",
       "      <td>14.0</td>\n",
       "      <td>5.5</td>\n",
       "      <td>DHS</td>\n",
       "    </tr>\n",
       "    <tr>\n",
       "      <td>41</td>\n",
       "      <td>Europe</td>\n",
       "      <td>Czech Republic</td>\n",
       "      <td>2005</td>\n",
       "      <td>25781.204706</td>\n",
       "      <td>203</td>\n",
       "      <td>18-49</td>\n",
       "      <td>8.1</td>\n",
       "      <td>..</td>\n",
       "      <td>..</td>\n",
       "      <td>GGS</td>\n",
       "    </tr>\n",
       "  </tbody>\n",
       "</table>\n",
       "</div>"
      ],
      "text/plain": [
       "   Continent         Country  Year  GDP_Per_Capita ISO Code    Age  \\\n",
       "2     Europe         Armenia  2005     5356.596456      051  15-49   \n",
       "21      Asia        Cambodia  2005     1968.823385      116  15-49   \n",
       "27    Africa      Cabo Verde  2005     4759.132611      132  15-49   \n",
       "38    Africa           Congo  2005     4867.922658      178  15-49   \n",
       "41    Europe  Czech Republic  2005    25781.204706      203  18-49   \n",
       "\n",
       "   Unmet_Need_Total Unmet Need: Spacing Unmet Need: Limiting Source  \n",
       "2              19.3                 3.9                 15.5    DHS  \n",
       "21             25.3                 8.5                 16.8    DHS  \n",
       "27             16.7                 6.4                 10.3    DHS  \n",
       "38             19.5                14.0                  5.5    DHS  \n",
       "41              8.1                  ..                   ..    GGS  "
      ]
     },
     "execution_count": 148,
     "metadata": {},
     "output_type": "execute_result"
    }
   ],
   "source": [
    "\n",
    "gdp_contraceptives_2005=gdp_contraceptives_df[gdp_contraceptives_df['Year'] == 2005]\n",
    "gdp_contraceptives_2005.head()\n"
   ]
  },
  {
   "cell_type": "code",
   "execution_count": 149,
   "metadata": {},
   "outputs": [
    {
     "data": {
      "text/plain": [
       "Index(['Continent', 'Country', 'Year', 'GDP_Per_Capita', 'ISO Code', 'Age',\n",
       "       'Unmet_Need_Total', 'Unmet Need: Spacing', 'Unmet Need: Limiting',\n",
       "       'Source'],\n",
       "      dtype='object')"
      ]
     },
     "execution_count": 149,
     "metadata": {},
     "output_type": "execute_result"
    }
   ],
   "source": [
    "gdp_contraceptives_2005.columns"
   ]
  },
  {
   "cell_type": "code",
   "execution_count": 150,
   "metadata": {},
   "outputs": [
    {
     "data": {
      "text/plain": [
       "2005"
      ]
     },
     "execution_count": 150,
     "metadata": {},
     "output_type": "execute_result"
    }
   ],
   "source": [
    "gdp_contraceptives_2005.Year.loc[2]"
   ]
  },
  {
   "cell_type": "code",
   "execution_count": 151,
   "metadata": {},
   "outputs": [
    {
     "data": {
      "text/html": [
       "<div>\n",
       "<style scoped>\n",
       "    .dataframe tbody tr th:only-of-type {\n",
       "        vertical-align: middle;\n",
       "    }\n",
       "\n",
       "    .dataframe tbody tr th {\n",
       "        vertical-align: top;\n",
       "    }\n",
       "\n",
       "    .dataframe thead th {\n",
       "        text-align: right;\n",
       "    }\n",
       "</style>\n",
       "<table border=\"1\" class=\"dataframe\">\n",
       "  <thead>\n",
       "    <tr style=\"text-align: right;\">\n",
       "      <th></th>\n",
       "      <th>index</th>\n",
       "      <th>Continent</th>\n",
       "      <th>Country</th>\n",
       "      <th>Year</th>\n",
       "      <th>GDP_Per_Capita</th>\n",
       "      <th>ISO Code</th>\n",
       "      <th>Age</th>\n",
       "      <th>Unmet_Need_Total</th>\n",
       "      <th>Unmet Need: Spacing</th>\n",
       "      <th>Unmet Need: Limiting</th>\n",
       "      <th>Source</th>\n",
       "    </tr>\n",
       "  </thead>\n",
       "  <tbody>\n",
       "    <tr>\n",
       "      <td>0</td>\n",
       "      <td>2</td>\n",
       "      <td>Europe</td>\n",
       "      <td>Armenia</td>\n",
       "      <td>2005</td>\n",
       "      <td>5356.596456</td>\n",
       "      <td>051</td>\n",
       "      <td>15-49</td>\n",
       "      <td>19.3</td>\n",
       "      <td>3.9</td>\n",
       "      <td>15.5</td>\n",
       "      <td>DHS</td>\n",
       "    </tr>\n",
       "    <tr>\n",
       "      <td>1</td>\n",
       "      <td>21</td>\n",
       "      <td>Asia</td>\n",
       "      <td>Cambodia</td>\n",
       "      <td>2005</td>\n",
       "      <td>1968.823385</td>\n",
       "      <td>116</td>\n",
       "      <td>15-49</td>\n",
       "      <td>25.3</td>\n",
       "      <td>8.5</td>\n",
       "      <td>16.8</td>\n",
       "      <td>DHS</td>\n",
       "    </tr>\n",
       "    <tr>\n",
       "      <td>2</td>\n",
       "      <td>27</td>\n",
       "      <td>Africa</td>\n",
       "      <td>Cabo Verde</td>\n",
       "      <td>2005</td>\n",
       "      <td>4759.132611</td>\n",
       "      <td>132</td>\n",
       "      <td>15-49</td>\n",
       "      <td>16.7</td>\n",
       "      <td>6.4</td>\n",
       "      <td>10.3</td>\n",
       "      <td>DHS</td>\n",
       "    </tr>\n",
       "    <tr>\n",
       "      <td>3</td>\n",
       "      <td>38</td>\n",
       "      <td>Africa</td>\n",
       "      <td>Congo</td>\n",
       "      <td>2005</td>\n",
       "      <td>4867.922658</td>\n",
       "      <td>178</td>\n",
       "      <td>15-49</td>\n",
       "      <td>19.5</td>\n",
       "      <td>14.0</td>\n",
       "      <td>5.5</td>\n",
       "      <td>DHS</td>\n",
       "    </tr>\n",
       "    <tr>\n",
       "      <td>4</td>\n",
       "      <td>41</td>\n",
       "      <td>Europe</td>\n",
       "      <td>Czech Republic</td>\n",
       "      <td>2005</td>\n",
       "      <td>25781.204706</td>\n",
       "      <td>203</td>\n",
       "      <td>18-49</td>\n",
       "      <td>8.1</td>\n",
       "      <td>..</td>\n",
       "      <td>..</td>\n",
       "      <td>GGS</td>\n",
       "    </tr>\n",
       "    <tr>\n",
       "      <td>5</td>\n",
       "      <td>53</td>\n",
       "      <td>Africa</td>\n",
       "      <td>Egypt</td>\n",
       "      <td>2005</td>\n",
       "      <td>8136.544631</td>\n",
       "      <td>818</td>\n",
       "      <td>15-49</td>\n",
       "      <td>12.3</td>\n",
       "      <td>3.5</td>\n",
       "      <td>8.8</td>\n",
       "      <td>DHS</td>\n",
       "    </tr>\n",
       "    <tr>\n",
       "      <td>6</td>\n",
       "      <td>65</td>\n",
       "      <td>Africa</td>\n",
       "      <td>Ethiopia</td>\n",
       "      <td>2005</td>\n",
       "      <td>736.033196</td>\n",
       "      <td>231</td>\n",
       "      <td>15-49</td>\n",
       "      <td>36.1</td>\n",
       "      <td>19.5</td>\n",
       "      <td>16.6</td>\n",
       "      <td>DHS</td>\n",
       "    </tr>\n",
       "    <tr>\n",
       "      <td>7</td>\n",
       "      <td>71</td>\n",
       "      <td>Europe</td>\n",
       "      <td>Georgia</td>\n",
       "      <td>2005</td>\n",
       "      <td>5245.176866</td>\n",
       "      <td>268</td>\n",
       "      <td>15-44</td>\n",
       "      <td>16.3</td>\n",
       "      <td>4.3</td>\n",
       "      <td>12.0</td>\n",
       "      <td>RHS</td>\n",
       "    </tr>\n",
       "    <tr>\n",
       "      <td>8</td>\n",
       "      <td>79</td>\n",
       "      <td>Africa</td>\n",
       "      <td>Guinea</td>\n",
       "      <td>2005</td>\n",
       "      <td>1598.167734</td>\n",
       "      <td>324</td>\n",
       "      <td>15-49</td>\n",
       "      <td>21.9</td>\n",
       "      <td>13.4</td>\n",
       "      <td>8.5</td>\n",
       "      <td>DHS</td>\n",
       "    </tr>\n",
       "    <tr>\n",
       "      <td>9</td>\n",
       "      <td>174</td>\n",
       "      <td>Africa</td>\n",
       "      <td>Rwanda</td>\n",
       "      <td>2005</td>\n",
       "      <td>1063.405620</td>\n",
       "      <td>646</td>\n",
       "      <td>15-49</td>\n",
       "      <td>38.5</td>\n",
       "      <td>23.5</td>\n",
       "      <td>14.9</td>\n",
       "      <td>DHS</td>\n",
       "    </tr>\n",
       "    <tr>\n",
       "      <td>10</td>\n",
       "      <td>178</td>\n",
       "      <td>Africa</td>\n",
       "      <td>Senegal</td>\n",
       "      <td>2005</td>\n",
       "      <td>2682.443304</td>\n",
       "      <td>686</td>\n",
       "      <td>15-49</td>\n",
       "      <td>32.0</td>\n",
       "      <td>24.3</td>\n",
       "      <td>7.7</td>\n",
       "      <td>DHS</td>\n",
       "    </tr>\n",
       "  </tbody>\n",
       "</table>\n",
       "</div>"
      ],
      "text/plain": [
       "    index Continent         Country  Year  GDP_Per_Capita ISO Code    Age  \\\n",
       "0       2    Europe         Armenia  2005     5356.596456      051  15-49   \n",
       "1      21      Asia        Cambodia  2005     1968.823385      116  15-49   \n",
       "2      27    Africa      Cabo Verde  2005     4759.132611      132  15-49   \n",
       "3      38    Africa           Congo  2005     4867.922658      178  15-49   \n",
       "4      41    Europe  Czech Republic  2005    25781.204706      203  18-49   \n",
       "5      53    Africa           Egypt  2005     8136.544631      818  15-49   \n",
       "6      65    Africa        Ethiopia  2005      736.033196      231  15-49   \n",
       "7      71    Europe         Georgia  2005     5245.176866      268  15-44   \n",
       "8      79    Africa          Guinea  2005     1598.167734      324  15-49   \n",
       "9     174    Africa          Rwanda  2005     1063.405620      646  15-49   \n",
       "10    178    Africa         Senegal  2005     2682.443304      686  15-49   \n",
       "\n",
       "   Unmet_Need_Total Unmet Need: Spacing Unmet Need: Limiting Source  \n",
       "0              19.3                 3.9                 15.5    DHS  \n",
       "1              25.3                 8.5                 16.8    DHS  \n",
       "2              16.7                 6.4                 10.3    DHS  \n",
       "3              19.5                14.0                  5.5    DHS  \n",
       "4               8.1                  ..                   ..    GGS  \n",
       "5              12.3                 3.5                  8.8    DHS  \n",
       "6              36.1                19.5                 16.6    DHS  \n",
       "7              16.3                 4.3                 12.0    RHS  \n",
       "8              21.9                13.4                  8.5    DHS  \n",
       "9              38.5                23.5                 14.9    DHS  \n",
       "10             32.0                24.3                  7.7    DHS  "
      ]
     },
     "execution_count": 151,
     "metadata": {},
     "output_type": "execute_result"
    }
   ],
   "source": [
    "gdp_contraceptives_2005.reset_index()"
   ]
  },
  {
   "cell_type": "code",
   "execution_count": 152,
   "metadata": {},
   "outputs": [
    {
     "name": "stdout",
     "output_type": "stream",
     "text": [
      "<class 'pandas.core.frame.DataFrame'>\n",
      "Int64Index: 11 entries, 2 to 178\n",
      "Data columns (total 10 columns):\n",
      "Continent               11 non-null category\n",
      "Country                 11 non-null object\n",
      "Year                    11 non-null int64\n",
      "GDP_Per_Capita          11 non-null float64\n",
      "ISO Code                11 non-null object\n",
      "Age                     11 non-null object\n",
      "Unmet_Need_Total        11 non-null object\n",
      "Unmet Need: Spacing     11 non-null object\n",
      "Unmet Need: Limiting    11 non-null object\n",
      "Source                  11 non-null object\n",
      "dtypes: category(1), float64(1), int64(1), object(7)\n",
      "memory usage: 1.4+ KB\n"
     ]
    }
   ],
   "source": [
    "gdp_contraceptives_2005.info()"
   ]
  },
  {
   "cell_type": "code",
   "execution_count": 153,
   "metadata": {},
   "outputs": [
    {
     "name": "stderr",
     "output_type": "stream",
     "text": [
      "//anaconda3/lib/python3.7/site-packages/ipykernel_launcher.py:1: SettingWithCopyWarning: \n",
      "A value is trying to be set on a copy of a slice from a DataFrame.\n",
      "Try using .loc[row_indexer,col_indexer] = value instead\n",
      "\n",
      "See the caveats in the documentation: http://pandas.pydata.org/pandas-docs/stable/user_guide/indexing.html#returning-a-view-versus-a-copy\n",
      "  \"\"\"Entry point for launching an IPython kernel.\n"
     ]
    }
   ],
   "source": [
    "gdp_contraceptives_2005['Unmet_Need_Total']=gdp_contraceptives_2005['Unmet_Need_Total'].astype('float64')"
   ]
  },
  {
   "cell_type": "code",
   "execution_count": 154,
   "metadata": {},
   "outputs": [
    {
     "data": {
      "image/png": "[encoded data removed]",
      "text/plain": [
       "<Figure size 432x288 with 1 Axes>"
      ]
     },
     "metadata": {
      "needs_background": "light"
     },
     "output_type": "display_data"
    }
   ],
   "source": [
    "gdp_contraceptives_2005.plot(kind='hist', x='GDP_Per_Capita',y='Unmet_Need_Total');"
   ]
  },
  {
   "cell_type": "code",
   "execution_count": 155,
   "metadata": {},
   "outputs": [
    {
     "data": {
      "image/png": "[encoded data removed]",
      "text/plain": [
       "<Figure size 432x288 with 1 Axes>"
      ]
     },
     "metadata": {
      "needs_background": "light"
     },
     "output_type": "display_data"
    }
   ],
   "source": [
    "sns.distplot(gdp_contraceptives_2005['GDP_Per_Capita'], kde=False);\n",
    "#kde=kernal density estimate and adds a line"
   ]
  },
  {
   "cell_type": "code",
   "execution_count": 156,
   "metadata": {},
   "outputs": [
    {
     "data": {
      "text/html": [
       "<div>\n",
       "<style scoped>\n",
       "    .dataframe tbody tr th:only-of-type {\n",
       "        vertical-align: middle;\n",
       "    }\n",
       "\n",
       "    .dataframe tbody tr th {\n",
       "        vertical-align: top;\n",
       "    }\n",
       "\n",
       "    .dataframe thead th {\n",
       "        text-align: right;\n",
       "    }\n",
       "</style>\n",
       "<table border=\"1\" class=\"dataframe\">\n",
       "  <thead>\n",
       "    <tr style=\"text-align: right;\">\n",
       "      <th></th>\n",
       "      <th>Continent</th>\n",
       "      <th>Country</th>\n",
       "      <th>Year</th>\n",
       "      <th>GDP_Per_Capita</th>\n",
       "      <th>ISO Code</th>\n",
       "      <th>Age</th>\n",
       "      <th>Unmet_Need_Total</th>\n",
       "      <th>Unmet Need: Spacing</th>\n",
       "      <th>Unmet Need: Limiting</th>\n",
       "      <th>Source</th>\n",
       "    </tr>\n",
       "  </thead>\n",
       "  <tbody>\n",
       "    <tr>\n",
       "      <td>2</td>\n",
       "      <td>Europe</td>\n",
       "      <td>Armenia</td>\n",
       "      <td>2005</td>\n",
       "      <td>5356.596456</td>\n",
       "      <td>051</td>\n",
       "      <td>15-49</td>\n",
       "      <td>19.3</td>\n",
       "      <td>3.9</td>\n",
       "      <td>15.5</td>\n",
       "      <td>DHS</td>\n",
       "    </tr>\n",
       "    <tr>\n",
       "      <td>21</td>\n",
       "      <td>Asia</td>\n",
       "      <td>Cambodia</td>\n",
       "      <td>2005</td>\n",
       "      <td>1968.823385</td>\n",
       "      <td>116</td>\n",
       "      <td>15-49</td>\n",
       "      <td>25.3</td>\n",
       "      <td>8.5</td>\n",
       "      <td>16.8</td>\n",
       "      <td>DHS</td>\n",
       "    </tr>\n",
       "    <tr>\n",
       "      <td>27</td>\n",
       "      <td>Africa</td>\n",
       "      <td>Cabo Verde</td>\n",
       "      <td>2005</td>\n",
       "      <td>4759.132611</td>\n",
       "      <td>132</td>\n",
       "      <td>15-49</td>\n",
       "      <td>16.7</td>\n",
       "      <td>6.4</td>\n",
       "      <td>10.3</td>\n",
       "      <td>DHS</td>\n",
       "    </tr>\n",
       "    <tr>\n",
       "      <td>38</td>\n",
       "      <td>Africa</td>\n",
       "      <td>Congo</td>\n",
       "      <td>2005</td>\n",
       "      <td>4867.922658</td>\n",
       "      <td>178</td>\n",
       "      <td>15-49</td>\n",
       "      <td>19.5</td>\n",
       "      <td>14.0</td>\n",
       "      <td>5.5</td>\n",
       "      <td>DHS</td>\n",
       "    </tr>\n",
       "    <tr>\n",
       "      <td>41</td>\n",
       "      <td>Europe</td>\n",
       "      <td>Czech Republic</td>\n",
       "      <td>2005</td>\n",
       "      <td>25781.204706</td>\n",
       "      <td>203</td>\n",
       "      <td>18-49</td>\n",
       "      <td>8.1</td>\n",
       "      <td>..</td>\n",
       "      <td>..</td>\n",
       "      <td>GGS</td>\n",
       "    </tr>\n",
       "  </tbody>\n",
       "</table>\n",
       "</div>"
      ],
      "text/plain": [
       "   Continent         Country  Year  GDP_Per_Capita ISO Code    Age  \\\n",
       "2     Europe         Armenia  2005     5356.596456      051  15-49   \n",
       "21      Asia        Cambodia  2005     1968.823385      116  15-49   \n",
       "27    Africa      Cabo Verde  2005     4759.132611      132  15-49   \n",
       "38    Africa           Congo  2005     4867.922658      178  15-49   \n",
       "41    Europe  Czech Republic  2005    25781.204706      203  18-49   \n",
       "\n",
       "    Unmet_Need_Total Unmet Need: Spacing Unmet Need: Limiting Source  \n",
       "2               19.3                 3.9                 15.5    DHS  \n",
       "21              25.3                 8.5                 16.8    DHS  \n",
       "27              16.7                 6.4                 10.3    DHS  \n",
       "38              19.5                14.0                  5.5    DHS  \n",
       "41               8.1                  ..                   ..    GGS  "
      ]
     },
     "execution_count": 156,
     "metadata": {},
     "output_type": "execute_result"
    }
   ],
   "source": [
    "gdp_contraceptives_2005.head()"
   ]
  },
  {
   "cell_type": "code",
   "execution_count": 157,
   "metadata": {},
   "outputs": [
    {
     "data": {
      "text/plain": [
       "Continent\n",
       "Africa           7\n",
       "Asia             1\n",
       "Europe           3\n",
       "North America    0\n",
       "Oceania          0\n",
       "South America    0\n",
       "Name: Country, dtype: int64"
      ]
     },
     "execution_count": 157,
     "metadata": {},
     "output_type": "execute_result"
    }
   ],
   "source": [
    "gdp_contraceptives_2005.groupby('Continent').Country.count()"
   ]
  },
  {
   "cell_type": "code",
   "execution_count": 158,
   "metadata": {},
   "outputs": [
    {
     "data": {
      "image/png": "[encoded data removed]",
      "text/plain": [
       "<Figure size 648x648 with 1 Axes>"
      ]
     },
     "metadata": {
      "needs_background": "light"
     },
     "output_type": "display_data"
    }
   ],
   "source": [
    "plt.figure(figsize = (9, 9))\n",
    "plt.barh(y=gdp_contraceptives_2005['Country'], width= gdp_contraceptives_2005['Unmet_Need_Total'], color = 'blue', edgecolor = 'black');\n",
    "plt.title(\"Unmet Need for Contraceptives by Country for 2005\")\n",
    "plt.xlabel('Unmet Need %')\n",
    "plt.ylabel('Country')\n",
    "plt.show();\n",
    "#these labels aren't showing up...must be doing something wrong. "
   ]
  },
  {
   "cell_type": "code",
   "execution_count": 159,
   "metadata": {},
   "outputs": [
    {
     "data": {
      "image/png": "[encoded data removed]",
      "text/plain": [
       "<Figure size 432x288 with 1 Axes>"
      ]
     },
     "metadata": {
      "needs_background": "light"
     },
     "output_type": "display_data"
    }
   ],
   "source": [
    "gdp_contraceptives_2005.plot(kind='scatter', x = 'GDP_Per_Capita', y = 'Unmet_Need_Total');"
   ]
  },
  {
   "cell_type": "code",
   "execution_count": 160,
   "metadata": {},
   "outputs": [
    {
     "data": {
      "text/html": [
       "<div>\n",
       "<style scoped>\n",
       "    .dataframe tbody tr th:only-of-type {\n",
       "        vertical-align: middle;\n",
       "    }\n",
       "\n",
       "    .dataframe tbody tr th {\n",
       "        vertical-align: top;\n",
       "    }\n",
       "\n",
       "    .dataframe thead th {\n",
       "        text-align: right;\n",
       "    }\n",
       "</style>\n",
       "<table border=\"1\" class=\"dataframe\">\n",
       "  <thead>\n",
       "    <tr style=\"text-align: right;\">\n",
       "      <th></th>\n",
       "      <th>count</th>\n",
       "      <th>unique</th>\n",
       "      <th>top</th>\n",
       "      <th>freq</th>\n",
       "    </tr>\n",
       "    <tr>\n",
       "      <th>Continent</th>\n",
       "      <th></th>\n",
       "      <th></th>\n",
       "      <th></th>\n",
       "      <th></th>\n",
       "    </tr>\n",
       "  </thead>\n",
       "  <tbody>\n",
       "    <tr>\n",
       "      <td>Africa</td>\n",
       "      <td>7</td>\n",
       "      <td>7</td>\n",
       "      <td>Ethiopia</td>\n",
       "      <td>1</td>\n",
       "    </tr>\n",
       "    <tr>\n",
       "      <td>Asia</td>\n",
       "      <td>1</td>\n",
       "      <td>1</td>\n",
       "      <td>Cambodia</td>\n",
       "      <td>1</td>\n",
       "    </tr>\n",
       "    <tr>\n",
       "      <td>Europe</td>\n",
       "      <td>3</td>\n",
       "      <td>3</td>\n",
       "      <td>Georgia</td>\n",
       "      <td>1</td>\n",
       "    </tr>\n",
       "    <tr>\n",
       "      <td>North America</td>\n",
       "      <td>0</td>\n",
       "      <td>0</td>\n",
       "      <td>NaN</td>\n",
       "      <td>NaN</td>\n",
       "    </tr>\n",
       "    <tr>\n",
       "      <td>Oceania</td>\n",
       "      <td>0</td>\n",
       "      <td>0</td>\n",
       "      <td>NaN</td>\n",
       "      <td>NaN</td>\n",
       "    </tr>\n",
       "    <tr>\n",
       "      <td>South America</td>\n",
       "      <td>0</td>\n",
       "      <td>0</td>\n",
       "      <td>NaN</td>\n",
       "      <td>NaN</td>\n",
       "    </tr>\n",
       "  </tbody>\n",
       "</table>\n",
       "</div>"
      ],
      "text/plain": [
       "              count unique       top freq\n",
       "Continent                                \n",
       "Africa            7      7  Ethiopia    1\n",
       "Asia              1      1  Cambodia    1\n",
       "Europe            3      3   Georgia    1\n",
       "North America     0      0       NaN  NaN\n",
       "Oceania           0      0       NaN  NaN\n",
       "South America     0      0       NaN  NaN"
      ]
     },
     "execution_count": 160,
     "metadata": {},
     "output_type": "execute_result"
    }
   ],
   "source": [
    "gdp_contraceptives_2005.groupby('Continent').Country.describe()"
   ]
  },
  {
   "cell_type": "code",
   "execution_count": 161,
   "metadata": {},
   "outputs": [],
   "source": [
    "# Only three continents represented ^^"
   ]
  },
  {
   "cell_type": "code",
   "execution_count": 162,
   "metadata": {},
   "outputs": [],
   "source": [
    "gdp_contraceptives_2005=gdp_contraceptives_2005.drop(columns={'ISO Code', 'Source'})"
   ]
  },
  {
   "cell_type": "code",
   "execution_count": 163,
   "metadata": {},
   "outputs": [
    {
     "data": {
      "text/plain": [
       "Year                2005.000000\n",
       "GDP_Per_Capita      5654.131924\n",
       "Unmet_Need_Total      22.363636\n",
       "dtype: float64"
      ]
     },
     "execution_count": 163,
     "metadata": {},
     "output_type": "execute_result"
    }
   ],
   "source": [
    "gdp_contraceptives_2005.mean()"
   ]
  },
  {
   "cell_type": "code",
   "execution_count": 164,
   "metadata": {},
   "outputs": [
    {
     "data": {
      "text/plain": [
       "174"
      ]
     },
     "execution_count": 164,
     "metadata": {},
     "output_type": "execute_result"
    }
   ],
   "source": [
    "gdp_contraceptives_2005['Unmet_Need_Total'].idxmax()"
   ]
  },
  {
   "cell_type": "code",
   "execution_count": 165,
   "metadata": {},
   "outputs": [
    {
     "data": {
      "text/plain": [
       "Continent                Africa\n",
       "Country                  Rwanda\n",
       "Year                       2005\n",
       "GDP_Per_Capita          1063.41\n",
       "Age                       15-49\n",
       "Unmet_Need_Total           38.5\n",
       "Unmet Need: Spacing        23.5\n",
       "Unmet Need: Limiting       14.9\n",
       "Name: 174, dtype: object"
      ]
     },
     "execution_count": 165,
     "metadata": {},
     "output_type": "execute_result"
    }
   ],
   "source": [
    "gdp_contraceptives_2005.loc[174]\n",
    "# Will use this information later "
   ]
  },
  {
   "cell_type": "code",
   "execution_count": 166,
   "metadata": {},
   "outputs": [
    {
     "data": {
      "text/html": [
       "<div>\n",
       "<style scoped>\n",
       "    .dataframe tbody tr th:only-of-type {\n",
       "        vertical-align: middle;\n",
       "    }\n",
       "\n",
       "    .dataframe tbody tr th {\n",
       "        vertical-align: top;\n",
       "    }\n",
       "\n",
       "    .dataframe thead th {\n",
       "        text-align: right;\n",
       "    }\n",
       "</style>\n",
       "<table border=\"1\" class=\"dataframe\">\n",
       "  <thead>\n",
       "    <tr style=\"text-align: right;\">\n",
       "      <th></th>\n",
       "      <th>Year</th>\n",
       "      <th>GDP_Per_Capita</th>\n",
       "      <th>Unmet_Need_Total</th>\n",
       "    </tr>\n",
       "  </thead>\n",
       "  <tbody>\n",
       "    <tr>\n",
       "      <td>Year</td>\n",
       "      <td>NaN</td>\n",
       "      <td>NaN</td>\n",
       "      <td>NaN</td>\n",
       "    </tr>\n",
       "    <tr>\n",
       "      <td>GDP_Per_Capita</td>\n",
       "      <td>NaN</td>\n",
       "      <td>1.000000</td>\n",
       "      <td>-0.702329</td>\n",
       "    </tr>\n",
       "    <tr>\n",
       "      <td>Unmet_Need_Total</td>\n",
       "      <td>NaN</td>\n",
       "      <td>-0.702329</td>\n",
       "      <td>1.000000</td>\n",
       "    </tr>\n",
       "  </tbody>\n",
       "</table>\n",
       "</div>"
      ],
      "text/plain": [
       "                  Year  GDP_Per_Capita  Unmet_Need_Total\n",
       "Year               NaN             NaN               NaN\n",
       "GDP_Per_Capita     NaN        1.000000         -0.702329\n",
       "Unmet_Need_Total   NaN       -0.702329          1.000000"
      ]
     },
     "execution_count": 166,
     "metadata": {},
     "output_type": "execute_result"
    }
   ],
   "source": [
    "gdp_contraceptives_2005.corr()"
   ]
  },
  {
   "cell_type": "code",
   "execution_count": 167,
   "metadata": {},
   "outputs": [],
   "source": [
    "# What I really want to do is graph the correlation between GDP Per \n",
    "# Capita and Unmet need for contraceptives. "
   ]
  },
  {
   "cell_type": "code",
   "execution_count": 168,
   "metadata": {},
   "outputs": [
    {
     "name": "stderr",
     "output_type": "stream",
     "text": [
      "//anaconda3/lib/python3.7/site-packages/scipy/stats/stats.py:1450: UserWarning: kurtosistest only valid for n>=20 ... continuing anyway, n=11\n",
      "  \"anyway, n=%i\" % int(n))\n"
     ]
    },
    {
     "data": {
      "text/html": [
       "<table class=\"simpletable\">\n",
       "<caption>OLS Regression Results</caption>\n",
       "<tr>\n",
       "  <th>Dep. Variable:</th>    <td>Unmet_Need_Total</td> <th>  R-squared (uncentered):</th>      <td>   0.152</td>\n",
       "</tr>\n",
       "<tr>\n",
       "  <th>Model:</th>                   <td>OLS</td>       <th>  Adj. R-squared (uncentered):</th> <td>   0.067</td>\n",
       "</tr>\n",
       "<tr>\n",
       "  <th>Method:</th>             <td>Least Squares</td>  <th>  F-statistic:       </th>          <td>   1.786</td>\n",
       "</tr>\n",
       "<tr>\n",
       "  <th>Date:</th>             <td>Thu, 03 Oct 2019</td> <th>  Prob (F-statistic):</th>           <td> 0.211</td> \n",
       "</tr>\n",
       "<tr>\n",
       "  <th>Time:</th>                 <td>17:45:28</td>     <th>  Log-Likelihood:    </th>          <td> -49.755</td>\n",
       "</tr>\n",
       "<tr>\n",
       "  <th>No. Observations:</th>      <td>    11</td>      <th>  AIC:               </th>          <td>   101.5</td>\n",
       "</tr>\n",
       "<tr>\n",
       "  <th>Df Residuals:</th>          <td>    10</td>      <th>  BIC:               </th>          <td>   101.9</td>\n",
       "</tr>\n",
       "<tr>\n",
       "  <th>Df Model:</th>              <td>     1</td>      <th>                     </th>              <td> </td>   \n",
       "</tr>\n",
       "<tr>\n",
       "  <th>Covariance Type:</th>      <td>nonrobust</td>    <th>                     </th>              <td> </td>   \n",
       "</tr>\n",
       "</table>\n",
       "<table class=\"simpletable\">\n",
       "<tr>\n",
       "         <td></td>           <th>coef</th>     <th>std err</th>      <th>t</th>      <th>P>|t|</th>  <th>[0.025</th>    <th>0.975]</th>  \n",
       "</tr>\n",
       "<tr>\n",
       "  <th>GDP_Per_Capita</th> <td>    0.0011</td> <td>    0.001</td> <td>    1.336</td> <td> 0.211</td> <td>   -0.001</td> <td>    0.003</td>\n",
       "</tr>\n",
       "</table>\n",
       "<table class=\"simpletable\">\n",
       "<tr>\n",
       "  <th>Omnibus:</th>       <td> 3.502</td> <th>  Durbin-Watson:     </th> <td>   0.728</td>\n",
       "</tr>\n",
       "<tr>\n",
       "  <th>Prob(Omnibus):</th> <td> 0.174</td> <th>  Jarque-Bera (JB):  </th> <td>   1.180</td>\n",
       "</tr>\n",
       "<tr>\n",
       "  <th>Skew:</th>          <td>-0.769</td> <th>  Prob(JB):          </th> <td>   0.554</td>\n",
       "</tr>\n",
       "<tr>\n",
       "  <th>Kurtosis:</th>      <td> 3.460</td> <th>  Cond. No.          </th> <td>    1.00</td>\n",
       "</tr>\n",
       "</table><br/><br/>Warnings:<br/>[1] Standard Errors assume that the covariance matrix of the errors is correctly specified."
      ],
      "text/plain": [
       "<class 'statsmodels.iolib.summary.Summary'>\n",
       "\"\"\"\n",
       "                                 OLS Regression Results                                \n",
       "=======================================================================================\n",
       "Dep. Variable:       Unmet_Need_Total   R-squared (uncentered):                   0.152\n",
       "Model:                            OLS   Adj. R-squared (uncentered):              0.067\n",
       "Method:                 Least Squares   F-statistic:                              1.786\n",
       "Date:                Thu, 03 Oct 2019   Prob (F-statistic):                       0.211\n",
       "Time:                        17:45:28   Log-Likelihood:                         -49.755\n",
       "No. Observations:                  11   AIC:                                      101.5\n",
       "Df Residuals:                      10   BIC:                                      101.9\n",
       "Df Model:                           1                                                  \n",
       "Covariance Type:            nonrobust                                                  \n",
       "==================================================================================\n",
       "                     coef    std err          t      P>|t|      [0.025      0.975]\n",
       "----------------------------------------------------------------------------------\n",
       "GDP_Per_Capita     0.0011      0.001      1.336      0.211      -0.001       0.003\n",
       "==============================================================================\n",
       "Omnibus:                        3.502   Durbin-Watson:                   0.728\n",
       "Prob(Omnibus):                  0.174   Jarque-Bera (JB):                1.180\n",
       "Skew:                          -0.769   Prob(JB):                        0.554\n",
       "Kurtosis:                       3.460   Cond. No.                         1.00\n",
       "==============================================================================\n",
       "\n",
       "Warnings:\n",
       "[1] Standard Errors assume that the covariance matrix of the errors is correctly specified.\n",
       "\"\"\""
      ]
     },
     "execution_count": 168,
     "metadata": {},
     "output_type": "execute_result"
    }
   ],
   "source": [
    "X = gdp_contraceptives_2005[\"GDP_Per_Capita\"]\n",
    "y = gdp_contraceptives_2005[\"Unmet_Need_Total\"]\n",
    "\n",
    "# Note the difference in argument order\n",
    "model = sm.OLS(y, X).fit()\n",
    "predictions = model.predict(X) # make the predictions by the model\n",
    "\n",
    "# Print out the statistics\n",
    "model.summary()"
   ]
  },
  {
   "cell_type": "code",
   "execution_count": 169,
   "metadata": {},
   "outputs": [],
   "source": [
    "gdp_contraceptives_df['Unmet_Need_Total']=gdp_contraceptives_df['Unmet_Need_Total'].dropna()"
   ]
  },
  {
   "cell_type": "code",
   "execution_count": 170,
   "metadata": {},
   "outputs": [
    {
     "name": "stdout",
     "output_type": "stream",
     "text": [
      "<class 'pandas.core.frame.DataFrame'>\n",
      "Int64Index: 213 entries, 0 to 212\n",
      "Data columns (total 10 columns):\n",
      "Continent               213 non-null category\n",
      "Country                 213 non-null object\n",
      "Year                    213 non-null int64\n",
      "GDP_Per_Capita          213 non-null float64\n",
      "ISO Code                213 non-null object\n",
      "Age                     213 non-null object\n",
      "Unmet_Need_Total        213 non-null object\n",
      "Unmet Need: Spacing     213 non-null object\n",
      "Unmet Need: Limiting    213 non-null object\n",
      "Source                  213 non-null object\n",
      "dtypes: category(1), float64(1), int64(1), object(7)\n",
      "memory usage: 17.1+ KB\n"
     ]
    }
   ],
   "source": [
    "gdp_contraceptives_df.info()"
   ]
  },
  {
   "cell_type": "code",
   "execution_count": 171,
   "metadata": {},
   "outputs": [],
   "source": [
    "gdp_contraceptives_df['Unmet_Need_Total']= gdp_contraceptives_df['Unmet_Need_Total'].astype('float64')"
   ]
  },
  {
   "cell_type": "code",
   "execution_count": 172,
   "metadata": {},
   "outputs": [],
   "source": [
    "Africa_df = gdp_contraceptives_df[gdp_contraceptives_df['Continent']=='Africa']"
   ]
  },
  {
   "cell_type": "code",
   "execution_count": 173,
   "metadata": {},
   "outputs": [
    {
     "data": {
      "text/html": [
       "<div>\n",
       "<style scoped>\n",
       "    .dataframe tbody tr th:only-of-type {\n",
       "        vertical-align: middle;\n",
       "    }\n",
       "\n",
       "    .dataframe tbody tr th {\n",
       "        vertical-align: top;\n",
       "    }\n",
       "\n",
       "    .dataframe thead th {\n",
       "        text-align: right;\n",
       "    }\n",
       "</style>\n",
       "<table border=\"1\" class=\"dataframe\">\n",
       "  <thead>\n",
       "    <tr style=\"text-align: right;\">\n",
       "      <th></th>\n",
       "      <th>Continent</th>\n",
       "      <th>Country</th>\n",
       "      <th>Year</th>\n",
       "      <th>GDP_Per_Capita</th>\n",
       "      <th>ISO Code</th>\n",
       "      <th>Age</th>\n",
       "      <th>Unmet_Need_Total</th>\n",
       "      <th>Unmet Need: Spacing</th>\n",
       "      <th>Unmet Need: Limiting</th>\n",
       "      <th>Source</th>\n",
       "    </tr>\n",
       "  </thead>\n",
       "  <tbody>\n",
       "    <tr>\n",
       "      <td>13</td>\n",
       "      <td>Africa</td>\n",
       "      <td>Benin</td>\n",
       "      <td>2006</td>\n",
       "      <td>1752.957526</td>\n",
       "      <td>204</td>\n",
       "      <td>15-49</td>\n",
       "      <td>27.3</td>\n",
       "      <td>17.4</td>\n",
       "      <td>9.9</td>\n",
       "      <td>DHS</td>\n",
       "    </tr>\n",
       "    <tr>\n",
       "      <td>14</td>\n",
       "      <td>Africa</td>\n",
       "      <td>Benin</td>\n",
       "      <td>2001</td>\n",
       "      <td>1703.015130</td>\n",
       "      <td>204</td>\n",
       "      <td>15-49</td>\n",
       "      <td>27.9</td>\n",
       "      <td>18.1</td>\n",
       "      <td>9.8</td>\n",
       "      <td>DHS</td>\n",
       "    </tr>\n",
       "    <tr>\n",
       "      <td>15</td>\n",
       "      <td>Africa</td>\n",
       "      <td>Benin</td>\n",
       "      <td>1996</td>\n",
       "      <td>1531.642807</td>\n",
       "      <td>204</td>\n",
       "      <td>15-49</td>\n",
       "      <td>27.7</td>\n",
       "      <td>18.7</td>\n",
       "      <td>9.0</td>\n",
       "      <td>DHS</td>\n",
       "    </tr>\n",
       "    <tr>\n",
       "      <td>19</td>\n",
       "      <td>Africa</td>\n",
       "      <td>Burkina Faso</td>\n",
       "      <td>2003</td>\n",
       "      <td>1183.094880</td>\n",
       "      <td>854</td>\n",
       "      <td>15-49</td>\n",
       "      <td>29.8</td>\n",
       "      <td>22.3</td>\n",
       "      <td>7.5</td>\n",
       "      <td>DHS</td>\n",
       "    </tr>\n",
       "    <tr>\n",
       "      <td>20</td>\n",
       "      <td>Africa</td>\n",
       "      <td>Burundi</td>\n",
       "      <td>2002</td>\n",
       "      <td>728.185980</td>\n",
       "      <td>108</td>\n",
       "      <td>15-49</td>\n",
       "      <td>29.0</td>\n",
       "      <td>..</td>\n",
       "      <td>..</td>\n",
       "      <td>National survey</td>\n",
       "    </tr>\n",
       "  </tbody>\n",
       "</table>\n",
       "</div>"
      ],
      "text/plain": [
       "   Continent       Country  Year  GDP_Per_Capita ISO Code    Age  \\\n",
       "13    Africa         Benin  2006     1752.957526      204  15-49   \n",
       "14    Africa         Benin  2001     1703.015130      204  15-49   \n",
       "15    Africa         Benin  1996     1531.642807      204  15-49   \n",
       "19    Africa  Burkina Faso  2003     1183.094880      854  15-49   \n",
       "20    Africa       Burundi  2002      728.185980      108  15-49   \n",
       "\n",
       "    Unmet_Need_Total Unmet Need: Spacing Unmet Need: Limiting           Source  \n",
       "13              27.3                17.4                  9.9              DHS  \n",
       "14              27.9                18.1                  9.8              DHS  \n",
       "15              27.7                18.7                  9.0              DHS  \n",
       "19              29.8                22.3                  7.5              DHS  \n",
       "20              29.0                  ..                   ..  National survey  "
      ]
     },
     "execution_count": 173,
     "metadata": {},
     "output_type": "execute_result"
    }
   ],
   "source": [
    "Africa_df.head()"
   ]
  },
  {
   "cell_type": "code",
   "execution_count": 174,
   "metadata": {},
   "outputs": [
    {
     "data": {
      "image/png": "[encoded data removed]",
      "text/plain": [
       "<Figure size 432x288 with 1 Axes>"
      ]
     },
     "metadata": {
      "needs_background": "light"
     },
     "output_type": "display_data"
    }
   ],
   "source": [
    "Africa_df.plot(kind='scatter', x = 'GDP_Per_Capita', y = 'Unmet_Need_Total');"
   ]
  },
  {
   "cell_type": "code",
   "execution_count": 175,
   "metadata": {},
   "outputs": [
    {
     "data": {
      "text/html": [
       "<div>\n",
       "<style scoped>\n",
       "    .dataframe tbody tr th:only-of-type {\n",
       "        vertical-align: middle;\n",
       "    }\n",
       "\n",
       "    .dataframe tbody tr th {\n",
       "        vertical-align: top;\n",
       "    }\n",
       "\n",
       "    .dataframe thead th {\n",
       "        text-align: right;\n",
       "    }\n",
       "</style>\n",
       "<table border=\"1\" class=\"dataframe\">\n",
       "  <thead>\n",
       "    <tr style=\"text-align: right;\">\n",
       "      <th></th>\n",
       "      <th>Year</th>\n",
       "      <th>GDP_Per_Capita</th>\n",
       "      <th>Unmet_Need_Total</th>\n",
       "    </tr>\n",
       "  </thead>\n",
       "  <tbody>\n",
       "    <tr>\n",
       "      <td>Year</td>\n",
       "      <td>1.000000</td>\n",
       "      <td>0.150166</td>\n",
       "      <td>0.058759</td>\n",
       "    </tr>\n",
       "    <tr>\n",
       "      <td>GDP_Per_Capita</td>\n",
       "      <td>0.150166</td>\n",
       "      <td>1.000000</td>\n",
       "      <td>-0.188278</td>\n",
       "    </tr>\n",
       "    <tr>\n",
       "      <td>Unmet_Need_Total</td>\n",
       "      <td>0.058759</td>\n",
       "      <td>-0.188278</td>\n",
       "      <td>1.000000</td>\n",
       "    </tr>\n",
       "  </tbody>\n",
       "</table>\n",
       "</div>"
      ],
      "text/plain": [
       "                      Year  GDP_Per_Capita  Unmet_Need_Total\n",
       "Year              1.000000        0.150166          0.058759\n",
       "GDP_Per_Capita    0.150166        1.000000         -0.188278\n",
       "Unmet_Need_Total  0.058759       -0.188278          1.000000"
      ]
     },
     "execution_count": 175,
     "metadata": {},
     "output_type": "execute_result"
    }
   ],
   "source": [
    "Africa_df.corr()"
   ]
  },
  {
   "cell_type": "code",
   "execution_count": 176,
   "metadata": {},
   "outputs": [],
   "source": [
    "from ipywidgets import interact"
   ]
  },
  {
   "cell_type": "code",
   "execution_count": 177,
   "metadata": {},
   "outputs": [
    {
     "data": {
      "application/vnd.jupyter.widget-view+json": {
       "model_id": "feb7f4242990447fa5127daeada8aa29",
       "version_major": 2,
       "version_minor": 0
      },
      "text/plain": [
       "interactive(children=(Dropdown(description='country', options=('Benin', 'Burkina Faso', 'Burundi', 'Cameroon',…"
      ]
     },
     "metadata": {},
     "output_type": "display_data"
    }
   ],
   "source": [
    "@interact(country=Africa_df.Country.dropna().unique())\n",
    "def Africa(country):\n",
    "    stuff=Africa_df.loc[Africa_df.Country==country][['Year','Unmet_Need_Total']]\n",
    "    stuff=stuff.sort_values('Year')\n",
    "    stuff.plot.bar(x='Year',y='Unmet_Need_Total')\n"
   ]
  },
  {
   "cell_type": "code",
   "execution_count": 178,
   "metadata": {},
   "outputs": [],
   "source": [
    "NorthAm_df = gdp_contraceptives_df[gdp_contraceptives_df['Continent']=='North America']"
   ]
  },
  {
   "cell_type": "code",
   "execution_count": 179,
   "metadata": {},
   "outputs": [
    {
     "data": {
      "application/vnd.jupyter.widget-view+json": {
       "model_id": "b4625b90283d4c0eb6903084858404c4",
       "version_major": 2,
       "version_minor": 0
      },
      "text/plain": [
       "interactive(children=(Dropdown(description='country', options=('Belize', 'Costa Rica', 'Dominican Republic', '…"
      ]
     },
     "metadata": {},
     "output_type": "display_data"
    }
   ],
   "source": [
    "@interact(country=NorthAm_df.Country.dropna().unique())\n",
    "def NorthAm(country):\n",
    "    stuff=NorthAm_df.loc[NorthAm_df.Country==country][['Year','Unmet_Need_Total']]\n",
    "    stuff=stuff.sort_values('Year')\n",
    "    stuff.plot.bar(x='Year',y='Unmet_Need_Total')\n",
    "\n"
   ]
  },
  {
   "cell_type": "code",
   "execution_count": 180,
   "metadata": {},
   "outputs": [
    {
     "data": {
      "image/png": "[encoded data removed]",
      "text/plain": [
       "<Figure size 432x288 with 1 Axes>"
      ]
     },
     "metadata": {
      "needs_background": "light"
     },
     "output_type": "display_data"
    }
   ],
   "source": [
    "NorthAm_df.plot(kind='scatter', x = 'GDP_Per_Capita', y = 'Unmet_Need_Total');"
   ]
  },
  {
   "cell_type": "code",
   "execution_count": 181,
   "metadata": {},
   "outputs": [
    {
     "data": {
      "text/html": [
       "<div>\n",
       "<style scoped>\n",
       "    .dataframe tbody tr th:only-of-type {\n",
       "        vertical-align: middle;\n",
       "    }\n",
       "\n",
       "    .dataframe tbody tr th {\n",
       "        vertical-align: top;\n",
       "    }\n",
       "\n",
       "    .dataframe thead th {\n",
       "        text-align: right;\n",
       "    }\n",
       "</style>\n",
       "<table border=\"1\" class=\"dataframe\">\n",
       "  <thead>\n",
       "    <tr style=\"text-align: right;\">\n",
       "      <th></th>\n",
       "      <th>Year</th>\n",
       "      <th>GDP_Per_Capita</th>\n",
       "      <th>Unmet_Need_Total</th>\n",
       "    </tr>\n",
       "  </thead>\n",
       "  <tbody>\n",
       "    <tr>\n",
       "      <td>Year</td>\n",
       "      <td>1.000000</td>\n",
       "      <td>0.246581</td>\n",
       "      <td>-0.098082</td>\n",
       "    </tr>\n",
       "    <tr>\n",
       "      <td>GDP_Per_Capita</td>\n",
       "      <td>0.246581</td>\n",
       "      <td>1.000000</td>\n",
       "      <td>-0.629990</td>\n",
       "    </tr>\n",
       "    <tr>\n",
       "      <td>Unmet_Need_Total</td>\n",
       "      <td>-0.098082</td>\n",
       "      <td>-0.629990</td>\n",
       "      <td>1.000000</td>\n",
       "    </tr>\n",
       "  </tbody>\n",
       "</table>\n",
       "</div>"
      ],
      "text/plain": [
       "                      Year  GDP_Per_Capita  Unmet_Need_Total\n",
       "Year              1.000000        0.246581         -0.098082\n",
       "GDP_Per_Capita    0.246581        1.000000         -0.629990\n",
       "Unmet_Need_Total -0.098082       -0.629990          1.000000"
      ]
     },
     "execution_count": 181,
     "metadata": {},
     "output_type": "execute_result"
    }
   ],
   "source": [
    "NorthAm_df.corr()"
   ]
  },
  {
   "cell_type": "code",
   "execution_count": 182,
   "metadata": {},
   "outputs": [
    {
     "name": "stdout",
     "output_type": "stream",
     "text": [
      "<class 'pandas.core.frame.DataFrame'>\n",
      "Int64Index: 86 entries, 13 to 212\n",
      "Data columns (total 10 columns):\n",
      "Continent               86 non-null category\n",
      "Country                 86 non-null object\n",
      "Year                    86 non-null int64\n",
      "GDP_Per_Capita          86 non-null float64\n",
      "ISO Code                86 non-null object\n",
      "Age                     86 non-null object\n",
      "Unmet_Need_Total        86 non-null float64\n",
      "Unmet Need: Spacing     86 non-null object\n",
      "Unmet Need: Limiting    86 non-null object\n",
      "Source                  86 non-null object\n",
      "dtypes: category(1), float64(2), int64(1), object(6)\n",
      "memory usage: 7.0+ KB\n"
     ]
    }
   ],
   "source": [
    "Africa_df.info()"
   ]
  },
  {
   "cell_type": "code",
   "execution_count": 183,
   "metadata": {},
   "outputs": [
    {
     "data": {
      "text/html": [
       "<div>\n",
       "<style scoped>\n",
       "    .dataframe tbody tr th:only-of-type {\n",
       "        vertical-align: middle;\n",
       "    }\n",
       "\n",
       "    .dataframe tbody tr th {\n",
       "        vertical-align: top;\n",
       "    }\n",
       "\n",
       "    .dataframe thead th {\n",
       "        text-align: right;\n",
       "    }\n",
       "</style>\n",
       "<table border=\"1\" class=\"dataframe\">\n",
       "  <thead>\n",
       "    <tr style=\"text-align: right;\">\n",
       "      <th></th>\n",
       "      <th>Year</th>\n",
       "      <th>GDP_Per_Capita</th>\n",
       "      <th>Unmet_Need_Total</th>\n",
       "    </tr>\n",
       "  </thead>\n",
       "  <tbody>\n",
       "    <tr>\n",
       "      <td>Year</td>\n",
       "      <td>1.000000</td>\n",
       "      <td>0.165735</td>\n",
       "      <td>-0.061885</td>\n",
       "    </tr>\n",
       "    <tr>\n",
       "      <td>GDP_Per_Capita</td>\n",
       "      <td>0.165735</td>\n",
       "      <td>1.000000</td>\n",
       "      <td>-0.343509</td>\n",
       "    </tr>\n",
       "    <tr>\n",
       "      <td>Unmet_Need_Total</td>\n",
       "      <td>-0.061885</td>\n",
       "      <td>-0.343509</td>\n",
       "      <td>1.000000</td>\n",
       "    </tr>\n",
       "  </tbody>\n",
       "</table>\n",
       "</div>"
      ],
      "text/plain": [
       "                      Year  GDP_Per_Capita  Unmet_Need_Total\n",
       "Year              1.000000        0.165735         -0.061885\n",
       "GDP_Per_Capita    0.165735        1.000000         -0.343509\n",
       "Unmet_Need_Total -0.061885       -0.343509          1.000000"
      ]
     },
     "execution_count": 183,
     "metadata": {},
     "output_type": "execute_result"
    }
   ],
   "source": [
    "gdp_contraceptives_df.corr()"
   ]
  },
  {
   "cell_type": "code",
   "execution_count": 184,
   "metadata": {},
   "outputs": [
    {
     "data": {
      "image/png": "[encoded data removed]",
      "text/plain": [
       "<Figure size 432x288 with 1 Axes>"
      ]
     },
     "metadata": {
      "needs_background": "light"
     },
     "output_type": "display_data"
    }
   ],
   "source": [
    "gdp_contraceptives_df.plot(kind='scatter', x = 'GDP_Per_Capita', y = 'Unmet_Need_Total');"
   ]
  },
  {
   "cell_type": "code",
   "execution_count": 185,
   "metadata": {},
   "outputs": [
    {
     "data": {
      "text/html": [
       "<div>\n",
       "<style scoped>\n",
       "    .dataframe tbody tr th:only-of-type {\n",
       "        vertical-align: middle;\n",
       "    }\n",
       "\n",
       "    .dataframe tbody tr th {\n",
       "        vertical-align: top;\n",
       "    }\n",
       "\n",
       "    .dataframe thead th {\n",
       "        text-align: right;\n",
       "    }\n",
       "</style>\n",
       "<table border=\"1\" class=\"dataframe\">\n",
       "  <thead>\n",
       "    <tr style=\"text-align: right;\">\n",
       "      <th></th>\n",
       "      <th>Continent</th>\n",
       "      <th>Country</th>\n",
       "      <th>Year</th>\n",
       "      <th>GDP_Per_Capita</th>\n",
       "      <th>ISO Code</th>\n",
       "      <th>Age</th>\n",
       "      <th>Unmet_Need_Total</th>\n",
       "      <th>Unmet Need: Spacing</th>\n",
       "      <th>Unmet Need: Limiting</th>\n",
       "      <th>Source</th>\n",
       "    </tr>\n",
       "  </thead>\n",
       "  <tbody>\n",
       "    <tr>\n",
       "      <td>0</td>\n",
       "      <td>Europe</td>\n",
       "      <td>Albania</td>\n",
       "      <td>2002</td>\n",
       "      <td>6238.120489</td>\n",
       "      <td>008</td>\n",
       "      <td>15-44</td>\n",
       "      <td>1.3</td>\n",
       "      <td>1.0</td>\n",
       "      <td>0.3</td>\n",
       "      <td>RHS</td>\n",
       "    </tr>\n",
       "    <tr>\n",
       "      <td>1</td>\n",
       "      <td>Europe</td>\n",
       "      <td>Armenia</td>\n",
       "      <td>2010</td>\n",
       "      <td>6702.829370</td>\n",
       "      <td>051</td>\n",
       "      <td>15-49</td>\n",
       "      <td>13.5</td>\n",
       "      <td>5.3</td>\n",
       "      <td>8.2</td>\n",
       "      <td>DHS</td>\n",
       "    </tr>\n",
       "    <tr>\n",
       "      <td>2</td>\n",
       "      <td>Europe</td>\n",
       "      <td>Armenia</td>\n",
       "      <td>2005</td>\n",
       "      <td>5356.596456</td>\n",
       "      <td>051</td>\n",
       "      <td>15-49</td>\n",
       "      <td>19.3</td>\n",
       "      <td>3.9</td>\n",
       "      <td>15.5</td>\n",
       "      <td>DHS</td>\n",
       "    </tr>\n",
       "    <tr>\n",
       "      <td>3</td>\n",
       "      <td>Europe</td>\n",
       "      <td>Armenia</td>\n",
       "      <td>2000</td>\n",
       "      <td>2924.744521</td>\n",
       "      <td>051</td>\n",
       "      <td>15-49</td>\n",
       "      <td>18.1</td>\n",
       "      <td>3.5</td>\n",
       "      <td>14.6</td>\n",
       "      <td>DHS</td>\n",
       "    </tr>\n",
       "    <tr>\n",
       "      <td>4</td>\n",
       "      <td>Europe</td>\n",
       "      <td>Azerbaijan</td>\n",
       "      <td>2006</td>\n",
       "      <td>10882.234670</td>\n",
       "      <td>031</td>\n",
       "      <td>15-49</td>\n",
       "      <td>15.4</td>\n",
       "      <td>3.0</td>\n",
       "      <td>12.5</td>\n",
       "      <td>DHS</td>\n",
       "    </tr>\n",
       "    <tr>\n",
       "      <td>...</td>\n",
       "      <td>...</td>\n",
       "      <td>...</td>\n",
       "      <td>...</td>\n",
       "      <td>...</td>\n",
       "      <td>...</td>\n",
       "      <td>...</td>\n",
       "      <td>...</td>\n",
       "      <td>...</td>\n",
       "      <td>...</td>\n",
       "      <td>...</td>\n",
       "    </tr>\n",
       "    <tr>\n",
       "      <td>208</td>\n",
       "      <td>Asia</td>\n",
       "      <td>Yemen</td>\n",
       "      <td>1997</td>\n",
       "      <td>3729.732721</td>\n",
       "      <td>887</td>\n",
       "      <td>15-49</td>\n",
       "      <td>40.0</td>\n",
       "      <td>17.5</td>\n",
       "      <td>22.5</td>\n",
       "      <td>DHS</td>\n",
       "    </tr>\n",
       "    <tr>\n",
       "      <td>209</td>\n",
       "      <td>Africa</td>\n",
       "      <td>Zambia</td>\n",
       "      <td>2007</td>\n",
       "      <td>2797.889591</td>\n",
       "      <td>894</td>\n",
       "      <td>15-49</td>\n",
       "      <td>26.6</td>\n",
       "      <td>15.9</td>\n",
       "      <td>10.6</td>\n",
       "      <td>DHS</td>\n",
       "    </tr>\n",
       "    <tr>\n",
       "      <td>210</td>\n",
       "      <td>Africa</td>\n",
       "      <td>Zambia</td>\n",
       "      <td>1992</td>\n",
       "      <td>2185.120656</td>\n",
       "      <td>894</td>\n",
       "      <td>15-49</td>\n",
       "      <td>30.0</td>\n",
       "      <td>20.8</td>\n",
       "      <td>9.2</td>\n",
       "      <td>DHS</td>\n",
       "    </tr>\n",
       "    <tr>\n",
       "      <td>211</td>\n",
       "      <td>Africa</td>\n",
       "      <td>Zimbabwe</td>\n",
       "      <td>1999</td>\n",
       "      <td>3054.064189</td>\n",
       "      <td>716</td>\n",
       "      <td>15-49</td>\n",
       "      <td>16.7</td>\n",
       "      <td>8.5</td>\n",
       "      <td>8.2</td>\n",
       "      <td>DHS</td>\n",
       "    </tr>\n",
       "    <tr>\n",
       "      <td>212</td>\n",
       "      <td>Africa</td>\n",
       "      <td>Zimbabwe</td>\n",
       "      <td>1994</td>\n",
       "      <td>2768.309953</td>\n",
       "      <td>716</td>\n",
       "      <td>15-49</td>\n",
       "      <td>19.1</td>\n",
       "      <td>10.6</td>\n",
       "      <td>8.5</td>\n",
       "      <td>DHS</td>\n",
       "    </tr>\n",
       "  </tbody>\n",
       "</table>\n",
       "<p>213 rows × 10 columns</p>\n",
       "</div>"
      ],
      "text/plain": [
       "    Continent     Country  Year  GDP_Per_Capita ISO Code    Age  \\\n",
       "0      Europe     Albania  2002     6238.120489      008  15-44   \n",
       "1      Europe     Armenia  2010     6702.829370      051  15-49   \n",
       "2      Europe     Armenia  2005     5356.596456      051  15-49   \n",
       "3      Europe     Armenia  2000     2924.744521      051  15-49   \n",
       "4      Europe  Azerbaijan  2006    10882.234670      031  15-49   \n",
       "..        ...         ...   ...             ...      ...    ...   \n",
       "208      Asia       Yemen  1997     3729.732721      887  15-49   \n",
       "209    Africa      Zambia  2007     2797.889591      894  15-49   \n",
       "210    Africa      Zambia  1992     2185.120656      894  15-49   \n",
       "211    Africa    Zimbabwe  1999     3054.064189      716  15-49   \n",
       "212    Africa    Zimbabwe  1994     2768.309953      716  15-49   \n",
       "\n",
       "     Unmet_Need_Total Unmet Need: Spacing Unmet Need: Limiting Source  \n",
       "0                 1.3                 1.0                  0.3    RHS  \n",
       "1                13.5                 5.3                  8.2    DHS  \n",
       "2                19.3                 3.9                 15.5    DHS  \n",
       "3                18.1                 3.5                 14.6    DHS  \n",
       "4                15.4                 3.0                 12.5    DHS  \n",
       "..                ...                 ...                  ...    ...  \n",
       "208              40.0                17.5                 22.5    DHS  \n",
       "209              26.6                15.9                 10.6    DHS  \n",
       "210              30.0                20.8                  9.2    DHS  \n",
       "211              16.7                 8.5                  8.2    DHS  \n",
       "212              19.1                10.6                  8.5    DHS  \n",
       "\n",
       "[213 rows x 10 columns]"
      ]
     },
     "execution_count": 185,
     "metadata": {},
     "output_type": "execute_result"
    }
   ],
   "source": [
    "gdp_contraceptives_df"
   ]
  },
  {
   "cell_type": "code",
   "execution_count": 186,
   "metadata": {},
   "outputs": [],
   "source": [
    "# Need a facet grid and a widget scatterplot, how to do a heat map?? \"pigal\" "
   ]
  },
  {
   "cell_type": "code",
   "execution_count": 187,
   "metadata": {},
   "outputs": [
    {
     "data": {
      "text/html": [
       "<table class=\"simpletable\">\n",
       "<caption>OLS Regression Results</caption>\n",
       "<tr>\n",
       "  <th>Dep. Variable:</th>    <td>Unmet_Need_Total</td> <th>  R-squared (uncentered):</th>      <td>   0.155</td>\n",
       "</tr>\n",
       "<tr>\n",
       "  <th>Model:</th>                   <td>OLS</td>       <th>  Adj. R-squared (uncentered):</th> <td>   0.151</td>\n",
       "</tr>\n",
       "<tr>\n",
       "  <th>Method:</th>             <td>Least Squares</td>  <th>  F-statistic:       </th>          <td>   38.99</td>\n",
       "</tr>\n",
       "<tr>\n",
       "  <th>Date:</th>             <td>Thu, 03 Oct 2019</td> <th>  Prob (F-statistic):</th>          <td>2.29e-09</td>\n",
       "</tr>\n",
       "<tr>\n",
       "  <th>Time:</th>                 <td>17:45:29</td>     <th>  Log-Likelihood:    </th>          <td> -939.25</td>\n",
       "</tr>\n",
       "<tr>\n",
       "  <th>No. Observations:</th>      <td>   213</td>      <th>  AIC:               </th>          <td>   1880.</td>\n",
       "</tr>\n",
       "<tr>\n",
       "  <th>Df Residuals:</th>          <td>   212</td>      <th>  BIC:               </th>          <td>   1884.</td>\n",
       "</tr>\n",
       "<tr>\n",
       "  <th>Df Model:</th>              <td>     1</td>      <th>                     </th>              <td> </td>   \n",
       "</tr>\n",
       "<tr>\n",
       "  <th>Covariance Type:</th>      <td>nonrobust</td>    <th>                     </th>              <td> </td>   \n",
       "</tr>\n",
       "</table>\n",
       "<table class=\"simpletable\">\n",
       "<tr>\n",
       "         <td></td>           <th>coef</th>     <th>std err</th>      <th>t</th>      <th>P>|t|</th>  <th>[0.025</th>    <th>0.975]</th>  \n",
       "</tr>\n",
       "<tr>\n",
       "  <th>GDP_Per_Capita</th> <td>    0.0007</td> <td>    0.000</td> <td>    6.244</td> <td> 0.000</td> <td>    0.000</td> <td>    0.001</td>\n",
       "</tr>\n",
       "</table>\n",
       "<table class=\"simpletable\">\n",
       "<tr>\n",
       "  <th>Omnibus:</th>       <td>96.868</td> <th>  Durbin-Watson:     </th> <td>   0.550</td> \n",
       "</tr>\n",
       "<tr>\n",
       "  <th>Prob(Omnibus):</th> <td> 0.000</td> <th>  Jarque-Bera (JB):  </th> <td> 903.429</td> \n",
       "</tr>\n",
       "<tr>\n",
       "  <th>Skew:</th>          <td>-1.483</td> <th>  Prob(JB):          </th> <td>6.65e-197</td>\n",
       "</tr>\n",
       "<tr>\n",
       "  <th>Kurtosis:</th>      <td>12.644</td> <th>  Cond. No.          </th> <td>    1.00</td> \n",
       "</tr>\n",
       "</table><br/><br/>Warnings:<br/>[1] Standard Errors assume that the covariance matrix of the errors is correctly specified."
      ],
      "text/plain": [
       "<class 'statsmodels.iolib.summary.Summary'>\n",
       "\"\"\"\n",
       "                                 OLS Regression Results                                \n",
       "=======================================================================================\n",
       "Dep. Variable:       Unmet_Need_Total   R-squared (uncentered):                   0.155\n",
       "Model:                            OLS   Adj. R-squared (uncentered):              0.151\n",
       "Method:                 Least Squares   F-statistic:                              38.99\n",
       "Date:                Thu, 03 Oct 2019   Prob (F-statistic):                    2.29e-09\n",
       "Time:                        17:45:29   Log-Likelihood:                         -939.25\n",
       "No. Observations:                 213   AIC:                                      1880.\n",
       "Df Residuals:                     212   BIC:                                      1884.\n",
       "Df Model:                           1                                                  \n",
       "Covariance Type:            nonrobust                                                  \n",
       "==================================================================================\n",
       "                     coef    std err          t      P>|t|      [0.025      0.975]\n",
       "----------------------------------------------------------------------------------\n",
       "GDP_Per_Capita     0.0007      0.000      6.244      0.000       0.000       0.001\n",
       "==============================================================================\n",
       "Omnibus:                       96.868   Durbin-Watson:                   0.550\n",
       "Prob(Omnibus):                  0.000   Jarque-Bera (JB):              903.429\n",
       "Skew:                          -1.483   Prob(JB):                    6.65e-197\n",
       "Kurtosis:                      12.644   Cond. No.                         1.00\n",
       "==============================================================================\n",
       "\n",
       "Warnings:\n",
       "[1] Standard Errors assume that the covariance matrix of the errors is correctly specified.\n",
       "\"\"\""
      ]
     },
     "execution_count": 187,
     "metadata": {},
     "output_type": "execute_result"
    }
   ],
   "source": [
    "import statsmodels.api as sm\n",
    "\n",
    "X = gdp_contraceptives_df[\"GDP_Per_Capita\"]\n",
    "y = gdp_contraceptives_df[\"Unmet_Need_Total\"]\n",
    "\n",
    "# Note the difference in argument order\n",
    "model = sm.OLS(y, X).fit()\n",
    "predictions = model.predict(X) # make the predictions by the model\n",
    "\n",
    "# Print out the statistics\n",
    "model.summary()\n",
    "\n",
    "# No linear relationship "
   ]
  },
  {
   "cell_type": "code",
   "execution_count": 188,
   "metadata": {},
   "outputs": [],
   "source": [
    "gdp_contraceptives_df['log_GDP_Per_Capita']=np.log(gdp_contraceptives_df['GDP_Per_Capita'])"
   ]
  },
  {
   "cell_type": "code",
   "execution_count": 189,
   "metadata": {},
   "outputs": [
    {
     "data": {
      "image/png": "[encoded data removed]",
      "text/plain": [
       "<Figure size 432x288 with 1 Axes>"
      ]
     },
     "metadata": {
      "needs_background": "light"
     },
     "output_type": "display_data"
    }
   ],
   "source": [
    "gdp_contraceptives_df.plot(kind='scatter', x = 'log_GDP_Per_Capita', y = 'Unmet_Need_Total');"
   ]
  },
  {
   "cell_type": "code",
   "execution_count": 190,
   "metadata": {},
   "outputs": [
    {
     "data": {
      "text/html": [
       "<table class=\"simpletable\">\n",
       "<caption>OLS Regression Results</caption>\n",
       "<tr>\n",
       "  <th>Dep. Variable:</th>    <td>Unmet_Need_Total</td> <th>  R-squared (uncentered):</th>      <td>   0.741</td>\n",
       "</tr>\n",
       "<tr>\n",
       "  <th>Model:</th>                   <td>OLS</td>       <th>  Adj. R-squared (uncentered):</th> <td>   0.740</td>\n",
       "</tr>\n",
       "<tr>\n",
       "  <th>Method:</th>             <td>Least Squares</td>  <th>  F-statistic:       </th>          <td>   606.9</td>\n",
       "</tr>\n",
       "<tr>\n",
       "  <th>Date:</th>             <td>Thu, 03 Oct 2019</td> <th>  Prob (F-statistic):</th>          <td>3.91e-64</td>\n",
       "</tr>\n",
       "<tr>\n",
       "  <th>Time:</th>                 <td>17:45:30</td>     <th>  Log-Likelihood:    </th>          <td> -813.31</td>\n",
       "</tr>\n",
       "<tr>\n",
       "  <th>No. Observations:</th>      <td>   213</td>      <th>  AIC:               </th>          <td>   1629.</td>\n",
       "</tr>\n",
       "<tr>\n",
       "  <th>Df Residuals:</th>          <td>   212</td>      <th>  BIC:               </th>          <td>   1632.</td>\n",
       "</tr>\n",
       "<tr>\n",
       "  <th>Df Model:</th>              <td>     1</td>      <th>                     </th>              <td> </td>   \n",
       "</tr>\n",
       "<tr>\n",
       "  <th>Covariance Type:</th>      <td>nonrobust</td>    <th>                     </th>              <td> </td>   \n",
       "</tr>\n",
       "</table>\n",
       "<table class=\"simpletable\">\n",
       "<tr>\n",
       "           <td></td>             <th>coef</th>     <th>std err</th>      <th>t</th>      <th>P>|t|</th>  <th>[0.025</th>    <th>0.975]</th>  \n",
       "</tr>\n",
       "<tr>\n",
       "  <th>log_GDP_Per_Capita</th> <td>    2.2098</td> <td>    0.090</td> <td>   24.635</td> <td> 0.000</td> <td>    2.033</td> <td>    2.387</td>\n",
       "</tr>\n",
       "</table>\n",
       "<table class=\"simpletable\">\n",
       "<tr>\n",
       "  <th>Omnibus:</th>       <td>18.664</td> <th>  Durbin-Watson:     </th> <td>   0.901</td>\n",
       "</tr>\n",
       "<tr>\n",
       "  <th>Prob(Omnibus):</th> <td> 0.000</td> <th>  Jarque-Bera (JB):  </th> <td>   8.918</td>\n",
       "</tr>\n",
       "<tr>\n",
       "  <th>Skew:</th>          <td> 0.296</td> <th>  Prob(JB):          </th> <td>  0.0116</td>\n",
       "</tr>\n",
       "<tr>\n",
       "  <th>Kurtosis:</th>      <td> 2.191</td> <th>  Cond. No.          </th> <td>    1.00</td>\n",
       "</tr>\n",
       "</table><br/><br/>Warnings:<br/>[1] Standard Errors assume that the covariance matrix of the errors is correctly specified."
      ],
      "text/plain": [
       "<class 'statsmodels.iolib.summary.Summary'>\n",
       "\"\"\"\n",
       "                                 OLS Regression Results                                \n",
       "=======================================================================================\n",
       "Dep. Variable:       Unmet_Need_Total   R-squared (uncentered):                   0.741\n",
       "Model:                            OLS   Adj. R-squared (uncentered):              0.740\n",
       "Method:                 Least Squares   F-statistic:                              606.9\n",
       "Date:                Thu, 03 Oct 2019   Prob (F-statistic):                    3.91e-64\n",
       "Time:                        17:45:30   Log-Likelihood:                         -813.31\n",
       "No. Observations:                 213   AIC:                                      1629.\n",
       "Df Residuals:                     212   BIC:                                      1632.\n",
       "Df Model:                           1                                                  \n",
       "Covariance Type:            nonrobust                                                  \n",
       "======================================================================================\n",
       "                         coef    std err          t      P>|t|      [0.025      0.975]\n",
       "--------------------------------------------------------------------------------------\n",
       "log_GDP_Per_Capita     2.2098      0.090     24.635      0.000       2.033       2.387\n",
       "==============================================================================\n",
       "Omnibus:                       18.664   Durbin-Watson:                   0.901\n",
       "Prob(Omnibus):                  0.000   Jarque-Bera (JB):                8.918\n",
       "Skew:                           0.296   Prob(JB):                       0.0116\n",
       "Kurtosis:                       2.191   Cond. No.                         1.00\n",
       "==============================================================================\n",
       "\n",
       "Warnings:\n",
       "[1] Standard Errors assume that the covariance matrix of the errors is correctly specified.\n",
       "\"\"\""
      ]
     },
     "execution_count": 190,
     "metadata": {},
     "output_type": "execute_result"
    }
   ],
   "source": [
    "X = gdp_contraceptives_df['log_GDP_Per_Capita']\n",
    "y = gdp_contraceptives_df[\"Unmet_Need_Total\"]\n",
    "\n",
    "# Note the difference in argument order\n",
    "model = sm.OLS(y, X).fit()\n",
    "predictions = model.predict(X) # make the predictions by the model\n",
    "\n",
    "# Print out the statistics\n",
    "model.summary()"
   ]
  },
  {
   "cell_type": "code",
   "execution_count": 191,
   "metadata": {},
   "outputs": [],
   "source": [
    "Africa_df_top=Africa_df.nlargest(5, 'GDP_Per_Capita')"
   ]
  },
  {
   "cell_type": "code",
   "execution_count": 192,
   "metadata": {},
   "outputs": [
    {
     "data": {
      "text/html": [
       "<div>\n",
       "<style scoped>\n",
       "    .dataframe tbody tr th:only-of-type {\n",
       "        vertical-align: middle;\n",
       "    }\n",
       "\n",
       "    .dataframe tbody tr th {\n",
       "        vertical-align: top;\n",
       "    }\n",
       "\n",
       "    .dataframe thead th {\n",
       "        text-align: right;\n",
       "    }\n",
       "</style>\n",
       "<table border=\"1\" class=\"dataframe\">\n",
       "  <thead>\n",
       "    <tr style=\"text-align: right;\">\n",
       "      <th></th>\n",
       "      <th>Continent</th>\n",
       "      <th>Country</th>\n",
       "      <th>Year</th>\n",
       "      <th>GDP_Per_Capita</th>\n",
       "      <th>ISO Code</th>\n",
       "      <th>Age</th>\n",
       "      <th>Unmet_Need_Total</th>\n",
       "      <th>Unmet Need: Spacing</th>\n",
       "      <th>Unmet Need: Limiting</th>\n",
       "      <th>Source</th>\n",
       "    </tr>\n",
       "  </thead>\n",
       "  <tbody>\n",
       "    <tr>\n",
       "      <td>62</td>\n",
       "      <td>Africa</td>\n",
       "      <td>Equatorial Guinea</td>\n",
       "      <td>2011</td>\n",
       "      <td>34622.116266</td>\n",
       "      <td>226</td>\n",
       "      <td>15-49</td>\n",
       "      <td>34.0</td>\n",
       "      <td>22.0</td>\n",
       "      <td>12.0</td>\n",
       "      <td>DHS</td>\n",
       "    </tr>\n",
       "    <tr>\n",
       "      <td>109</td>\n",
       "      <td>Africa</td>\n",
       "      <td>Libya</td>\n",
       "      <td>2007</td>\n",
       "      <td>28600.429374</td>\n",
       "      <td>434</td>\n",
       "      <td>15-49</td>\n",
       "      <td>27.0</td>\n",
       "      <td>20.0</td>\n",
       "      <td>7.0</td>\n",
       "      <td>PAPFAM</td>\n",
       "    </tr>\n",
       "    <tr>\n",
       "      <td>69</td>\n",
       "      <td>Africa</td>\n",
       "      <td>Gabon</td>\n",
       "      <td>2000</td>\n",
       "      <td>17822.492238</td>\n",
       "      <td>266</td>\n",
       "      <td>15-49</td>\n",
       "      <td>27.9</td>\n",
       "      <td>19.7</td>\n",
       "      <td>8.1</td>\n",
       "      <td>DHS</td>\n",
       "    </tr>\n",
       "    <tr>\n",
       "      <td>68</td>\n",
       "      <td>Africa</td>\n",
       "      <td>Gabon</td>\n",
       "      <td>2012</td>\n",
       "      <td>16225.387524</td>\n",
       "      <td>266</td>\n",
       "      <td>15-49</td>\n",
       "      <td>26.5</td>\n",
       "      <td>18.7</td>\n",
       "      <td>7.7</td>\n",
       "      <td>DHS</td>\n",
       "    </tr>\n",
       "    <tr>\n",
       "      <td>120</td>\n",
       "      <td>Africa</td>\n",
       "      <td>Mauritius</td>\n",
       "      <td>2002</td>\n",
       "      <td>11673.664012</td>\n",
       "      <td>480</td>\n",
       "      <td>15-49</td>\n",
       "      <td>3.5</td>\n",
       "      <td>..</td>\n",
       "      <td>..</td>\n",
       "      <td>National survey</td>\n",
       "    </tr>\n",
       "  </tbody>\n",
       "</table>\n",
       "</div>"
      ],
      "text/plain": [
       "    Continent            Country  Year  GDP_Per_Capita ISO Code    Age  \\\n",
       "62     Africa  Equatorial Guinea  2011    34622.116266      226  15-49   \n",
       "109    Africa              Libya  2007    28600.429374      434  15-49   \n",
       "69     Africa              Gabon  2000    17822.492238      266  15-49   \n",
       "68     Africa              Gabon  2012    16225.387524      266  15-49   \n",
       "120    Africa          Mauritius  2002    11673.664012      480  15-49   \n",
       "\n",
       "     Unmet_Need_Total Unmet Need: Spacing Unmet Need: Limiting  \\\n",
       "62               34.0                22.0                 12.0   \n",
       "109              27.0                20.0                  7.0   \n",
       "69               27.9                19.7                  8.1   \n",
       "68               26.5                18.7                  7.7   \n",
       "120               3.5                  ..                   ..   \n",
       "\n",
       "              Source  \n",
       "62               DHS  \n",
       "109           PAPFAM  \n",
       "69               DHS  \n",
       "68               DHS  \n",
       "120  National survey  "
      ]
     },
     "execution_count": 192,
     "metadata": {},
     "output_type": "execute_result"
    }
   ],
   "source": [
    "Africa_df_top"
   ]
  },
  {
   "cell_type": "code",
   "execution_count": 193,
   "metadata": {},
   "outputs": [],
   "source": [
    "Africa_df_top=pd.DataFrame({'Country':['Equatorial Guinea','Libya','Gabon','Gabon','Mauritius'], 'Year':['2005','2005','2005','2005','2005'], 'Unmet_Need_Total':['34.0','27.0','27.9','26.5','3.5']})"
   ]
  },
  {
   "cell_type": "code",
   "execution_count": 194,
   "metadata": {},
   "outputs": [
    {
     "data": {
      "text/html": [
       "<div>\n",
       "<style scoped>\n",
       "    .dataframe tbody tr th:only-of-type {\n",
       "        vertical-align: middle;\n",
       "    }\n",
       "\n",
       "    .dataframe tbody tr th {\n",
       "        vertical-align: top;\n",
       "    }\n",
       "\n",
       "    .dataframe thead th {\n",
       "        text-align: right;\n",
       "    }\n",
       "</style>\n",
       "<table border=\"1\" class=\"dataframe\">\n",
       "  <thead>\n",
       "    <tr style=\"text-align: right;\">\n",
       "      <th></th>\n",
       "      <th>Country</th>\n",
       "      <th>Year</th>\n",
       "      <th>Unmet_Need_Total</th>\n",
       "    </tr>\n",
       "  </thead>\n",
       "  <tbody>\n",
       "    <tr>\n",
       "      <td>0</td>\n",
       "      <td>Equatorial Guinea</td>\n",
       "      <td>2005</td>\n",
       "      <td>34.0</td>\n",
       "    </tr>\n",
       "    <tr>\n",
       "      <td>1</td>\n",
       "      <td>Libya</td>\n",
       "      <td>2005</td>\n",
       "      <td>27.0</td>\n",
       "    </tr>\n",
       "    <tr>\n",
       "      <td>2</td>\n",
       "      <td>Gabon</td>\n",
       "      <td>2005</td>\n",
       "      <td>27.9</td>\n",
       "    </tr>\n",
       "    <tr>\n",
       "      <td>3</td>\n",
       "      <td>Gabon</td>\n",
       "      <td>2005</td>\n",
       "      <td>26.5</td>\n",
       "    </tr>\n",
       "    <tr>\n",
       "      <td>4</td>\n",
       "      <td>Mauritius</td>\n",
       "      <td>2005</td>\n",
       "      <td>3.5</td>\n",
       "    </tr>\n",
       "  </tbody>\n",
       "</table>\n",
       "</div>"
      ],
      "text/plain": [
       "             Country  Year Unmet_Need_Total\n",
       "0  Equatorial Guinea  2005             34.0\n",
       "1              Libya  2005             27.0\n",
       "2              Gabon  2005             27.9\n",
       "3              Gabon  2005             26.5\n",
       "4          Mauritius  2005              3.5"
      ]
     },
     "execution_count": 194,
     "metadata": {},
     "output_type": "execute_result"
    }
   ],
   "source": [
    "Africa_df_top"
   ]
  },
  {
   "cell_type": "code",
   "execution_count": 195,
   "metadata": {},
   "outputs": [],
   "source": [
    "Africa_df_top_list=Africa_df_top.Country.tolist()"
   ]
  },
  {
   "cell_type": "code",
   "execution_count": 196,
   "metadata": {},
   "outputs": [
    {
     "data": {
      "text/plain": [
       "['Equatorial Guinea', 'Libya', 'Gabon', 'Gabon', 'Mauritius']"
      ]
     },
     "execution_count": 196,
     "metadata": {},
     "output_type": "execute_result"
    }
   ],
   "source": [
    "Africa_df_top_list"
   ]
  },
  {
   "cell_type": "code",
   "execution_count": 197,
   "metadata": {},
   "outputs": [],
   "source": [
    "Africa_Facet=Africa_df.loc[Africa_df.GDP_Per_Capita.isin(Africa_df_top)]"
   ]
  },
  {
   "cell_type": "code",
   "execution_count": 198,
   "metadata": {},
   "outputs": [
    {
     "data": {
      "text/html": [
       "<div>\n",
       "<style scoped>\n",
       "    .dataframe tbody tr th:only-of-type {\n",
       "        vertical-align: middle;\n",
       "    }\n",
       "\n",
       "    .dataframe tbody tr th {\n",
       "        vertical-align: top;\n",
       "    }\n",
       "\n",
       "    .dataframe thead th {\n",
       "        text-align: right;\n",
       "    }\n",
       "</style>\n",
       "<table border=\"1\" class=\"dataframe\">\n",
       "  <thead>\n",
       "    <tr style=\"text-align: right;\">\n",
       "      <th></th>\n",
       "      <th>Continent</th>\n",
       "      <th>Country</th>\n",
       "      <th>Year</th>\n",
       "      <th>GDP_Per_Capita</th>\n",
       "      <th>ISO Code</th>\n",
       "      <th>Age</th>\n",
       "      <th>Unmet_Need_Total</th>\n",
       "      <th>Unmet Need: Spacing</th>\n",
       "      <th>Unmet Need: Limiting</th>\n",
       "      <th>Source</th>\n",
       "    </tr>\n",
       "  </thead>\n",
       "  <tbody>\n",
       "  </tbody>\n",
       "</table>\n",
       "</div>"
      ],
      "text/plain": [
       "Empty DataFrame\n",
       "Columns: [Continent, Country, Year, GDP_Per_Capita, ISO Code, Age, Unmet_Need_Total, Unmet Need: Spacing, Unmet Need: Limiting, Source]\n",
       "Index: []"
      ]
     },
     "execution_count": 198,
     "metadata": {},
     "output_type": "execute_result"
    }
   ],
   "source": [
    "Africa_Facet.head()"
   ]
  },
  {
   "cell_type": "code",
   "execution_count": 199,
   "metadata": {},
   "outputs": [
    {
     "ename": "AttributeError",
     "evalue": "'Series' object has no attribute 'GDP_Per_Capita'",
     "output_type": "error",
     "traceback": [
      "\u001b[0;31m---------------------------------------------------------------------------\u001b[0m",
      "\u001b[0;31mAttributeError\u001b[0m                            Traceback (most recent call last)",
      "\u001b[0;32m<ipython-input-199-da24e1f937b6>\u001b[0m in \u001b[0;36m<module>\u001b[0;34m\u001b[0m\n\u001b[1;32m      5\u001b[0m \u001b[0;32mfor\u001b[0m \u001b[0mindex\u001b[0m\u001b[0;34m,\u001b[0m \u001b[0mrows\u001b[0m \u001b[0;32min\u001b[0m \u001b[0mAfrica_df_top\u001b[0m\u001b[0;34m.\u001b[0m\u001b[0miterrows\u001b[0m\u001b[0;34m(\u001b[0m\u001b[0;34m)\u001b[0m\u001b[0;34m:\u001b[0m\u001b[0;34m\u001b[0m\u001b[0;34m\u001b[0m\u001b[0m\n\u001b[1;32m      6\u001b[0m     \u001b[0;31m# Create list for the current row\u001b[0m\u001b[0;34m\u001b[0m\u001b[0;34m\u001b[0m\u001b[0;34m\u001b[0m\u001b[0m\n\u001b[0;32m----> 7\u001b[0;31m     \u001b[0mc_list\u001b[0m \u001b[0;34m=\u001b[0m\u001b[0;34m[\u001b[0m\u001b[0mrows\u001b[0m\u001b[0;34m.\u001b[0m\u001b[0mCountry\u001b[0m\u001b[0;34m,\u001b[0m \u001b[0mrows\u001b[0m\u001b[0;34m.\u001b[0m\u001b[0mGDP_Per_Capita\u001b[0m\u001b[0;34m,\u001b[0m \u001b[0mrows\u001b[0m\u001b[0;34m.\u001b[0m\u001b[0mUnmet_Need_Total\u001b[0m\u001b[0;34m]\u001b[0m\u001b[0;34m\u001b[0m\u001b[0;34m\u001b[0m\u001b[0m\n\u001b[0m\u001b[1;32m      8\u001b[0m \u001b[0;34m\u001b[0m\u001b[0m\n\u001b[1;32m      9\u001b[0m     \u001b[0;31m# append the list to the final list\u001b[0m\u001b[0;34m\u001b[0m\u001b[0;34m\u001b[0m\u001b[0;34m\u001b[0m\u001b[0m\n",
      "\u001b[0;32m//anaconda3/lib/python3.7/site-packages/pandas/core/generic.py\u001b[0m in \u001b[0;36m__getattr__\u001b[0;34m(self, name)\u001b[0m\n\u001b[1;32m   5177\u001b[0m             \u001b[0;32mif\u001b[0m \u001b[0mself\u001b[0m\u001b[0;34m.\u001b[0m\u001b[0m_info_axis\u001b[0m\u001b[0;34m.\u001b[0m\u001b[0m_can_hold_identifiers_and_holds_name\u001b[0m\u001b[0;34m(\u001b[0m\u001b[0mname\u001b[0m\u001b[0;34m)\u001b[0m\u001b[0;34m:\u001b[0m\u001b[0;34m\u001b[0m\u001b[0;34m\u001b[0m\u001b[0m\n\u001b[1;32m   5178\u001b[0m                 \u001b[0;32mreturn\u001b[0m \u001b[0mself\u001b[0m\u001b[0;34m[\u001b[0m\u001b[0mname\u001b[0m\u001b[0;34m]\u001b[0m\u001b[0;34m\u001b[0m\u001b[0;34m\u001b[0m\u001b[0m\n\u001b[0;32m-> 5179\u001b[0;31m             \u001b[0;32mreturn\u001b[0m \u001b[0mobject\u001b[0m\u001b[0;34m.\u001b[0m\u001b[0m__getattribute__\u001b[0m\u001b[0;34m(\u001b[0m\u001b[0mself\u001b[0m\u001b[0;34m,\u001b[0m \u001b[0mname\u001b[0m\u001b[0;34m)\u001b[0m\u001b[0;34m\u001b[0m\u001b[0;34m\u001b[0m\u001b[0m\n\u001b[0m\u001b[1;32m   5180\u001b[0m \u001b[0;34m\u001b[0m\u001b[0m\n\u001b[1;32m   5181\u001b[0m     \u001b[0;32mdef\u001b[0m \u001b[0m__setattr__\u001b[0m\u001b[0;34m(\u001b[0m\u001b[0mself\u001b[0m\u001b[0;34m,\u001b[0m \u001b[0mname\u001b[0m\u001b[0;34m,\u001b[0m \u001b[0mvalue\u001b[0m\u001b[0;34m)\u001b[0m\u001b[0;34m:\u001b[0m\u001b[0;34m\u001b[0m\u001b[0;34m\u001b[0m\u001b[0m\n",
      "\u001b[0;31mAttributeError\u001b[0m: 'Series' object has no attribute 'GDP_Per_Capita'"
     ]
    }
   ],
   "source": [
    "# Create an empty list \n",
    "c_list =[] \n",
    "  \n",
    "# Iterate over each row \n",
    "for index, rows in Africa_df_top.iterrows(): \n",
    "    # Create list for the current row \n",
    "    c_list =[rows.Country, rows.GDP_Per_Capita, rows.Unmet_Need_Total] \n",
    "      \n",
    "    # append the list to the final list \n",
    "    c_list.append(c_list) \n",
    "  \n",
    "# Print the list \n",
    "print(c_list) "
   ]
  },
  {
   "cell_type": "code",
   "execution_count": null,
   "metadata": {},
   "outputs": [],
   "source": [
    "c_graph=sns.FacetGrid(Africa_df, col='Country', hue = 'Country')\n",
    "c_graph.map(plt.plot, \"GDP_Per_Capita\",\"Unmet_Need_Total\");\n"
   ]
  },
  {
   "cell_type": "code",
   "execution_count": null,
   "metadata": {},
   "outputs": [],
   "source": []
  }
 ],
 "metadata": {
  "kernelspec": {
   "display_name": "Python 3",
   "language": "python",
   "name": "python3"
  },
  "language_info": {
   "codemirror_mode": {
    "name": "ipython",
    "version": 3
   },
   "file_extension": ".py",
   "mimetype": "text/x-python",
   "name": "python",
   "nbconvert_exporter": "python",
   "pygments_lexer": "ipython3",
   "version": "3.7.3"
  }
 },
 "nbformat": 4,
 "nbformat_minor": 2
}
